{
 "cells": [
  {
   "cell_type": "markdown",
   "metadata": {},
   "source": [
    "# Mod 5 Final Project"
   ]
  },
  {
   "cell_type": "markdown",
   "metadata": {},
   "source": [
    "Jeremy Owens"
   ]
  },
  {
   "cell_type": "markdown",
   "metadata": {},
   "source": [
    "Import necessary libraries"
   ]
  },
  {
   "cell_type": "code",
   "execution_count": 1,
   "metadata": {},
   "outputs": [],
   "source": [
    "import pandas as pd\n",
    "import numpy as np\n",
    "import matplotlib.pyplot as plt\n",
    "import seaborn as sns\n",
    "import warnings\n",
    "import os\n",
    "os.environ['KMP_DUPLICATE_LIB_OK']='True'\n",
    "\n",
    "from sklearn.preprocessing import StandardScaler\n",
    "from sklearn.model_selection import train_test_split, cross_val_score, GridSearchCV\n",
    "from sklearn.decomposition import PCA\n",
    "from sklearn.linear_model import LogisticRegression\n",
    "from sklearn.neighbors import KNeighborsClassifier\n",
    "from sklearn.ensemble import RandomForestClassifier\n",
    "from sklearn.svm import SVC\n",
    "from xgboost import XGBClassifier\n",
    "from sklearn.metrics import classification_report, confusion_matrix , accuracy_score, f1_score, roc_curve, auc\n",
    "\n",
    "%matplotlib inline"
   ]
  },
  {
   "cell_type": "markdown",
   "metadata": {},
   "source": [
    "## Data Cleaning / EDA"
   ]
  },
  {
   "cell_type": "markdown",
   "metadata": {},
   "source": [
    "We begin our process by reading in the 2016 School Explorer Dataset and eliminating a variety of columns that are not useful to our analysis"
   ]
  },
  {
   "cell_type": "code",
   "execution_count": 2,
   "metadata": {
    "scrolled": true
   },
   "outputs": [],
   "source": [
    "schools_df = pd.read_csv('2016 School Explorer.csv')\n",
    "cols_to_drop = ['Adjusted Grade', \n",
    "                'New?', \n",
    "                'Other Location Code in LCGMS',\n",
    "                'School Name',\n",
    "                'District',\n",
    "                'SED Code', \n",
    "                'Latitude', \n",
    "                'Longitude',\n",
    "                'Address (Full)',\n",
    "                'City',\n",
    "                'Zip',\n",
    "                'Grades',\n",
    "                'Rigorous Instruction Rating',\n",
    "                'Collaborative Teachers Rating',\n",
    "                'Supportive Environment Rating',\n",
    "                'Effective School Leadership Rating',\n",
    "                'Strong Family-Community Ties Rating',\n",
    "                'Trust Rating',\n",
    "                'School Income Estimate',\n",
    "                'Average ELA Proficiency',\n",
    "                'Community School?',\n",
    "                'Grade 3 ELA - All Students Tested',\n",
    "                'Grade 3 ELA 4s - All Students',\n",
    "                'Grade 3 ELA 4s - American Indian or Alaska Native',\n",
    "                'Grade 3 ELA 4s - Black or African American',\n",
    "                'Grade 3 ELA 4s - Hispanic or Latino',\n",
    "                'Grade 3 ELA 4s - Asian or Pacific Islander',\n",
    "                'Grade 3 ELA 4s - White',\n",
    "                'Grade 3 ELA 4s - Multiracial',\n",
    "                'Grade 3 ELA 4s - Limited English Proficient',\n",
    "                'Grade 3 ELA 4s - Economically Disadvantaged',\n",
    "                'Grade 3 Math - All Students tested',\n",
    "                'Grade 3 Math 4s - All Students',\n",
    "                'Grade 3 Math 4s - American Indian or Alaska Native',\n",
    "                'Grade 3 Math 4s - Black or African American',\n",
    "                'Grade 3 Math 4s - Hispanic or Latino',\n",
    "                'Grade 3 Math 4s - Asian or Pacific Islander',\n",
    "                'Grade 3 Math 4s - White',\n",
    "                'Grade 3 Math 4s - Multiracial',\n",
    "                'Grade 3 Math 4s - Limited English Proficient',\n",
    "                'Grade 3 Math 4s - Economically Disadvantaged',\n",
    "                'Grade 4 ELA - All Students Tested',\n",
    "                'Grade 4 ELA 4s - All Students',\n",
    "                'Grade 4 ELA 4s - American Indian or Alaska Native',\n",
    "                'Grade 4 ELA 4s - Black or African American',\n",
    "                'Grade 4 ELA 4s - Hispanic or Latino',\n",
    "                'Grade 4 ELA 4s - Asian or Pacific Islander',\n",
    "                'Grade 4 ELA 4s - White',\n",
    "                'Grade 4 ELA 4s - Multiracial',\n",
    "                'Grade 4 ELA 4s - Limited English Proficient',\n",
    "                'Grade 4 ELA 4s - Economically Disadvantaged',\n",
    "                'Grade 4 Math - All Students Tested',\n",
    "                'Grade 4 Math 4s - All Students',\n",
    "                'Grade 4 Math 4s - American Indian or Alaska Native',\n",
    "                'Grade 4 Math 4s - Black or African American',\n",
    "                'Grade 4 Math 4s - Hispanic or Latino',\n",
    "                'Grade 4 Math 4s - Asian or Pacific Islander',\n",
    "                'Grade 4 Math 4s - White',\n",
    "                'Grade 4 Math 4s - Multiracial',\n",
    "                'Grade 4 Math 4s - Limited English Proficient',\n",
    "                'Grade 4 Math 4s - Economically Disadvantaged',\n",
    "                'Grade 5 ELA - All Students Tested',\n",
    "                'Grade 5 ELA 4s - All Students',\n",
    "                'Grade 5 ELA 4s - American Indian or Alaska Native',\n",
    "                'Grade 5 ELA 4s - Black or African American',\n",
    "                'Grade 5 ELA 4s - Hispanic or Latino',\n",
    "                'Grade 5 ELA 4s - Asian or Pacific Islander',\n",
    "                'Grade 5 ELA 4s - White',\n",
    "                'Grade 5 ELA 4s - Multiracial',\n",
    "                'Grade 5 ELA 4s - Limited English Proficient',\n",
    "                'Grade 5 ELA 4s - Economically Disadvantaged',\n",
    "                'Grade 5 Math - All Students Tested',\n",
    "                'Grade 5 Math 4s - All Students',\n",
    "                'Grade 5 Math 4s - American Indian or Alaska Native',\n",
    "                'Grade 5 Math 4s - Black or African American',\n",
    "                'Grade 5 Math 4s - Hispanic or Latino',\n",
    "                'Grade 5 Math 4s - Asian or Pacific Islander',\n",
    "                'Grade 5 Math 4s - White',\n",
    "                'Grade 5 Math 4s - Multiracial',\n",
    "                'Grade 5 Math 4s - Limited English Proficient',\n",
    "                'Grade 5 Math 4s - Economically Disadvantaged',\n",
    "                'Grade 6 ELA - All Students Tested',\n",
    "                'Grade 6 ELA 4s - All Students',\n",
    "                'Grade 6 ELA 4s - American Indian or Alaska Native',\n",
    "                'Grade 6 ELA 4s - Black or African American',\n",
    "                'Grade 6 ELA 4s - Hispanic or Latino',\n",
    "                'Grade 6 ELA 4s - Asian or Pacific Islander',\n",
    "                'Grade 6 ELA 4s - White',\n",
    "                'Grade 6 ELA 4s - Multiracial',\n",
    "                'Grade 6 ELA 4s - Limited English Proficient',\n",
    "                'Grade 6 ELA 4s - Economically Disadvantaged',\n",
    "                'Grade 6 Math - All Students Tested',\n",
    "                'Grade 6 Math 4s - All Students',\n",
    "                'Grade 6 Math 4s - American Indian or Alaska Native',\n",
    "                'Grade 6 Math 4s - Black or African American',\n",
    "                'Grade 6 Math 4s - Hispanic or Latino',\n",
    "                'Grade 6 Math 4s - Asian or Pacific Islander',\n",
    "                'Grade 6 Math 4s - White',\n",
    "                'Grade 6 Math 4s - Multiracial',\n",
    "                'Grade 6 Math 4s - Limited English Proficient',\n",
    "                'Grade 6 Math 4s - Economically Disadvantaged',\n",
    "                'Grade 7 ELA - All Students Tested',\n",
    "                'Grade 7 ELA 4s - All Students',\n",
    "                'Grade 7 ELA 4s - American Indian or Alaska Native',\n",
    "                'Grade 7 ELA 4s - Black or African American',\n",
    "                'Grade 7 ELA 4s - Hispanic or Latino',\n",
    "                'Grade 7 ELA 4s - Asian or Pacific Islander',\n",
    "                'Grade 7 ELA 4s - White',\n",
    "                'Grade 7 ELA 4s - Multiracial',\n",
    "                'Grade 7 ELA 4s - Limited English Proficient',\n",
    "                'Grade 7 ELA 4s - Economically Disadvantaged',\n",
    "                'Grade 7 Math - All Students Tested',\n",
    "                'Grade 7 Math 4s - All Students',\n",
    "                'Grade 7 Math 4s - American Indian or Alaska Native',\n",
    "                'Grade 7 Math 4s - Black or African American',\n",
    "                'Grade 7 Math 4s - Hispanic or Latino',\n",
    "                'Grade 7 Math 4s - Asian or Pacific Islander',\n",
    "                'Grade 7 Math 4s - White',\n",
    "                'Grade 7 Math 4s - Multiracial',\n",
    "                'Grade 7 Math 4s - Limited English Proficient',\n",
    "                'Grade 7 Math 4s - Economically Disadvantaged',\n",
    "                'Grade 8 ELA - All Students Tested',\n",
    "                'Grade 8 ELA 4s - All Students',\n",
    "                'Grade 8 ELA 4s - American Indian or Alaska Native',\n",
    "                'Grade 8 ELA 4s - Black or African American',\n",
    "                'Grade 8 ELA 4s - Hispanic or Latino',\n",
    "                'Grade 8 ELA 4s - Asian or Pacific Islander',\n",
    "                'Grade 8 ELA 4s - White',\n",
    "                'Grade 8 ELA 4s - Multiracial',\n",
    "                'Grade 8 ELA 4s - Limited English Proficient',\n",
    "                'Grade 8 ELA 4s - Economically Disadvantaged',\n",
    "                'Grade 8 Math - All Students Tested',\n",
    "                'Grade 8 Math 4s - All Students',\n",
    "                'Grade 8 Math 4s - American Indian or Alaska Native',\n",
    "                'Grade 8 Math 4s - Black or African American',\n",
    "                'Grade 8 Math 4s - Hispanic or Latino',\n",
    "                'Grade 8 Math 4s - Asian or Pacific Islander',\n",
    "                'Grade 8 Math 4s - White',\n",
    "                'Grade 8 Math 4s - Multiracial',\n",
    "                'Grade 8 Math 4s - Limited English Proficient',\n",
    "                'Grade 8 Math 4s - Economically Disadvantaged'\n",
    "                ]\n",
    "schools_df.drop(cols_to_drop, axis=1, inplace=True)"
   ]
  },
  {
   "cell_type": "code",
   "execution_count": 3,
   "metadata": {},
   "outputs": [],
   "source": [
    "def acheivement_score(rating):\n",
    "    '''\n",
    "    Takes the rating passed to it and returns an integer\n",
    "    value representing how school meets target goals\n",
    "    '''\n",
    "    if rating == 'Exceeding Target':\n",
    "        return 4\n",
    "    if rating == 'Meeting Target':\n",
    "        return 3\n",
    "    if rating == 'Approaching Target':\n",
    "        return 2\n",
    "    if rating == 'Not Meeting Target':\n",
    "        return 1\n",
    "    else:\n",
    "        return None"
   ]
  },
  {
   "cell_type": "code",
   "execution_count": 4,
   "metadata": {},
   "outputs": [],
   "source": [
    "def percent_cols_to_float(df):\n",
    "    '''\n",
    "    For any dataframe passed in, returns a new dataframe where\n",
    "    values are floats between 0 and 1 representing the respective\n",
    "    rate or percent in that column\n",
    "    '''\n",
    "    for col in df.columns:\n",
    "        if 'Rate' in col or 'Percent' in col or '%' in col:\n",
    "            df[col] = df[col].apply(lambda x: float(x.replace('%',''))*.01)\n",
    "    return df"
   ]
  },
  {
   "cell_type": "code",
   "execution_count": 5,
   "metadata": {},
   "outputs": [],
   "source": [
    "def make_grades_int(grade):\n",
    "    '''\n",
    "    Takes a grade and returns an integer representative of that \n",
    "    grade in the school system\n",
    "    '''\n",
    "    if grade == 'PK':\n",
    "        return -1\n",
    "    elif grade == '0K':\n",
    "        return 0\n",
    "    else:\n",
    "        return int(grade)"
   ]
  },
  {
   "cell_type": "code",
   "execution_count": 6,
   "metadata": {},
   "outputs": [],
   "source": [
    "schools_df['Student Achievement Rating'] = schools_df['Student Achievement Rating'].apply(lambda x: acheivement_score(x))\n",
    "schools_df['Student Achievement Rating'].fillna(schools_df['Student Achievement Rating'].median(), inplace=True)"
   ]
  },
  {
   "cell_type": "code",
   "execution_count": 7,
   "metadata": {},
   "outputs": [],
   "source": [
    "schools_df.dropna(inplace=True)"
   ]
  },
  {
   "cell_type": "code",
   "execution_count": 8,
   "metadata": {},
   "outputs": [],
   "source": [
    "schools_df = percent_cols_to_float(schools_df)"
   ]
  },
  {
   "cell_type": "code",
   "execution_count": 9,
   "metadata": {},
   "outputs": [],
   "source": [
    "races_to_drop = ['Percent ELL',\n",
    "                 'Percent Asian',\n",
    "                 'Percent Black',\n",
    "                 'Percent Hispanic',\n",
    "                 'Percent Black / Hispanic',\n",
    "                 'Percent White']\n",
    "race_df = schools_df[['Location Code'] + races_to_drop].set_index('Location Code')\n",
    "schools_df = schools_df.drop(races_to_drop, axis=1).set_index('Location Code')"
   ]
  },
  {
   "cell_type": "code",
   "execution_count": 10,
   "metadata": {},
   "outputs": [],
   "source": [
    "schools_df['Grade Low'] = schools_df['Grade Low'].apply(lambda x: make_grades_int(x))\n",
    "schools_df['Grade High'] = schools_df['Grade High'].apply(lambda x: make_grades_int(x))\n",
    "schools_df['Grade_range'] = schools_df['Grade High'] - schools_df['Grade Low']\n",
    "schools_df.drop(['Grade Low', 'Grade High'], axis=1, inplace=True)"
   ]
  },
  {
   "cell_type": "markdown",
   "metadata": {},
   "source": [
    "### Incorportation of Additional Data"
   ]
  },
  {
   "cell_type": "markdown",
   "metadata": {},
   "source": [
    "Importing the Pupil to Teacher dataset for joining to main dataset"
   ]
  },
  {
   "cell_type": "code",
   "execution_count": 11,
   "metadata": {},
   "outputs": [],
   "source": [
    "pupil_teacher_ratio_df = pd.read_csv('2015_-_2016_Final_Class_Size_Report_Pupil-to-Teacher_Ratio__PTR_.csv')\n",
    "pupil_teacher_ratio_df = pupil_teacher_ratio_df.drop('School Name', axis=1).set_index('DBN')"
   ]
  },
  {
   "cell_type": "code",
   "execution_count": 12,
   "metadata": {},
   "outputs": [],
   "source": [
    "joined_df = schools_df.join(pupil_teacher_ratio_df)"
   ]
  },
  {
   "cell_type": "code",
   "execution_count": 13,
   "metadata": {},
   "outputs": [
    {
     "name": "stdout",
     "output_type": "stream",
     "text": [
      "<class 'pandas.core.frame.DataFrame'>\n",
      "Index: 1217 entries, 01M015 to 84X730\n",
      "Data columns (total 13 columns):\n",
      "Economic Need Index                       1217 non-null float64\n",
      "Student Attendance Rate                   1217 non-null float64\n",
      "Percent of Students Chronically Absent    1217 non-null float64\n",
      "Rigorous Instruction %                    1217 non-null float64\n",
      "Collaborative Teachers %                  1217 non-null float64\n",
      "Supportive Environment %                  1217 non-null float64\n",
      "Effective School Leadership %             1217 non-null float64\n",
      "Strong Family-Community Ties %            1217 non-null float64\n",
      "Trust %                                   1217 non-null float64\n",
      "Student Achievement Rating                1217 non-null float64\n",
      "Average Math Proficiency                  1217 non-null float64\n",
      "Grade_range                               1217 non-null int64\n",
      "School Pupil-Teacher Ratio                1083 non-null float64\n",
      "dtypes: float64(12), int64(1)\n",
      "memory usage: 173.1+ KB\n"
     ]
    },
    {
     "data": {
      "text/plain": [
       "None"
      ]
     },
     "metadata": {},
     "output_type": "display_data"
    },
    {
     "data": {
      "text/html": [
       "<div>\n",
       "<style scoped>\n",
       "    .dataframe tbody tr th:only-of-type {\n",
       "        vertical-align: middle;\n",
       "    }\n",
       "\n",
       "    .dataframe tbody tr th {\n",
       "        vertical-align: top;\n",
       "    }\n",
       "\n",
       "    .dataframe thead th {\n",
       "        text-align: right;\n",
       "    }\n",
       "</style>\n",
       "<table border=\"1\" class=\"dataframe\">\n",
       "  <thead>\n",
       "    <tr style=\"text-align: right;\">\n",
       "      <th></th>\n",
       "      <th>Economic Need Index</th>\n",
       "      <th>Student Attendance Rate</th>\n",
       "      <th>Percent of Students Chronically Absent</th>\n",
       "      <th>Rigorous Instruction %</th>\n",
       "      <th>Collaborative Teachers %</th>\n",
       "      <th>Supportive Environment %</th>\n",
       "      <th>Effective School Leadership %</th>\n",
       "      <th>Strong Family-Community Ties %</th>\n",
       "      <th>Trust %</th>\n",
       "      <th>Student Achievement Rating</th>\n",
       "      <th>Average Math Proficiency</th>\n",
       "      <th>Grade_range</th>\n",
       "      <th>School Pupil-Teacher Ratio</th>\n",
       "    </tr>\n",
       "    <tr>\n",
       "      <th>Location Code</th>\n",
       "      <th></th>\n",
       "      <th></th>\n",
       "      <th></th>\n",
       "      <th></th>\n",
       "      <th></th>\n",
       "      <th></th>\n",
       "      <th></th>\n",
       "      <th></th>\n",
       "      <th></th>\n",
       "      <th></th>\n",
       "      <th></th>\n",
       "      <th></th>\n",
       "      <th></th>\n",
       "    </tr>\n",
       "  </thead>\n",
       "  <tbody>\n",
       "    <tr>\n",
       "      <th>01M015</th>\n",
       "      <td>0.919</td>\n",
       "      <td>0.94</td>\n",
       "      <td>0.18</td>\n",
       "      <td>0.89</td>\n",
       "      <td>0.94</td>\n",
       "      <td>0.86</td>\n",
       "      <td>0.91</td>\n",
       "      <td>0.85</td>\n",
       "      <td>0.94</td>\n",
       "      <td>2.0</td>\n",
       "      <td>2.17</td>\n",
       "      <td>6</td>\n",
       "      <td>9.2</td>\n",
       "    </tr>\n",
       "    <tr>\n",
       "      <th>01M019</th>\n",
       "      <td>0.641</td>\n",
       "      <td>0.92</td>\n",
       "      <td>0.30</td>\n",
       "      <td>0.96</td>\n",
       "      <td>0.96</td>\n",
       "      <td>0.97</td>\n",
       "      <td>0.90</td>\n",
       "      <td>0.86</td>\n",
       "      <td>0.94</td>\n",
       "      <td>4.0</td>\n",
       "      <td>2.98</td>\n",
       "      <td>6</td>\n",
       "      <td>7.0</td>\n",
       "    </tr>\n",
       "    <tr>\n",
       "      <th>01M020</th>\n",
       "      <td>0.744</td>\n",
       "      <td>0.94</td>\n",
       "      <td>0.20</td>\n",
       "      <td>0.87</td>\n",
       "      <td>0.77</td>\n",
       "      <td>0.82</td>\n",
       "      <td>0.61</td>\n",
       "      <td>0.80</td>\n",
       "      <td>0.79</td>\n",
       "      <td>2.0</td>\n",
       "      <td>2.54</td>\n",
       "      <td>6</td>\n",
       "      <td>13.3</td>\n",
       "    </tr>\n",
       "    <tr>\n",
       "      <th>01M034</th>\n",
       "      <td>0.860</td>\n",
       "      <td>0.92</td>\n",
       "      <td>0.28</td>\n",
       "      <td>0.85</td>\n",
       "      <td>0.78</td>\n",
       "      <td>0.82</td>\n",
       "      <td>0.73</td>\n",
       "      <td>0.89</td>\n",
       "      <td>0.88</td>\n",
       "      <td>4.0</td>\n",
       "      <td>2.47</td>\n",
       "      <td>9</td>\n",
       "      <td>10.9</td>\n",
       "    </tr>\n",
       "    <tr>\n",
       "      <th>01M063</th>\n",
       "      <td>0.730</td>\n",
       "      <td>0.93</td>\n",
       "      <td>0.23</td>\n",
       "      <td>0.90</td>\n",
       "      <td>0.88</td>\n",
       "      <td>0.87</td>\n",
       "      <td>0.81</td>\n",
       "      <td>0.89</td>\n",
       "      <td>0.93</td>\n",
       "      <td>3.0</td>\n",
       "      <td>2.54</td>\n",
       "      <td>6</td>\n",
       "      <td>10.6</td>\n",
       "    </tr>\n",
       "  </tbody>\n",
       "</table>\n",
       "</div>"
      ],
      "text/plain": [
       "               Economic Need Index  Student Attendance Rate  \\\n",
       "Location Code                                                 \n",
       "01M015                       0.919                     0.94   \n",
       "01M019                       0.641                     0.92   \n",
       "01M020                       0.744                     0.94   \n",
       "01M034                       0.860                     0.92   \n",
       "01M063                       0.730                     0.93   \n",
       "\n",
       "               Percent of Students Chronically Absent  Rigorous Instruction %  \\\n",
       "Location Code                                                                   \n",
       "01M015                                           0.18                    0.89   \n",
       "01M019                                           0.30                    0.96   \n",
       "01M020                                           0.20                    0.87   \n",
       "01M034                                           0.28                    0.85   \n",
       "01M063                                           0.23                    0.90   \n",
       "\n",
       "               Collaborative Teachers %  Supportive Environment %  \\\n",
       "Location Code                                                       \n",
       "01M015                             0.94                      0.86   \n",
       "01M019                             0.96                      0.97   \n",
       "01M020                             0.77                      0.82   \n",
       "01M034                             0.78                      0.82   \n",
       "01M063                             0.88                      0.87   \n",
       "\n",
       "               Effective School Leadership %  Strong Family-Community Ties %  \\\n",
       "Location Code                                                                  \n",
       "01M015                                  0.91                            0.85   \n",
       "01M019                                  0.90                            0.86   \n",
       "01M020                                  0.61                            0.80   \n",
       "01M034                                  0.73                            0.89   \n",
       "01M063                                  0.81                            0.89   \n",
       "\n",
       "               Trust %  Student Achievement Rating  Average Math Proficiency  \\\n",
       "Location Code                                                                  \n",
       "01M015            0.94                         2.0                      2.17   \n",
       "01M019            0.94                         4.0                      2.98   \n",
       "01M020            0.79                         2.0                      2.54   \n",
       "01M034            0.88                         4.0                      2.47   \n",
       "01M063            0.93                         3.0                      2.54   \n",
       "\n",
       "               Grade_range  School Pupil-Teacher Ratio  \n",
       "Location Code                                           \n",
       "01M015                   6                         9.2  \n",
       "01M019                   6                         7.0  \n",
       "01M020                   6                        13.3  \n",
       "01M034                   9                        10.9  \n",
       "01M063                   6                        10.6  "
      ]
     },
     "metadata": {},
     "output_type": "display_data"
    },
    {
     "data": {
      "text/html": [
       "<div>\n",
       "<style scoped>\n",
       "    .dataframe tbody tr th:only-of-type {\n",
       "        vertical-align: middle;\n",
       "    }\n",
       "\n",
       "    .dataframe tbody tr th {\n",
       "        vertical-align: top;\n",
       "    }\n",
       "\n",
       "    .dataframe thead th {\n",
       "        text-align: right;\n",
       "    }\n",
       "</style>\n",
       "<table border=\"1\" class=\"dataframe\">\n",
       "  <thead>\n",
       "    <tr style=\"text-align: right;\">\n",
       "      <th></th>\n",
       "      <th>Percent ELL</th>\n",
       "      <th>Percent Asian</th>\n",
       "      <th>Percent Black</th>\n",
       "      <th>Percent Hispanic</th>\n",
       "      <th>Percent Black / Hispanic</th>\n",
       "      <th>Percent White</th>\n",
       "    </tr>\n",
       "    <tr>\n",
       "      <th>Location Code</th>\n",
       "      <th></th>\n",
       "      <th></th>\n",
       "      <th></th>\n",
       "      <th></th>\n",
       "      <th></th>\n",
       "      <th></th>\n",
       "    </tr>\n",
       "  </thead>\n",
       "  <tbody>\n",
       "    <tr>\n",
       "      <th>01M015</th>\n",
       "      <td>0.09</td>\n",
       "      <td>0.05</td>\n",
       "      <td>0.32</td>\n",
       "      <td>0.60</td>\n",
       "      <td>0.92</td>\n",
       "      <td>0.01</td>\n",
       "    </tr>\n",
       "    <tr>\n",
       "      <th>01M019</th>\n",
       "      <td>0.05</td>\n",
       "      <td>0.10</td>\n",
       "      <td>0.20</td>\n",
       "      <td>0.63</td>\n",
       "      <td>0.83</td>\n",
       "      <td>0.06</td>\n",
       "    </tr>\n",
       "    <tr>\n",
       "      <th>01M020</th>\n",
       "      <td>0.15</td>\n",
       "      <td>0.35</td>\n",
       "      <td>0.08</td>\n",
       "      <td>0.49</td>\n",
       "      <td>0.57</td>\n",
       "      <td>0.04</td>\n",
       "    </tr>\n",
       "    <tr>\n",
       "      <th>01M034</th>\n",
       "      <td>0.07</td>\n",
       "      <td>0.05</td>\n",
       "      <td>0.29</td>\n",
       "      <td>0.63</td>\n",
       "      <td>0.92</td>\n",
       "      <td>0.04</td>\n",
       "    </tr>\n",
       "    <tr>\n",
       "      <th>01M063</th>\n",
       "      <td>0.03</td>\n",
       "      <td>0.04</td>\n",
       "      <td>0.20</td>\n",
       "      <td>0.65</td>\n",
       "      <td>0.84</td>\n",
       "      <td>0.10</td>\n",
       "    </tr>\n",
       "  </tbody>\n",
       "</table>\n",
       "</div>"
      ],
      "text/plain": [
       "               Percent ELL  Percent Asian  Percent Black  Percent Hispanic  \\\n",
       "Location Code                                                                \n",
       "01M015                0.09           0.05           0.32              0.60   \n",
       "01M019                0.05           0.10           0.20              0.63   \n",
       "01M020                0.15           0.35           0.08              0.49   \n",
       "01M034                0.07           0.05           0.29              0.63   \n",
       "01M063                0.03           0.04           0.20              0.65   \n",
       "\n",
       "               Percent Black / Hispanic  Percent White  \n",
       "Location Code                                           \n",
       "01M015                             0.92           0.01  \n",
       "01M019                             0.83           0.06  \n",
       "01M020                             0.57           0.04  \n",
       "01M034                             0.92           0.04  \n",
       "01M063                             0.84           0.10  "
      ]
     },
     "metadata": {},
     "output_type": "display_data"
    }
   ],
   "source": [
    "display(joined_df.info())\n",
    "display(joined_df.head())\n",
    "display(race_df.head())"
   ]
  },
  {
   "cell_type": "code",
   "execution_count": 14,
   "metadata": {},
   "outputs": [
    {
     "data": {
      "image/png": "[encoded data removed]",
      "text/plain": [
       "<Figure size 864x576 with 1 Axes>"
      ]
     },
     "metadata": {
      "needs_background": "light"
     },
     "output_type": "display_data"
    }
   ],
   "source": [
    "percentage_stats = joined_df.columns[:9]\n",
    "joined_df.dropna()[percentage_stats].boxplot(figsize=(12,8))\n",
    "plt.xticks(rotation=60)\n",
    "plt.show()"
   ]
  },
  {
   "cell_type": "code",
   "execution_count": 72,
   "metadata": {},
   "outputs": [
    {
     "data": {
      "image/png": "[encoded data removed]",
      "text/plain": [
       "<Figure size 864x576 with 1 Axes>"
      ]
     },
     "metadata": {},
     "output_type": "display_data"
    }
   ],
   "source": [
    "warnings.filterwarnings('ignore')\n",
    "final_df = joined_df.dropna()\n",
    "instruction_outliers_indexes = final_df[final_df['Rigorous Instruction %'] == 0].index\n",
    "final_df.drop(instruction_outliers_indexes, inplace=True)\n",
    "percentage_stats = final_df.columns[:9]\n",
    "final_df[percentage_stats].boxplot(figsize=(12,8))\n",
    "plt.xticks(rotation=60)\n",
    "plt.show()"
   ]
  },
  {
   "cell_type": "markdown",
   "metadata": {},
   "source": [
    "No other outliers look especially strange from this box plot, so we then take a glance at the other predictors, make sure nothing else seems out of line."
   ]
  },
  {
   "cell_type": "markdown",
   "metadata": {},
   "source": [
    " "
   ]
  },
  {
   "cell_type": "code",
   "execution_count": 73,
   "metadata": {},
   "outputs": [
    {
     "data": {
      "image/png": "[encoded data removed]",
      "text/plain": [
       "<Figure size 864x576 with 1 Axes>"
      ]
     },
     "metadata": {},
     "output_type": "display_data"
    }
   ],
   "source": [
    "other_stats = final_df.columns[-4:]\n",
    "final_df[other_stats].boxplot(figsize=(12,8))\n",
    "plt.xticks(rotation=60)\n",
    "plt.show()"
   ]
  },
  {
   "cell_type": "markdown",
   "metadata": {},
   "source": [
    " "
   ]
  },
  {
   "cell_type": "markdown",
   "metadata": {},
   "source": [
    "And all looks good here, so we then move on to the formation of the model."
   ]
  },
  {
   "cell_type": "markdown",
   "metadata": {},
   "source": [
    "## Model Formation"
   ]
  },
  {
   "cell_type": "code",
   "execution_count": 74,
   "metadata": {},
   "outputs": [],
   "source": [
    "upper_quartile = final_df['Average Math Proficiency'].quantile(.75)\n",
    "y = final_df['Average Math Proficiency'].apply(lambda x: 1 if x >= upper_quartile else 0)\n",
    "X = final_df.drop('Average Math Proficiency', axis=1)\n",
    "features = X.columns"
   ]
  },
  {
   "cell_type": "code",
   "execution_count": 75,
   "metadata": {},
   "outputs": [],
   "source": [
    "X = StandardScaler().fit_transform(X.astype({'Grade_range': 'float64'}))"
   ]
  },
  {
   "cell_type": "markdown",
   "metadata": {},
   "source": [
    "### PCA Analysis"
   ]
  },
  {
   "cell_type": "markdown",
   "metadata": {},
   "source": [
    "We first do a PCA analysis to determine, of our predictors, which have the greatest bearing on our classification algorithm."
   ]
  },
  {
   "cell_type": "code",
   "execution_count": 76,
   "metadata": {},
   "outputs": [],
   "source": [
    "pca = PCA()\n",
    "principalComponents = pca.fit_transform(X)\n",
    "principalDf = pd.DataFrame(data=principalComponents)"
   ]
  },
  {
   "cell_type": "code",
   "execution_count": 77,
   "metadata": {},
   "outputs": [
    {
     "data": {
      "text/plain": [
       "array([0.3974852 , 0.19656456, 0.11404235, 0.06749327, 0.05960156,\n",
       "       0.04559067, 0.04052775, 0.03527883, 0.02483774, 0.00859648,\n",
       "       0.0067893 , 0.00319229])"
      ]
     },
     "execution_count": 77,
     "metadata": {},
     "output_type": "execute_result"
    }
   ],
   "source": [
    "pca.explained_variance_ratio_"
   ]
  },
  {
   "cell_type": "code",
   "execution_count": 78,
   "metadata": {},
   "outputs": [
    {
     "data": {
      "text/plain": [
       "array([4.77423885, 2.36095877, 1.36977536, 0.81066919, 0.71588091,\n",
       "       0.54759466, 0.48678334, 0.4237379 , 0.2983288 , 0.10325329,\n",
       "       0.08154705, 0.03834299])"
      ]
     },
     "execution_count": 78,
     "metadata": {},
     "output_type": "execute_result"
    }
   ],
   "source": [
    "pca.explained_variance_"
   ]
  },
  {
   "cell_type": "code",
   "execution_count": 79,
   "metadata": {},
   "outputs": [
    {
     "name": "stdout",
     "output_type": "stream",
     "text": [
      "[4.77423885 2.36095877 1.36977536 0.81066919 0.71588091 0.54759466\n",
      " 0.48678334 0.4237379  0.2983288  0.10325329 0.08154705 0.03834299]\n",
      "[ 0.26235727 -0.29516959  0.29961196 -0.33578195 -0.37635581 -0.34665692\n",
      " -0.34930309 -0.23242419 -0.35904892 -0.2056454  -0.05168659 -0.1726288 ]\n"
     ]
    }
   ],
   "source": [
    "eig_values = pca.explained_variance_\n",
    "eig_vectors = pca.components_\n",
    "print(eig_values)\n",
    "print(eig_vectors[0])"
   ]
  },
  {
   "cell_type": "code",
   "execution_count": 80,
   "metadata": {},
   "outputs": [
    {
     "data": {
      "text/plain": [
       "Percent of Students Chronically Absent    0.654653\n",
       "Economic Need Index                       0.573251\n",
       "Grade_range                              -0.112935\n",
       "School Pupil-Teacher Ratio               -0.377194\n",
       "Student Achievement Rating               -0.449336\n",
       "Strong Family-Community Ties %           -0.507848\n",
       "Student Attendance Rate                  -0.644946\n",
       "Rigorous Instruction %                   -0.733685\n",
       "Supportive Environment %                 -0.757446\n",
       "Effective School Leadership %            -0.763228\n",
       "Trust %                                  -0.784523\n",
       "Collaborative Teachers %                 -0.822339\n",
       "dtype: float64"
      ]
     },
     "execution_count": 80,
     "metadata": {},
     "output_type": "execute_result"
    }
   ],
   "source": [
    "structure_loading_1 = eig_vectors[0]* np.sqrt(eig_values[0])\n",
    "str_loading_1 = pd.Series(structure_loading_1, index=features)\n",
    "str_loading_1.sort_values(ascending=False)"
   ]
  },
  {
   "cell_type": "code",
   "execution_count": 81,
   "metadata": {},
   "outputs": [
    {
     "data": {
      "text/plain": [
       "Text(0, 0.5, 'proportion of explained variance')"
      ]
     },
     "execution_count": 81,
     "metadata": {},
     "output_type": "execute_result"
    },
    {
     "data": {
      "image/png": "[encoded data removed]",
      "text/plain": [
       "<Figure size 432x288 with 1 Axes>"
      ]
     },
     "metadata": {},
     "output_type": "display_data"
    }
   ],
   "source": [
    "index = np.arange(len(features))\n",
    "plt.bar(index, pca.explained_variance_ratio_)\n",
    "plt.title('Scree plot for PCA')\n",
    "plt.xlabel('Num of components')\n",
    "plt.ylabel('proportion of explained variance')"
   ]
  },
  {
   "cell_type": "code",
   "execution_count": 82,
   "metadata": {},
   "outputs": [
    {
     "data": {
      "text/plain": [
       "Text(0, 0.5, 'explained variance ratio')"
      ]
     },
     "execution_count": 82,
     "metadata": {},
     "output_type": "execute_result"
    },
    {
     "data": {
      "image/png": "[encoded data removed]",
      "text/plain": [
       "<Figure size 432x288 with 1 Axes>"
      ]
     },
     "metadata": {},
     "output_type": "display_data"
    }
   ],
   "source": [
    "plt.plot(np.cumsum(pca.explained_variance_ratio_))\n",
    "plt.xlabel('number of components')\n",
    "plt.ylabel('explained variance ratio')"
   ]
  },
  {
   "cell_type": "markdown",
   "metadata": {},
   "source": [
    "From the Principal Component Analysis, we determine that only the top 8 factors (Percent of Students Chronically Absent, Economic Need Index, Grade_range, School Pupil-Teacher Ratio, Student Achievement Rating, Strong Family-Community Ties %, Student Attendance Rate, Rigorous Instruction %) should be included in the classification analysis."
   ]
  },
  {
   "cell_type": "code",
   "execution_count": 83,
   "metadata": {},
   "outputs": [
    {
     "data": {
      "text/html": [
       "<div>\n",
       "<style scoped>\n",
       "    .dataframe tbody tr th:only-of-type {\n",
       "        vertical-align: middle;\n",
       "    }\n",
       "\n",
       "    .dataframe tbody tr th {\n",
       "        vertical-align: top;\n",
       "    }\n",
       "\n",
       "    .dataframe thead th {\n",
       "        text-align: right;\n",
       "    }\n",
       "</style>\n",
       "<table border=\"1\" class=\"dataframe\">\n",
       "  <thead>\n",
       "    <tr style=\"text-align: right;\">\n",
       "      <th></th>\n",
       "      <th>Economic Need Index</th>\n",
       "      <th>Student Attendance Rate</th>\n",
       "      <th>Percent of Students Chronically Absent</th>\n",
       "      <th>Rigorous Instruction %</th>\n",
       "      <th>Strong Family-Community Ties %</th>\n",
       "      <th>Student Achievement Rating</th>\n",
       "      <th>Average Math Proficiency</th>\n",
       "      <th>Grade_range</th>\n",
       "      <th>School Pupil-Teacher Ratio</th>\n",
       "    </tr>\n",
       "    <tr>\n",
       "      <th>Location Code</th>\n",
       "      <th></th>\n",
       "      <th></th>\n",
       "      <th></th>\n",
       "      <th></th>\n",
       "      <th></th>\n",
       "      <th></th>\n",
       "      <th></th>\n",
       "      <th></th>\n",
       "      <th></th>\n",
       "    </tr>\n",
       "  </thead>\n",
       "  <tbody>\n",
       "    <tr>\n",
       "      <th>01M015</th>\n",
       "      <td>0.919</td>\n",
       "      <td>0.94</td>\n",
       "      <td>0.18</td>\n",
       "      <td>0.89</td>\n",
       "      <td>0.85</td>\n",
       "      <td>2.0</td>\n",
       "      <td>2.17</td>\n",
       "      <td>6</td>\n",
       "      <td>9.2</td>\n",
       "    </tr>\n",
       "    <tr>\n",
       "      <th>01M019</th>\n",
       "      <td>0.641</td>\n",
       "      <td>0.92</td>\n",
       "      <td>0.30</td>\n",
       "      <td>0.96</td>\n",
       "      <td>0.86</td>\n",
       "      <td>4.0</td>\n",
       "      <td>2.98</td>\n",
       "      <td>6</td>\n",
       "      <td>7.0</td>\n",
       "    </tr>\n",
       "    <tr>\n",
       "      <th>01M020</th>\n",
       "      <td>0.744</td>\n",
       "      <td>0.94</td>\n",
       "      <td>0.20</td>\n",
       "      <td>0.87</td>\n",
       "      <td>0.80</td>\n",
       "      <td>2.0</td>\n",
       "      <td>2.54</td>\n",
       "      <td>6</td>\n",
       "      <td>13.3</td>\n",
       "    </tr>\n",
       "    <tr>\n",
       "      <th>01M034</th>\n",
       "      <td>0.860</td>\n",
       "      <td>0.92</td>\n",
       "      <td>0.28</td>\n",
       "      <td>0.85</td>\n",
       "      <td>0.89</td>\n",
       "      <td>4.0</td>\n",
       "      <td>2.47</td>\n",
       "      <td>9</td>\n",
       "      <td>10.9</td>\n",
       "    </tr>\n",
       "    <tr>\n",
       "      <th>01M063</th>\n",
       "      <td>0.730</td>\n",
       "      <td>0.93</td>\n",
       "      <td>0.23</td>\n",
       "      <td>0.90</td>\n",
       "      <td>0.89</td>\n",
       "      <td>3.0</td>\n",
       "      <td>2.54</td>\n",
       "      <td>6</td>\n",
       "      <td>10.6</td>\n",
       "    </tr>\n",
       "  </tbody>\n",
       "</table>\n",
       "</div>"
      ],
      "text/plain": [
       "               Economic Need Index  Student Attendance Rate  \\\n",
       "Location Code                                                 \n",
       "01M015                       0.919                     0.94   \n",
       "01M019                       0.641                     0.92   \n",
       "01M020                       0.744                     0.94   \n",
       "01M034                       0.860                     0.92   \n",
       "01M063                       0.730                     0.93   \n",
       "\n",
       "               Percent of Students Chronically Absent  Rigorous Instruction %  \\\n",
       "Location Code                                                                   \n",
       "01M015                                           0.18                    0.89   \n",
       "01M019                                           0.30                    0.96   \n",
       "01M020                                           0.20                    0.87   \n",
       "01M034                                           0.28                    0.85   \n",
       "01M063                                           0.23                    0.90   \n",
       "\n",
       "               Strong Family-Community Ties %  Student Achievement Rating  \\\n",
       "Location Code                                                               \n",
       "01M015                                   0.85                         2.0   \n",
       "01M019                                   0.86                         4.0   \n",
       "01M020                                   0.80                         2.0   \n",
       "01M034                                   0.89                         4.0   \n",
       "01M063                                   0.89                         3.0   \n",
       "\n",
       "               Average Math Proficiency  Grade_range  \\\n",
       "Location Code                                          \n",
       "01M015                             2.17            6   \n",
       "01M019                             2.98            6   \n",
       "01M020                             2.54            6   \n",
       "01M034                             2.47            9   \n",
       "01M063                             2.54            6   \n",
       "\n",
       "               School Pupil-Teacher Ratio  \n",
       "Location Code                              \n",
       "01M015                                9.2  \n",
       "01M019                                7.0  \n",
       "01M020                               13.3  \n",
       "01M034                               10.9  \n",
       "01M063                               10.6  "
      ]
     },
     "execution_count": 83,
     "metadata": {},
     "output_type": "execute_result"
    }
   ],
   "source": [
    "cols_to_drop = ['Supportive Environment %', \n",
    "                'Effective School Leadership %', \n",
    "                'Trust %', \n",
    "                'Collaborative Teachers %']\n",
    "final_df.drop(cols_to_drop, axis=1, inplace=True)\n",
    "final_df.head()"
   ]
  },
  {
   "cell_type": "markdown",
   "metadata": {},
   "source": [
    " "
   ]
  },
  {
   "cell_type": "markdown",
   "metadata": {},
   "source": [
    "We then must redefine our X and y with our smaller dataset of predictors."
   ]
  },
  {
   "cell_type": "code",
   "execution_count": 84,
   "metadata": {},
   "outputs": [],
   "source": [
    "upper_quartile = final_df['Average Math Proficiency'].quantile(.75)\n",
    "y = final_df['Average Math Proficiency'].apply(lambda x: 1 if x >= upper_quartile else 0)\n",
    "X = final_df.drop('Average Math Proficiency', axis=1)\n",
    "features = X.columns"
   ]
  },
  {
   "cell_type": "code",
   "execution_count": 85,
   "metadata": {},
   "outputs": [],
   "source": [
    "X = StandardScaler().fit_transform(X.astype({'Grade_range': 'float64'}))"
   ]
  },
  {
   "cell_type": "code",
   "execution_count": 86,
   "metadata": {},
   "outputs": [],
   "source": [
    "X_train, X_test, y_train, y_test = train_test_split(X,y, test_size = 0.3)"
   ]
  },
  {
   "cell_type": "markdown",
   "metadata": {},
   "source": [
    "And we can now determine the best classification algorithm to utilize."
   ]
  },
  {
   "cell_type": "code",
   "execution_count": 87,
   "metadata": {},
   "outputs": [],
   "source": [
    "def grid_search_classifier(clf, param_grid, scoring):\n",
    "    grid_clf = GridSearchCV(clf, param_grid, scoring='f1_weighted')\n",
    "    grid_clf.fit(X_train, y_train)\n",
    "\n",
    "    best_parameters = grid_clf.best_params_\n",
    "\n",
    "    print(\"Grid Search found the following optimal parameters: \")\n",
    "    for param_name in sorted(best_parameters.keys()):\n",
    "        print(\"%s: %r\" % (param_name, best_parameters[param_name]))\n",
    "\n",
    "    y_pred = grid_clf.predict(X_test)\n",
    "\n",
    "    print()\n",
    "    print(confusion_matrix(y_test, y_pred))\n",
    "    print(classification_report(y_test, y_pred))\n",
    "    print('Accuracy score:', round(accuracy_score(y_test, y_pred),2))\n",
    "\n",
    "    cm = confusion_matrix(y_test, y_pred)\n",
    "    df_cm = pd.DataFrame(cm.astype('float') / cm.sum(axis=1)[:, np.newaxis],\n",
    "                         index =['F','T'], \n",
    "                         columns=['F','T'])\n",
    "    plt.figure(figsize = (7,5))\n",
    "    sns.heatmap(df_cm, annot=True, cmap='Greens')\n",
    "    plt.xlabel('Pred Val')\n",
    "    plt.ylabel('True Val')\n",
    "    plt.show()\n",
    "    return grid_clf"
   ]
  },
  {
   "cell_type": "code",
   "execution_count": 88,
   "metadata": {},
   "outputs": [],
   "source": [
    "def plot_ROC(y_test, X_test, grid_clf):\n",
    "    fpr, tpr, thresholds = roc_curve(y_test, grid_clf.predict_proba(X_test)[:,1])\n",
    "\n",
    "    sns.set_style(\"darkgrid\")\n",
    "    print('AUC: {}'.format(auc(fpr, tpr)))\n",
    "    plt.figure(figsize=(10,8))\n",
    "    plt.plot(fpr, tpr, color='darkorange', label='ROC curve')\n",
    "    plt.plot([0, 1], [0, 1], color='navy')\n",
    "    plt.xlim([0.0, 1.0])\n",
    "    plt.ylim([0.0, 1.05])\n",
    "    plt.yticks([i/10.0 for i in range(11)])\n",
    "    plt.xticks([i/10.0 for i in range(11)])\n",
    "    plt.xlabel('False Positive Rate')\n",
    "    plt.ylabel('True Positive Rate')\n",
    "    plt.title('ROC Curve')\n",
    "    plt.legend(loc=\"lower right\")\n",
    "    plt.show()"
   ]
  },
  {
   "cell_type": "markdown",
   "metadata": {},
   "source": [
    "### KNN"
   ]
  },
  {
   "cell_type": "code",
   "execution_count": 89,
   "metadata": {},
   "outputs": [],
   "source": [
    "param_grid = {'weights': ['uniform', 'distance'],\n",
    "              'n_neighbors': [3, 5, 8, 10, 15, 20]\n",
    "             }"
   ]
  },
  {
   "cell_type": "code",
   "execution_count": 37,
   "metadata": {},
   "outputs": [
    {
     "name": "stdout",
     "output_type": "stream",
     "text": [
      "Grid Search found the following optimal parameters: \n",
      "n_neighbors: 15\n",
      "weights: 'distance'\n",
      "\n",
      "[[232  12]\n",
      " [ 17  64]]\n",
      "              precision    recall  f1-score   support\n",
      "\n",
      "           0       0.93      0.95      0.94       244\n",
      "           1       0.84      0.79      0.82        81\n",
      "\n",
      "   micro avg       0.91      0.91      0.91       325\n",
      "   macro avg       0.89      0.87      0.88       325\n",
      "weighted avg       0.91      0.91      0.91       325\n",
      "\n",
      "Accuracy score: 0.91\n"
     ]
    },
    {
     "data": {
      "image/png": "[encoded data removed]",
      "text/plain": [
       "<Figure size 504x360 with 2 Axes>"
      ]
     },
     "metadata": {
      "needs_background": "light"
     },
     "output_type": "display_data"
    }
   ],
   "source": [
    "knn_grid_clf = grid_search_classifier(KNeighborsClassifier(), param_grid, 'f1_weighted')"
   ]
  },
  {
   "cell_type": "code",
   "execution_count": 38,
   "metadata": {},
   "outputs": [
    {
     "name": "stdout",
     "output_type": "stream",
     "text": [
      "AUC: 0.9663023679417122\n"
     ]
    },
    {
     "data": {
      "image/png": "[encoded data removed]",
      "text/plain": [
       "<Figure size 720x576 with 1 Axes>"
      ]
     },
     "metadata": {},
     "output_type": "display_data"
    }
   ],
   "source": [
    "plot_ROC(y_test, X_test, knn_grid_clf)"
   ]
  },
  {
   "cell_type": "markdown",
   "metadata": {},
   "source": [
    "### Random Forest"
   ]
  },
  {
   "cell_type": "code",
   "execution_count": 39,
   "metadata": {},
   "outputs": [],
   "source": [
    "param_grid = {'max_depth': [3, 5, 10, 15],\n",
    "              'max_features': [2, 5, 8],\n",
    "              'n_estimators': [10, 25, 50, 100, 250, 500]\n",
    "             }"
   ]
  },
  {
   "cell_type": "code",
   "execution_count": 40,
   "metadata": {},
   "outputs": [
    {
     "name": "stdout",
     "output_type": "stream",
     "text": [
      "Grid Search found the following optimal parameters: \n",
      "max_depth: 3\n",
      "max_features: 2\n",
      "n_estimators: 250\n",
      "\n",
      "[[231  13]\n",
      " [ 19  62]]\n",
      "              precision    recall  f1-score   support\n",
      "\n",
      "           0       0.92      0.95      0.94       244\n",
      "           1       0.83      0.77      0.79        81\n",
      "\n",
      "   micro avg       0.90      0.90      0.90       325\n",
      "   macro avg       0.88      0.86      0.87       325\n",
      "weighted avg       0.90      0.90      0.90       325\n",
      "\n",
      "Accuracy score: 0.9\n"
     ]
    },
    {
     "data": {
      "image/png": "[encoded data removed]",
      "text/plain": [
       "<Figure size 504x360 with 2 Axes>"
      ]
     },
     "metadata": {},
     "output_type": "display_data"
    }
   ],
   "source": [
    "rf_grid_clf = grid_search_classifier(RandomForestClassifier(), param_grid, 'f1_weighted')"
   ]
  },
  {
   "cell_type": "code",
   "execution_count": 41,
   "metadata": {},
   "outputs": [
    {
     "name": "stdout",
     "output_type": "stream",
     "text": [
      "AUC: 0.9536025096134386\n"
     ]
    },
    {
     "data": {
      "image/png": "[encoded data removed]",
      "text/plain": [
       "<Figure size 720x576 with 1 Axes>"
      ]
     },
     "metadata": {},
     "output_type": "display_data"
    }
   ],
   "source": [
    "plot_ROC(y_test, X_test, rf_grid_clf)"
   ]
  },
  {
   "cell_type": "markdown",
   "metadata": {},
   "source": [
    "### SVC"
   ]
  },
  {
   "cell_type": "code",
   "execution_count": 90,
   "metadata": {},
   "outputs": [],
   "source": [
    "param_grid = {'kernel': ['linear', 'poly', 'rbf', 'sigmoid'],\n",
    "              'probability': [True],\n",
    "              'C': [.001, .01, .1, 1, 10, 100, 1000],\n",
    "              'degree': [2, 3, 4, 5],\n",
    "              'shrinking': [True, False]\n",
    "             }"
   ]
  },
  {
   "cell_type": "code",
   "execution_count": 91,
   "metadata": {},
   "outputs": [
    {
     "name": "stdout",
     "output_type": "stream",
     "text": [
      "Grid Search found the following optimal parameters: \n",
      "C: 1\n",
      "degree: 2\n",
      "kernel: 'linear'\n",
      "probability: True\n",
      "shrinking: True\n",
      "\n",
      "[[227   8]\n",
      " [ 19  71]]\n",
      "              precision    recall  f1-score   support\n",
      "\n",
      "           0       0.92      0.97      0.94       235\n",
      "           1       0.90      0.79      0.84        90\n",
      "\n",
      "   micro avg       0.92      0.92      0.92       325\n",
      "   macro avg       0.91      0.88      0.89       325\n",
      "weighted avg       0.92      0.92      0.92       325\n",
      "\n",
      "Accuracy score: 0.92\n"
     ]
    },
    {
     "data": {
      "image/png": "[encoded data removed]",
      "text/plain": [
       "<Figure size 504x360 with 2 Axes>"
      ]
     },
     "metadata": {},
     "output_type": "display_data"
    }
   ],
   "source": [
    "svc_grid_clf = grid_search_classifier(SVC(), param_grid, 'f1_weighted')"
   ]
  },
  {
   "cell_type": "code",
   "execution_count": 92,
   "metadata": {},
   "outputs": [
    {
     "name": "stdout",
     "output_type": "stream",
     "text": [
      "AUC: 0.9630260047281324\n"
     ]
    },
    {
     "data": {
      "image/png": "[encoded data removed]",
      "text/plain": [
       "<Figure size 720x576 with 1 Axes>"
      ]
     },
     "metadata": {},
     "output_type": "display_data"
    }
   ],
   "source": [
    "plot_ROC(y_test, X_test, svc_grid_clf)"
   ]
  },
  {
   "cell_type": "markdown",
   "metadata": {},
   "source": [
    "### XGBoost"
   ]
  },
  {
   "cell_type": "code",
   "execution_count": 45,
   "metadata": {},
   "outputs": [],
   "source": [
    "param_grid = {\n",
    "    \"learning_rate\": [.01, .1],\n",
    "    'max_depth': [3, 5, 10, 15],\n",
    "    'min_child_weight': [2, 5, 10],\n",
    "    'subsample': [0.7, 0.8],\n",
    "    'n_estimators': [100, 250, 500, 1000]\n",
    "}"
   ]
  },
  {
   "cell_type": "code",
   "execution_count": 46,
   "metadata": {},
   "outputs": [
    {
     "name": "stdout",
     "output_type": "stream",
     "text": [
      "Grid Search found the following optimal parameters: \n",
      "learning_rate: 0.01\n",
      "max_depth: 3\n",
      "min_child_weight: 5\n",
      "n_estimators: 500\n",
      "subsample: 0.8\n",
      "\n",
      "[[228  16]\n",
      " [ 17  64]]\n",
      "              precision    recall  f1-score   support\n",
      "\n",
      "           0       0.93      0.93      0.93       244\n",
      "           1       0.80      0.79      0.80        81\n",
      "\n",
      "   micro avg       0.90      0.90      0.90       325\n",
      "   macro avg       0.87      0.86      0.86       325\n",
      "weighted avg       0.90      0.90      0.90       325\n",
      "\n",
      "Accuracy score: 0.9\n"
     ]
    },
    {
     "data": {
      "image/png": "[encoded data removed]",
      "text/plain": [
       "<Figure size 504x360 with 2 Axes>"
      ]
     },
     "metadata": {},
     "output_type": "display_data"
    }
   ],
   "source": [
    "xgb_grid_clf = grid_search_classifier(XGBClassifier(), param_grid, 'f1_weighted')"
   ]
  },
  {
   "cell_type": "code",
   "execution_count": 47,
   "metadata": {},
   "outputs": [
    {
     "name": "stdout",
     "output_type": "stream",
     "text": [
      "AUC: 0.9560817648249342\n"
     ]
    },
    {
     "data": {
      "image/png": "[encoded data removed]",
      "text/plain": [
       "<Figure size 720x576 with 1 Axes>"
      ]
     },
     "metadata": {},
     "output_type": "display_data"
    }
   ],
   "source": [
    "plot_ROC(y_test, X_test, xgb_grid_clf)"
   ]
  },
  {
   "cell_type": "markdown",
   "metadata": {},
   "source": [
    "## Analysis"
   ]
  },
  {
   "cell_type": "code",
   "execution_count": 104,
   "metadata": {},
   "outputs": [],
   "source": [
    "upper_quartile = final_df['Average Math Proficiency'].quantile(.75)\n",
    "y = final_df['Average Math Proficiency'].apply(lambda x: 1 if x >= upper_quartile else 0)\n",
    "X = final_df.drop('Average Math Proficiency', axis=1).astype({'Grade_range': 'float64'})\n",
    "features = X.columns"
   ]
  },
  {
   "cell_type": "code",
   "execution_count": 116,
   "metadata": {},
   "outputs": [],
   "source": [
    "predict_df = pd.DataFrame(svc_grid_clf.predict(StandardScaler().fit_transform(X))).set_index(final_df.index)"
   ]
  },
  {
   "cell_type": "code",
   "execution_count": 118,
   "metadata": {},
   "outputs": [
    {
     "data": {
      "text/html": [
       "<div>\n",
       "<style scoped>\n",
       "    .dataframe tbody tr th:only-of-type {\n",
       "        vertical-align: middle;\n",
       "    }\n",
       "\n",
       "    .dataframe tbody tr th {\n",
       "        vertical-align: top;\n",
       "    }\n",
       "\n",
       "    .dataframe thead th {\n",
       "        text-align: right;\n",
       "    }\n",
       "</style>\n",
       "<table border=\"1\" class=\"dataframe\">\n",
       "  <thead>\n",
       "    <tr style=\"text-align: right;\">\n",
       "      <th></th>\n",
       "      <th>Economic Need Index</th>\n",
       "      <th>Student Attendance Rate</th>\n",
       "      <th>Percent of Students Chronically Absent</th>\n",
       "      <th>Rigorous Instruction %</th>\n",
       "      <th>Strong Family-Community Ties %</th>\n",
       "      <th>Student Achievement Rating</th>\n",
       "      <th>Average Math Proficiency</th>\n",
       "      <th>Grade_range</th>\n",
       "      <th>School Pupil-Teacher Ratio</th>\n",
       "      <th>0</th>\n",
       "    </tr>\n",
       "    <tr>\n",
       "      <th>Location Code</th>\n",
       "      <th></th>\n",
       "      <th></th>\n",
       "      <th></th>\n",
       "      <th></th>\n",
       "      <th></th>\n",
       "      <th></th>\n",
       "      <th></th>\n",
       "      <th></th>\n",
       "      <th></th>\n",
       "      <th></th>\n",
       "    </tr>\n",
       "  </thead>\n",
       "  <tbody>\n",
       "    <tr>\n",
       "      <th>01M015</th>\n",
       "      <td>0.919</td>\n",
       "      <td>0.94</td>\n",
       "      <td>0.18</td>\n",
       "      <td>0.89</td>\n",
       "      <td>0.85</td>\n",
       "      <td>2.0</td>\n",
       "      <td>2.17</td>\n",
       "      <td>6</td>\n",
       "      <td>9.2</td>\n",
       "      <td>0</td>\n",
       "    </tr>\n",
       "    <tr>\n",
       "      <th>01M019</th>\n",
       "      <td>0.641</td>\n",
       "      <td>0.92</td>\n",
       "      <td>0.30</td>\n",
       "      <td>0.96</td>\n",
       "      <td>0.86</td>\n",
       "      <td>4.0</td>\n",
       "      <td>2.98</td>\n",
       "      <td>6</td>\n",
       "      <td>7.0</td>\n",
       "      <td>0</td>\n",
       "    </tr>\n",
       "    <tr>\n",
       "      <th>01M020</th>\n",
       "      <td>0.744</td>\n",
       "      <td>0.94</td>\n",
       "      <td>0.20</td>\n",
       "      <td>0.87</td>\n",
       "      <td>0.80</td>\n",
       "      <td>2.0</td>\n",
       "      <td>2.54</td>\n",
       "      <td>6</td>\n",
       "      <td>13.3</td>\n",
       "      <td>0</td>\n",
       "    </tr>\n",
       "    <tr>\n",
       "      <th>01M034</th>\n",
       "      <td>0.860</td>\n",
       "      <td>0.92</td>\n",
       "      <td>0.28</td>\n",
       "      <td>0.85</td>\n",
       "      <td>0.89</td>\n",
       "      <td>4.0</td>\n",
       "      <td>2.47</td>\n",
       "      <td>9</td>\n",
       "      <td>10.9</td>\n",
       "      <td>0</td>\n",
       "    </tr>\n",
       "    <tr>\n",
       "      <th>01M063</th>\n",
       "      <td>0.730</td>\n",
       "      <td>0.93</td>\n",
       "      <td>0.23</td>\n",
       "      <td>0.90</td>\n",
       "      <td>0.89</td>\n",
       "      <td>3.0</td>\n",
       "      <td>2.54</td>\n",
       "      <td>6</td>\n",
       "      <td>10.6</td>\n",
       "      <td>0</td>\n",
       "    </tr>\n",
       "    <tr>\n",
       "      <th>01M064</th>\n",
       "      <td>0.858</td>\n",
       "      <td>0.92</td>\n",
       "      <td>0.33</td>\n",
       "      <td>0.93</td>\n",
       "      <td>0.88</td>\n",
       "      <td>3.0</td>\n",
       "      <td>2.48</td>\n",
       "      <td>6</td>\n",
       "      <td>9.3</td>\n",
       "      <td>0</td>\n",
       "    </tr>\n",
       "    <tr>\n",
       "      <th>01M110</th>\n",
       "      <td>0.499</td>\n",
       "      <td>0.95</td>\n",
       "      <td>0.13</td>\n",
       "      <td>0.88</td>\n",
       "      <td>0.87</td>\n",
       "      <td>4.0</td>\n",
       "      <td>3.20</td>\n",
       "      <td>6</td>\n",
       "      <td>14.7</td>\n",
       "      <td>1</td>\n",
       "    </tr>\n",
       "    <tr>\n",
       "      <th>01M134</th>\n",
       "      <td>0.833</td>\n",
       "      <td>0.91</td>\n",
       "      <td>0.36</td>\n",
       "      <td>0.87</td>\n",
       "      <td>0.79</td>\n",
       "      <td>3.0</td>\n",
       "      <td>2.73</td>\n",
       "      <td>6</td>\n",
       "      <td>9.8</td>\n",
       "      <td>0</td>\n",
       "    </tr>\n",
       "    <tr>\n",
       "      <th>01M140</th>\n",
       "      <td>0.849</td>\n",
       "      <td>0.93</td>\n",
       "      <td>0.27</td>\n",
       "      <td>0.94</td>\n",
       "      <td>0.83</td>\n",
       "      <td>3.0</td>\n",
       "      <td>2.27</td>\n",
       "      <td>9</td>\n",
       "      <td>12.4</td>\n",
       "      <td>0</td>\n",
       "    </tr>\n",
       "    <tr>\n",
       "      <th>01M142</th>\n",
       "      <td>0.861</td>\n",
       "      <td>0.92</td>\n",
       "      <td>0.27</td>\n",
       "      <td>0.92</td>\n",
       "      <td>0.89</td>\n",
       "      <td>3.0</td>\n",
       "      <td>2.31</td>\n",
       "      <td>6</td>\n",
       "      <td>12.4</td>\n",
       "      <td>0</td>\n",
       "    </tr>\n",
       "    <tr>\n",
       "      <th>01M184</th>\n",
       "      <td>0.559</td>\n",
       "      <td>0.98</td>\n",
       "      <td>0.02</td>\n",
       "      <td>0.90</td>\n",
       "      <td>0.83</td>\n",
       "      <td>4.0</td>\n",
       "      <td>3.63</td>\n",
       "      <td>9</td>\n",
       "      <td>15.1</td>\n",
       "      <td>1</td>\n",
       "    </tr>\n",
       "    <tr>\n",
       "      <th>01M188</th>\n",
       "      <td>0.917</td>\n",
       "      <td>0.91</td>\n",
       "      <td>0.37</td>\n",
       "      <td>1.00</td>\n",
       "      <td>0.92</td>\n",
       "      <td>3.0</td>\n",
       "      <td>2.32</td>\n",
       "      <td>9</td>\n",
       "      <td>12.7</td>\n",
       "      <td>0</td>\n",
       "    </tr>\n",
       "    <tr>\n",
       "      <th>01M292</th>\n",
       "      <td>0.832</td>\n",
       "      <td>0.84</td>\n",
       "      <td>0.58</td>\n",
       "      <td>0.72</td>\n",
       "      <td>0.76</td>\n",
       "      <td>2.0</td>\n",
       "      <td>1.83</td>\n",
       "      <td>6</td>\n",
       "      <td>8.9</td>\n",
       "      <td>0</td>\n",
       "    </tr>\n",
       "    <tr>\n",
       "      <th>01M301</th>\n",
       "      <td>0.791</td>\n",
       "      <td>0.90</td>\n",
       "      <td>0.35</td>\n",
       "      <td>0.84</td>\n",
       "      <td>0.74</td>\n",
       "      <td>3.0</td>\n",
       "      <td>2.00</td>\n",
       "      <td>2</td>\n",
       "      <td>10.3</td>\n",
       "      <td>0</td>\n",
       "    </tr>\n",
       "    <tr>\n",
       "      <th>01M315</th>\n",
       "      <td>0.362</td>\n",
       "      <td>0.95</td>\n",
       "      <td>0.11</td>\n",
       "      <td>0.90</td>\n",
       "      <td>0.97</td>\n",
       "      <td>3.0</td>\n",
       "      <td>3.20</td>\n",
       "      <td>6</td>\n",
       "      <td>12.3</td>\n",
       "      <td>1</td>\n",
       "    </tr>\n",
       "    <tr>\n",
       "      <th>01M332</th>\n",
       "      <td>0.771</td>\n",
       "      <td>0.92</td>\n",
       "      <td>0.26</td>\n",
       "      <td>0.92</td>\n",
       "      <td>0.86</td>\n",
       "      <td>3.0</td>\n",
       "      <td>2.20</td>\n",
       "      <td>2</td>\n",
       "      <td>9.5</td>\n",
       "      <td>0</td>\n",
       "    </tr>\n",
       "    <tr>\n",
       "      <th>01M361</th>\n",
       "      <td>0.451</td>\n",
       "      <td>0.93</td>\n",
       "      <td>0.23</td>\n",
       "      <td>0.97</td>\n",
       "      <td>0.93</td>\n",
       "      <td>3.0</td>\n",
       "      <td>2.99</td>\n",
       "      <td>6</td>\n",
       "      <td>12.5</td>\n",
       "      <td>0</td>\n",
       "    </tr>\n",
       "    <tr>\n",
       "      <th>01M363</th>\n",
       "      <td>0.430</td>\n",
       "      <td>0.93</td>\n",
       "      <td>0.23</td>\n",
       "      <td>0.99</td>\n",
       "      <td>0.95</td>\n",
       "      <td>2.0</td>\n",
       "      <td>2.68</td>\n",
       "      <td>6</td>\n",
       "      <td>12.6</td>\n",
       "      <td>0</td>\n",
       "    </tr>\n",
       "    <tr>\n",
       "      <th>01M364</th>\n",
       "      <td>0.448</td>\n",
       "      <td>0.94</td>\n",
       "      <td>0.15</td>\n",
       "      <td>0.96</td>\n",
       "      <td>0.96</td>\n",
       "      <td>3.0</td>\n",
       "      <td>3.08</td>\n",
       "      <td>6</td>\n",
       "      <td>13.6</td>\n",
       "      <td>1</td>\n",
       "    </tr>\n",
       "    <tr>\n",
       "      <th>01M378</th>\n",
       "      <td>0.764</td>\n",
       "      <td>0.92</td>\n",
       "      <td>0.27</td>\n",
       "      <td>0.79</td>\n",
       "      <td>0.76</td>\n",
       "      <td>4.0</td>\n",
       "      <td>2.48</td>\n",
       "      <td>2</td>\n",
       "      <td>11.8</td>\n",
       "      <td>0</td>\n",
       "    </tr>\n",
       "    <tr>\n",
       "      <th>01M450</th>\n",
       "      <td>0.610</td>\n",
       "      <td>0.97</td>\n",
       "      <td>0.05</td>\n",
       "      <td>0.92</td>\n",
       "      <td>0.88</td>\n",
       "      <td>4.0</td>\n",
       "      <td>2.90</td>\n",
       "      <td>6</td>\n",
       "      <td>14.5</td>\n",
       "      <td>1</td>\n",
       "    </tr>\n",
       "    <tr>\n",
       "      <th>01M539</th>\n",
       "      <td>0.257</td>\n",
       "      <td>0.97</td>\n",
       "      <td>0.03</td>\n",
       "      <td>0.81</td>\n",
       "      <td>0.81</td>\n",
       "      <td>4.0</td>\n",
       "      <td>4.03</td>\n",
       "      <td>12</td>\n",
       "      <td>19.0</td>\n",
       "      <td>1</td>\n",
       "    </tr>\n",
       "    <tr>\n",
       "      <th>01M839</th>\n",
       "      <td>0.597</td>\n",
       "      <td>0.96</td>\n",
       "      <td>0.07</td>\n",
       "      <td>0.90</td>\n",
       "      <td>0.83</td>\n",
       "      <td>4.0</td>\n",
       "      <td>3.01</td>\n",
       "      <td>2</td>\n",
       "      <td>13.3</td>\n",
       "      <td>1</td>\n",
       "    </tr>\n",
       "    <tr>\n",
       "      <th>02M001</th>\n",
       "      <td>0.769</td>\n",
       "      <td>0.95</td>\n",
       "      <td>0.18</td>\n",
       "      <td>0.89</td>\n",
       "      <td>0.87</td>\n",
       "      <td>4.0</td>\n",
       "      <td>3.14</td>\n",
       "      <td>6</td>\n",
       "      <td>11.7</td>\n",
       "      <td>0</td>\n",
       "    </tr>\n",
       "    <tr>\n",
       "      <th>02M002</th>\n",
       "      <td>0.858</td>\n",
       "      <td>0.98</td>\n",
       "      <td>0.06</td>\n",
       "      <td>0.93</td>\n",
       "      <td>0.83</td>\n",
       "      <td>3.0</td>\n",
       "      <td>3.24</td>\n",
       "      <td>6</td>\n",
       "      <td>11.7</td>\n",
       "      <td>0</td>\n",
       "    </tr>\n",
       "    <tr>\n",
       "      <th>02M003</th>\n",
       "      <td>0.176</td>\n",
       "      <td>0.95</td>\n",
       "      <td>0.13</td>\n",
       "      <td>0.97</td>\n",
       "      <td>0.96</td>\n",
       "      <td>3.0</td>\n",
       "      <td>3.41</td>\n",
       "      <td>6</td>\n",
       "      <td>15.6</td>\n",
       "      <td>1</td>\n",
       "    </tr>\n",
       "    <tr>\n",
       "      <th>02M006</th>\n",
       "      <td>0.101</td>\n",
       "      <td>0.96</td>\n",
       "      <td>0.05</td>\n",
       "      <td>0.87</td>\n",
       "      <td>0.92</td>\n",
       "      <td>4.0</td>\n",
       "      <td>3.71</td>\n",
       "      <td>5</td>\n",
       "      <td>17.5</td>\n",
       "      <td>1</td>\n",
       "    </tr>\n",
       "    <tr>\n",
       "      <th>02M011</th>\n",
       "      <td>0.293</td>\n",
       "      <td>0.96</td>\n",
       "      <td>0.10</td>\n",
       "      <td>0.93</td>\n",
       "      <td>0.93</td>\n",
       "      <td>3.0</td>\n",
       "      <td>3.35</td>\n",
       "      <td>6</td>\n",
       "      <td>15.0</td>\n",
       "      <td>1</td>\n",
       "    </tr>\n",
       "    <tr>\n",
       "      <th>02M033</th>\n",
       "      <td>0.430</td>\n",
       "      <td>0.96</td>\n",
       "      <td>0.13</td>\n",
       "      <td>0.97</td>\n",
       "      <td>0.92</td>\n",
       "      <td>3.0</td>\n",
       "      <td>3.40</td>\n",
       "      <td>6</td>\n",
       "      <td>17.3</td>\n",
       "      <td>1</td>\n",
       "    </tr>\n",
       "    <tr>\n",
       "      <th>02M040</th>\n",
       "      <td>0.153</td>\n",
       "      <td>0.96</td>\n",
       "      <td>0.07</td>\n",
       "      <td>0.97</td>\n",
       "      <td>0.96</td>\n",
       "      <td>4.0</td>\n",
       "      <td>3.65</td>\n",
       "      <td>6</td>\n",
       "      <td>16.9</td>\n",
       "      <td>1</td>\n",
       "    </tr>\n",
       "    <tr>\n",
       "      <th>...</th>\n",
       "      <td>...</td>\n",
       "      <td>...</td>\n",
       "      <td>...</td>\n",
       "      <td>...</td>\n",
       "      <td>...</td>\n",
       "      <td>...</td>\n",
       "      <td>...</td>\n",
       "      <td>...</td>\n",
       "      <td>...</td>\n",
       "      <td>...</td>\n",
       "    </tr>\n",
       "    <tr>\n",
       "      <th>31R061</th>\n",
       "      <td>0.717</td>\n",
       "      <td>0.91</td>\n",
       "      <td>0.29</td>\n",
       "      <td>0.81</td>\n",
       "      <td>0.74</td>\n",
       "      <td>3.0</td>\n",
       "      <td>2.32</td>\n",
       "      <td>2</td>\n",
       "      <td>14.9</td>\n",
       "      <td>0</td>\n",
       "    </tr>\n",
       "    <tr>\n",
       "      <th>31R063</th>\n",
       "      <td>0.317</td>\n",
       "      <td>0.95</td>\n",
       "      <td>0.10</td>\n",
       "      <td>0.94</td>\n",
       "      <td>0.76</td>\n",
       "      <td>4.0</td>\n",
       "      <td>3.01</td>\n",
       "      <td>2</td>\n",
       "      <td>15.1</td>\n",
       "      <td>1</td>\n",
       "    </tr>\n",
       "    <tr>\n",
       "      <th>31R065</th>\n",
       "      <td>0.503</td>\n",
       "      <td>0.95</td>\n",
       "      <td>0.12</td>\n",
       "      <td>0.98</td>\n",
       "      <td>0.89</td>\n",
       "      <td>3.0</td>\n",
       "      <td>2.93</td>\n",
       "      <td>6</td>\n",
       "      <td>14.5</td>\n",
       "      <td>1</td>\n",
       "    </tr>\n",
       "    <tr>\n",
       "      <th>31R069</th>\n",
       "      <td>0.371</td>\n",
       "      <td>0.95</td>\n",
       "      <td>0.12</td>\n",
       "      <td>0.98</td>\n",
       "      <td>0.82</td>\n",
       "      <td>3.0</td>\n",
       "      <td>3.00</td>\n",
       "      <td>5</td>\n",
       "      <td>10.4</td>\n",
       "      <td>1</td>\n",
       "    </tr>\n",
       "    <tr>\n",
       "      <th>31R072</th>\n",
       "      <td>0.366</td>\n",
       "      <td>0.94</td>\n",
       "      <td>0.17</td>\n",
       "      <td>0.89</td>\n",
       "      <td>0.69</td>\n",
       "      <td>4.0</td>\n",
       "      <td>2.79</td>\n",
       "      <td>2</td>\n",
       "      <td>14.7</td>\n",
       "      <td>1</td>\n",
       "    </tr>\n",
       "    <tr>\n",
       "      <th>31R074</th>\n",
       "      <td>0.817</td>\n",
       "      <td>0.92</td>\n",
       "      <td>0.29</td>\n",
       "      <td>0.83</td>\n",
       "      <td>0.86</td>\n",
       "      <td>4.0</td>\n",
       "      <td>2.34</td>\n",
       "      <td>5</td>\n",
       "      <td>11.9</td>\n",
       "      <td>0</td>\n",
       "    </tr>\n",
       "    <tr>\n",
       "      <th>31R075</th>\n",
       "      <td>0.207</td>\n",
       "      <td>0.95</td>\n",
       "      <td>0.12</td>\n",
       "      <td>0.92</td>\n",
       "      <td>0.74</td>\n",
       "      <td>4.0</td>\n",
       "      <td>3.16</td>\n",
       "      <td>2</td>\n",
       "      <td>14.4</td>\n",
       "      <td>1</td>\n",
       "    </tr>\n",
       "    <tr>\n",
       "      <th>31R078</th>\n",
       "      <td>0.884</td>\n",
       "      <td>0.90</td>\n",
       "      <td>0.41</td>\n",
       "      <td>0.91</td>\n",
       "      <td>0.84</td>\n",
       "      <td>3.0</td>\n",
       "      <td>2.20</td>\n",
       "      <td>6</td>\n",
       "      <td>13.4</td>\n",
       "      <td>0</td>\n",
       "    </tr>\n",
       "    <tr>\n",
       "      <th>31R080</th>\n",
       "      <td>0.366</td>\n",
       "      <td>0.95</td>\n",
       "      <td>0.10</td>\n",
       "      <td>0.93</td>\n",
       "      <td>0.80</td>\n",
       "      <td>3.0</td>\n",
       "      <td>2.88</td>\n",
       "      <td>12</td>\n",
       "      <td>17.8</td>\n",
       "      <td>1</td>\n",
       "    </tr>\n",
       "    <tr>\n",
       "      <th>31R861</th>\n",
       "      <td>0.569</td>\n",
       "      <td>0.94</td>\n",
       "      <td>0.17</td>\n",
       "      <td>0.94</td>\n",
       "      <td>0.81</td>\n",
       "      <td>4.0</td>\n",
       "      <td>2.91</td>\n",
       "      <td>9</td>\n",
       "      <td>15.0</td>\n",
       "      <td>1</td>\n",
       "    </tr>\n",
       "    <tr>\n",
       "      <th>32K045</th>\n",
       "      <td>0.824</td>\n",
       "      <td>0.90</td>\n",
       "      <td>0.37</td>\n",
       "      <td>0.90</td>\n",
       "      <td>0.85</td>\n",
       "      <td>3.0</td>\n",
       "      <td>2.49</td>\n",
       "      <td>8</td>\n",
       "      <td>14.9</td>\n",
       "      <td>0</td>\n",
       "    </tr>\n",
       "    <tr>\n",
       "      <th>32K075</th>\n",
       "      <td>0.856</td>\n",
       "      <td>0.91</td>\n",
       "      <td>0.35</td>\n",
       "      <td>0.91</td>\n",
       "      <td>0.81</td>\n",
       "      <td>3.0</td>\n",
       "      <td>2.30</td>\n",
       "      <td>6</td>\n",
       "      <td>14.4</td>\n",
       "      <td>0</td>\n",
       "    </tr>\n",
       "    <tr>\n",
       "      <th>32K086</th>\n",
       "      <td>0.881</td>\n",
       "      <td>0.95</td>\n",
       "      <td>0.16</td>\n",
       "      <td>0.93</td>\n",
       "      <td>0.85</td>\n",
       "      <td>3.0</td>\n",
       "      <td>2.41</td>\n",
       "      <td>5</td>\n",
       "      <td>14.3</td>\n",
       "      <td>0</td>\n",
       "    </tr>\n",
       "    <tr>\n",
       "      <th>32K106</th>\n",
       "      <td>0.847</td>\n",
       "      <td>0.92</td>\n",
       "      <td>0.33</td>\n",
       "      <td>0.96</td>\n",
       "      <td>0.83</td>\n",
       "      <td>3.0</td>\n",
       "      <td>2.37</td>\n",
       "      <td>6</td>\n",
       "      <td>14.5</td>\n",
       "      <td>0</td>\n",
       "    </tr>\n",
       "    <tr>\n",
       "      <th>32K116</th>\n",
       "      <td>0.842</td>\n",
       "      <td>0.94</td>\n",
       "      <td>0.21</td>\n",
       "      <td>0.90</td>\n",
       "      <td>0.79</td>\n",
       "      <td>3.0</td>\n",
       "      <td>2.68</td>\n",
       "      <td>5</td>\n",
       "      <td>14.5</td>\n",
       "      <td>0</td>\n",
       "    </tr>\n",
       "    <tr>\n",
       "      <th>32K123</th>\n",
       "      <td>0.859</td>\n",
       "      <td>0.95</td>\n",
       "      <td>0.17</td>\n",
       "      <td>0.90</td>\n",
       "      <td>0.89</td>\n",
       "      <td>3.0</td>\n",
       "      <td>2.36</td>\n",
       "      <td>5</td>\n",
       "      <td>13.8</td>\n",
       "      <td>0</td>\n",
       "    </tr>\n",
       "    <tr>\n",
       "      <th>32K145</th>\n",
       "      <td>0.855</td>\n",
       "      <td>0.93</td>\n",
       "      <td>0.24</td>\n",
       "      <td>0.91</td>\n",
       "      <td>0.82</td>\n",
       "      <td>2.0</td>\n",
       "      <td>2.29</td>\n",
       "      <td>6</td>\n",
       "      <td>14.6</td>\n",
       "      <td>0</td>\n",
       "    </tr>\n",
       "    <tr>\n",
       "      <th>32K151</th>\n",
       "      <td>0.892</td>\n",
       "      <td>0.93</td>\n",
       "      <td>0.28</td>\n",
       "      <td>0.84</td>\n",
       "      <td>0.87</td>\n",
       "      <td>2.0</td>\n",
       "      <td>2.10</td>\n",
       "      <td>6</td>\n",
       "      <td>11.2</td>\n",
       "      <td>0</td>\n",
       "    </tr>\n",
       "    <tr>\n",
       "      <th>32K162</th>\n",
       "      <td>0.845</td>\n",
       "      <td>0.91</td>\n",
       "      <td>0.31</td>\n",
       "      <td>0.89</td>\n",
       "      <td>0.77</td>\n",
       "      <td>3.0</td>\n",
       "      <td>2.23</td>\n",
       "      <td>2</td>\n",
       "      <td>12.6</td>\n",
       "      <td>0</td>\n",
       "    </tr>\n",
       "    <tr>\n",
       "      <th>32K274</th>\n",
       "      <td>0.833</td>\n",
       "      <td>0.92</td>\n",
       "      <td>0.31</td>\n",
       "      <td>0.91</td>\n",
       "      <td>0.85</td>\n",
       "      <td>3.0</td>\n",
       "      <td>2.42</td>\n",
       "      <td>6</td>\n",
       "      <td>15.9</td>\n",
       "      <td>0</td>\n",
       "    </tr>\n",
       "    <tr>\n",
       "      <th>32K291</th>\n",
       "      <td>0.839</td>\n",
       "      <td>0.89</td>\n",
       "      <td>0.36</td>\n",
       "      <td>0.96</td>\n",
       "      <td>0.78</td>\n",
       "      <td>3.0</td>\n",
       "      <td>2.10</td>\n",
       "      <td>2</td>\n",
       "      <td>11.2</td>\n",
       "      <td>0</td>\n",
       "    </tr>\n",
       "    <tr>\n",
       "      <th>32K299</th>\n",
       "      <td>0.893</td>\n",
       "      <td>0.92</td>\n",
       "      <td>0.29</td>\n",
       "      <td>0.95</td>\n",
       "      <td>0.98</td>\n",
       "      <td>4.0</td>\n",
       "      <td>2.52</td>\n",
       "      <td>6</td>\n",
       "      <td>12.1</td>\n",
       "      <td>0</td>\n",
       "    </tr>\n",
       "    <tr>\n",
       "      <th>32K347</th>\n",
       "      <td>0.821</td>\n",
       "      <td>0.92</td>\n",
       "      <td>0.24</td>\n",
       "      <td>0.86</td>\n",
       "      <td>0.81</td>\n",
       "      <td>3.0</td>\n",
       "      <td>2.30</td>\n",
       "      <td>2</td>\n",
       "      <td>11.7</td>\n",
       "      <td>0</td>\n",
       "    </tr>\n",
       "    <tr>\n",
       "      <th>32K349</th>\n",
       "      <td>0.863</td>\n",
       "      <td>0.94</td>\n",
       "      <td>0.18</td>\n",
       "      <td>0.85</td>\n",
       "      <td>0.78</td>\n",
       "      <td>3.0</td>\n",
       "      <td>2.26</td>\n",
       "      <td>2</td>\n",
       "      <td>11.8</td>\n",
       "      <td>0</td>\n",
       "    </tr>\n",
       "    <tr>\n",
       "      <th>32K376</th>\n",
       "      <td>0.880</td>\n",
       "      <td>0.95</td>\n",
       "      <td>0.13</td>\n",
       "      <td>0.96</td>\n",
       "      <td>0.81</td>\n",
       "      <td>4.0</td>\n",
       "      <td>2.76</td>\n",
       "      <td>5</td>\n",
       "      <td>15.0</td>\n",
       "      <td>0</td>\n",
       "    </tr>\n",
       "    <tr>\n",
       "      <th>32K377</th>\n",
       "      <td>0.819</td>\n",
       "      <td>0.91</td>\n",
       "      <td>0.32</td>\n",
       "      <td>0.90</td>\n",
       "      <td>0.81</td>\n",
       "      <td>2.0</td>\n",
       "      <td>2.22</td>\n",
       "      <td>9</td>\n",
       "      <td>14.3</td>\n",
       "      <td>0</td>\n",
       "    </tr>\n",
       "    <tr>\n",
       "      <th>32K383</th>\n",
       "      <td>0.643</td>\n",
       "      <td>0.96</td>\n",
       "      <td>0.10</td>\n",
       "      <td>0.89</td>\n",
       "      <td>0.77</td>\n",
       "      <td>2.0</td>\n",
       "      <td>2.72</td>\n",
       "      <td>3</td>\n",
       "      <td>17.1</td>\n",
       "      <td>0</td>\n",
       "    </tr>\n",
       "    <tr>\n",
       "      <th>32K384</th>\n",
       "      <td>0.863</td>\n",
       "      <td>0.93</td>\n",
       "      <td>0.23</td>\n",
       "      <td>0.88</td>\n",
       "      <td>0.79</td>\n",
       "      <td>3.0</td>\n",
       "      <td>2.37</td>\n",
       "      <td>9</td>\n",
       "      <td>14.6</td>\n",
       "      <td>0</td>\n",
       "    </tr>\n",
       "    <tr>\n",
       "      <th>32K554</th>\n",
       "      <td>0.667</td>\n",
       "      <td>0.97</td>\n",
       "      <td>0.08</td>\n",
       "      <td>0.92</td>\n",
       "      <td>0.83</td>\n",
       "      <td>3.0</td>\n",
       "      <td>3.47</td>\n",
       "      <td>6</td>\n",
       "      <td>22.4</td>\n",
       "      <td>1</td>\n",
       "    </tr>\n",
       "    <tr>\n",
       "      <th>32K562</th>\n",
       "      <td>0.848</td>\n",
       "      <td>0.92</td>\n",
       "      <td>0.25</td>\n",
       "      <td>0.88</td>\n",
       "      <td>0.79</td>\n",
       "      <td>2.0</td>\n",
       "      <td>1.95</td>\n",
       "      <td>2</td>\n",
       "      <td>7.6</td>\n",
       "      <td>0</td>\n",
       "    </tr>\n",
       "  </tbody>\n",
       "</table>\n",
       "<p>1081 rows × 10 columns</p>\n",
       "</div>"
      ],
      "text/plain": [
       "               Economic Need Index  Student Attendance Rate  \\\n",
       "Location Code                                                 \n",
       "01M015                       0.919                     0.94   \n",
       "01M019                       0.641                     0.92   \n",
       "01M020                       0.744                     0.94   \n",
       "01M034                       0.860                     0.92   \n",
       "01M063                       0.730                     0.93   \n",
       "01M064                       0.858                     0.92   \n",
       "01M110                       0.499                     0.95   \n",
       "01M134                       0.833                     0.91   \n",
       "01M140                       0.849                     0.93   \n",
       "01M142                       0.861                     0.92   \n",
       "01M184                       0.559                     0.98   \n",
       "01M188                       0.917                     0.91   \n",
       "01M292                       0.832                     0.84   \n",
       "01M301                       0.791                     0.90   \n",
       "01M315                       0.362                     0.95   \n",
       "01M332                       0.771                     0.92   \n",
       "01M361                       0.451                     0.93   \n",
       "01M363                       0.430                     0.93   \n",
       "01M364                       0.448                     0.94   \n",
       "01M378                       0.764                     0.92   \n",
       "01M450                       0.610                     0.97   \n",
       "01M539                       0.257                     0.97   \n",
       "01M839                       0.597                     0.96   \n",
       "02M001                       0.769                     0.95   \n",
       "02M002                       0.858                     0.98   \n",
       "02M003                       0.176                     0.95   \n",
       "02M006                       0.101                     0.96   \n",
       "02M011                       0.293                     0.96   \n",
       "02M033                       0.430                     0.96   \n",
       "02M040                       0.153                     0.96   \n",
       "...                            ...                      ...   \n",
       "31R061                       0.717                     0.91   \n",
       "31R063                       0.317                     0.95   \n",
       "31R065                       0.503                     0.95   \n",
       "31R069                       0.371                     0.95   \n",
       "31R072                       0.366                     0.94   \n",
       "31R074                       0.817                     0.92   \n",
       "31R075                       0.207                     0.95   \n",
       "31R078                       0.884                     0.90   \n",
       "31R080                       0.366                     0.95   \n",
       "31R861                       0.569                     0.94   \n",
       "32K045                       0.824                     0.90   \n",
       "32K075                       0.856                     0.91   \n",
       "32K086                       0.881                     0.95   \n",
       "32K106                       0.847                     0.92   \n",
       "32K116                       0.842                     0.94   \n",
       "32K123                       0.859                     0.95   \n",
       "32K145                       0.855                     0.93   \n",
       "32K151                       0.892                     0.93   \n",
       "32K162                       0.845                     0.91   \n",
       "32K274                       0.833                     0.92   \n",
       "32K291                       0.839                     0.89   \n",
       "32K299                       0.893                     0.92   \n",
       "32K347                       0.821                     0.92   \n",
       "32K349                       0.863                     0.94   \n",
       "32K376                       0.880                     0.95   \n",
       "32K377                       0.819                     0.91   \n",
       "32K383                       0.643                     0.96   \n",
       "32K384                       0.863                     0.93   \n",
       "32K554                       0.667                     0.97   \n",
       "32K562                       0.848                     0.92   \n",
       "\n",
       "               Percent of Students Chronically Absent  Rigorous Instruction %  \\\n",
       "Location Code                                                                   \n",
       "01M015                                           0.18                    0.89   \n",
       "01M019                                           0.30                    0.96   \n",
       "01M020                                           0.20                    0.87   \n",
       "01M034                                           0.28                    0.85   \n",
       "01M063                                           0.23                    0.90   \n",
       "01M064                                           0.33                    0.93   \n",
       "01M110                                           0.13                    0.88   \n",
       "01M134                                           0.36                    0.87   \n",
       "01M140                                           0.27                    0.94   \n",
       "01M142                                           0.27                    0.92   \n",
       "01M184                                           0.02                    0.90   \n",
       "01M188                                           0.37                    1.00   \n",
       "01M292                                           0.58                    0.72   \n",
       "01M301                                           0.35                    0.84   \n",
       "01M315                                           0.11                    0.90   \n",
       "01M332                                           0.26                    0.92   \n",
       "01M361                                           0.23                    0.97   \n",
       "01M363                                           0.23                    0.99   \n",
       "01M364                                           0.15                    0.96   \n",
       "01M378                                           0.27                    0.79   \n",
       "01M450                                           0.05                    0.92   \n",
       "01M539                                           0.03                    0.81   \n",
       "01M839                                           0.07                    0.90   \n",
       "02M001                                           0.18                    0.89   \n",
       "02M002                                           0.06                    0.93   \n",
       "02M003                                           0.13                    0.97   \n",
       "02M006                                           0.05                    0.87   \n",
       "02M011                                           0.10                    0.93   \n",
       "02M033                                           0.13                    0.97   \n",
       "02M040                                           0.07                    0.97   \n",
       "...                                               ...                     ...   \n",
       "31R061                                           0.29                    0.81   \n",
       "31R063                                           0.10                    0.94   \n",
       "31R065                                           0.12                    0.98   \n",
       "31R069                                           0.12                    0.98   \n",
       "31R072                                           0.17                    0.89   \n",
       "31R074                                           0.29                    0.83   \n",
       "31R075                                           0.12                    0.92   \n",
       "31R078                                           0.41                    0.91   \n",
       "31R080                                           0.10                    0.93   \n",
       "31R861                                           0.17                    0.94   \n",
       "32K045                                           0.37                    0.90   \n",
       "32K075                                           0.35                    0.91   \n",
       "32K086                                           0.16                    0.93   \n",
       "32K106                                           0.33                    0.96   \n",
       "32K116                                           0.21                    0.90   \n",
       "32K123                                           0.17                    0.90   \n",
       "32K145                                           0.24                    0.91   \n",
       "32K151                                           0.28                    0.84   \n",
       "32K162                                           0.31                    0.89   \n",
       "32K274                                           0.31                    0.91   \n",
       "32K291                                           0.36                    0.96   \n",
       "32K299                                           0.29                    0.95   \n",
       "32K347                                           0.24                    0.86   \n",
       "32K349                                           0.18                    0.85   \n",
       "32K376                                           0.13                    0.96   \n",
       "32K377                                           0.32                    0.90   \n",
       "32K383                                           0.10                    0.89   \n",
       "32K384                                           0.23                    0.88   \n",
       "32K554                                           0.08                    0.92   \n",
       "32K562                                           0.25                    0.88   \n",
       "\n",
       "               Strong Family-Community Ties %  Student Achievement Rating  \\\n",
       "Location Code                                                               \n",
       "01M015                                   0.85                         2.0   \n",
       "01M019                                   0.86                         4.0   \n",
       "01M020                                   0.80                         2.0   \n",
       "01M034                                   0.89                         4.0   \n",
       "01M063                                   0.89                         3.0   \n",
       "01M064                                   0.88                         3.0   \n",
       "01M110                                   0.87                         4.0   \n",
       "01M134                                   0.79                         3.0   \n",
       "01M140                                   0.83                         3.0   \n",
       "01M142                                   0.89                         3.0   \n",
       "01M184                                   0.83                         4.0   \n",
       "01M188                                   0.92                         3.0   \n",
       "01M292                                   0.76                         2.0   \n",
       "01M301                                   0.74                         3.0   \n",
       "01M315                                   0.97                         3.0   \n",
       "01M332                                   0.86                         3.0   \n",
       "01M361                                   0.93                         3.0   \n",
       "01M363                                   0.95                         2.0   \n",
       "01M364                                   0.96                         3.0   \n",
       "01M378                                   0.76                         4.0   \n",
       "01M450                                   0.88                         4.0   \n",
       "01M539                                   0.81                         4.0   \n",
       "01M839                                   0.83                         4.0   \n",
       "02M001                                   0.87                         4.0   \n",
       "02M002                                   0.83                         3.0   \n",
       "02M003                                   0.96                         3.0   \n",
       "02M006                                   0.92                         4.0   \n",
       "02M011                                   0.93                         3.0   \n",
       "02M033                                   0.92                         3.0   \n",
       "02M040                                   0.96                         4.0   \n",
       "...                                       ...                         ...   \n",
       "31R061                                   0.74                         3.0   \n",
       "31R063                                   0.76                         4.0   \n",
       "31R065                                   0.89                         3.0   \n",
       "31R069                                   0.82                         3.0   \n",
       "31R072                                   0.69                         4.0   \n",
       "31R074                                   0.86                         4.0   \n",
       "31R075                                   0.74                         4.0   \n",
       "31R078                                   0.84                         3.0   \n",
       "31R080                                   0.80                         3.0   \n",
       "31R861                                   0.81                         4.0   \n",
       "32K045                                   0.85                         3.0   \n",
       "32K075                                   0.81                         3.0   \n",
       "32K086                                   0.85                         3.0   \n",
       "32K106                                   0.83                         3.0   \n",
       "32K116                                   0.79                         3.0   \n",
       "32K123                                   0.89                         3.0   \n",
       "32K145                                   0.82                         2.0   \n",
       "32K151                                   0.87                         2.0   \n",
       "32K162                                   0.77                         3.0   \n",
       "32K274                                   0.85                         3.0   \n",
       "32K291                                   0.78                         3.0   \n",
       "32K299                                   0.98                         4.0   \n",
       "32K347                                   0.81                         3.0   \n",
       "32K349                                   0.78                         3.0   \n",
       "32K376                                   0.81                         4.0   \n",
       "32K377                                   0.81                         2.0   \n",
       "32K383                                   0.77                         2.0   \n",
       "32K384                                   0.79                         3.0   \n",
       "32K554                                   0.83                         3.0   \n",
       "32K562                                   0.79                         2.0   \n",
       "\n",
       "               Average Math Proficiency  Grade_range  \\\n",
       "Location Code                                          \n",
       "01M015                             2.17            6   \n",
       "01M019                             2.98            6   \n",
       "01M020                             2.54            6   \n",
       "01M034                             2.47            9   \n",
       "01M063                             2.54            6   \n",
       "01M064                             2.48            6   \n",
       "01M110                             3.20            6   \n",
       "01M134                             2.73            6   \n",
       "01M140                             2.27            9   \n",
       "01M142                             2.31            6   \n",
       "01M184                             3.63            9   \n",
       "01M188                             2.32            9   \n",
       "01M292                             1.83            6   \n",
       "01M301                             2.00            2   \n",
       "01M315                             3.20            6   \n",
       "01M332                             2.20            2   \n",
       "01M361                             2.99            6   \n",
       "01M363                             2.68            6   \n",
       "01M364                             3.08            6   \n",
       "01M378                             2.48            2   \n",
       "01M450                             2.90            6   \n",
       "01M539                             4.03           12   \n",
       "01M839                             3.01            2   \n",
       "02M001                             3.14            6   \n",
       "02M002                             3.24            6   \n",
       "02M003                             3.41            6   \n",
       "02M006                             3.71            5   \n",
       "02M011                             3.35            6   \n",
       "02M033                             3.40            6   \n",
       "02M040                             3.65            6   \n",
       "...                                 ...          ...   \n",
       "31R061                             2.32            2   \n",
       "31R063                             3.01            2   \n",
       "31R065                             2.93            6   \n",
       "31R069                             3.00            5   \n",
       "31R072                             2.79            2   \n",
       "31R074                             2.34            5   \n",
       "31R075                             3.16            2   \n",
       "31R078                             2.20            6   \n",
       "31R080                             2.88           12   \n",
       "31R861                             2.91            9   \n",
       "32K045                             2.49            8   \n",
       "32K075                             2.30            6   \n",
       "32K086                             2.41            5   \n",
       "32K106                             2.37            6   \n",
       "32K116                             2.68            5   \n",
       "32K123                             2.36            5   \n",
       "32K145                             2.29            6   \n",
       "32K151                             2.10            6   \n",
       "32K162                             2.23            2   \n",
       "32K274                             2.42            6   \n",
       "32K291                             2.10            2   \n",
       "32K299                             2.52            6   \n",
       "32K347                             2.30            2   \n",
       "32K349                             2.26            2   \n",
       "32K376                             2.76            5   \n",
       "32K377                             2.22            9   \n",
       "32K383                             2.72            3   \n",
       "32K384                             2.37            9   \n",
       "32K554                             3.47            6   \n",
       "32K562                             1.95            2   \n",
       "\n",
       "               School Pupil-Teacher Ratio  0  \n",
       "Location Code                                 \n",
       "01M015                                9.2  0  \n",
       "01M019                                7.0  0  \n",
       "01M020                               13.3  0  \n",
       "01M034                               10.9  0  \n",
       "01M063                               10.6  0  \n",
       "01M064                                9.3  0  \n",
       "01M110                               14.7  1  \n",
       "01M134                                9.8  0  \n",
       "01M140                               12.4  0  \n",
       "01M142                               12.4  0  \n",
       "01M184                               15.1  1  \n",
       "01M188                               12.7  0  \n",
       "01M292                                8.9  0  \n",
       "01M301                               10.3  0  \n",
       "01M315                               12.3  1  \n",
       "01M332                                9.5  0  \n",
       "01M361                               12.5  0  \n",
       "01M363                               12.6  0  \n",
       "01M364                               13.6  1  \n",
       "01M378                               11.8  0  \n",
       "01M450                               14.5  1  \n",
       "01M539                               19.0  1  \n",
       "01M839                               13.3  1  \n",
       "02M001                               11.7  0  \n",
       "02M002                               11.7  0  \n",
       "02M003                               15.6  1  \n",
       "02M006                               17.5  1  \n",
       "02M011                               15.0  1  \n",
       "02M033                               17.3  1  \n",
       "02M040                               16.9  1  \n",
       "...                                   ... ..  \n",
       "31R061                               14.9  0  \n",
       "31R063                               15.1  1  \n",
       "31R065                               14.5  1  \n",
       "31R069                               10.4  1  \n",
       "31R072                               14.7  1  \n",
       "31R074                               11.9  0  \n",
       "31R075                               14.4  1  \n",
       "31R078                               13.4  0  \n",
       "31R080                               17.8  1  \n",
       "31R861                               15.0  1  \n",
       "32K045                               14.9  0  \n",
       "32K075                               14.4  0  \n",
       "32K086                               14.3  0  \n",
       "32K106                               14.5  0  \n",
       "32K116                               14.5  0  \n",
       "32K123                               13.8  0  \n",
       "32K145                               14.6  0  \n",
       "32K151                               11.2  0  \n",
       "32K162                               12.6  0  \n",
       "32K274                               15.9  0  \n",
       "32K291                               11.2  0  \n",
       "32K299                               12.1  0  \n",
       "32K347                               11.7  0  \n",
       "32K349                               11.8  0  \n",
       "32K376                               15.0  0  \n",
       "32K377                               14.3  0  \n",
       "32K383                               17.1  0  \n",
       "32K384                               14.6  0  \n",
       "32K554                               22.4  1  \n",
       "32K562                                7.6  0  \n",
       "\n",
       "[1081 rows x 10 columns]"
      ]
     },
     "execution_count": 118,
     "metadata": {},
     "output_type": "execute_result"
    }
   ],
   "source": [
    "pd.concat([final_df, predict_df], axis=1)"
   ]
  },
  {
   "cell_type": "code",
   "execution_count": null,
   "metadata": {},
   "outputs": [],
   "source": []
  },
  {
   "cell_type": "code",
   "execution_count": 85,
   "metadata": {},
   "outputs": [],
   "source": [
    "X = StandardScaler().fit_transform(X.astype({'Grade_range': 'float64'}))"
   ]
  },
  {
   "cell_type": "code",
   "execution_count": null,
   "metadata": {},
   "outputs": [],
   "source": []
  },
  {
   "cell_type": "code",
   "execution_count": null,
   "metadata": {},
   "outputs": [],
   "source": []
  },
  {
   "cell_type": "code",
   "execution_count": null,
   "metadata": {},
   "outputs": [],
   "source": []
  },
  {
   "cell_type": "code",
   "execution_count": null,
   "metadata": {},
   "outputs": [],
   "source": []
  },
  {
   "cell_type": "code",
   "execution_count": null,
   "metadata": {},
   "outputs": [],
   "source": []
  },
  {
   "cell_type": "markdown",
   "metadata": {},
   "source": [
    "# DATA VIZ"
   ]
  },
  {
   "cell_type": "code",
   "execution_count": null,
   "metadata": {},
   "outputs": [],
   "source": []
  },
  {
   "cell_type": "code",
   "execution_count": null,
   "metadata": {},
   "outputs": [],
   "source": []
  },
  {
   "cell_type": "code",
   "execution_count": null,
   "metadata": {},
   "outputs": [],
   "source": []
  },
  {
   "cell_type": "code",
   "execution_count": null,
   "metadata": {},
   "outputs": [],
   "source": []
  },
  {
   "cell_type": "code",
   "execution_count": null,
   "metadata": {},
   "outputs": [],
   "source": []
  },
  {
   "cell_type": "code",
   "execution_count": null,
   "metadata": {},
   "outputs": [],
   "source": []
  },
  {
   "cell_type": "code",
   "execution_count": null,
   "metadata": {},
   "outputs": [],
   "source": []
  },
  {
   "cell_type": "markdown",
   "metadata": {},
   "source": [
    "# Working Zone"
   ]
  },
  {
   "cell_type": "code",
   "execution_count": null,
   "metadata": {},
   "outputs": [],
   "source": [
    "shsat_df = pd.read_csv('D5 SHSAT Registrations and Testers.csv')\n",
    "print(len(shsat_df))\n",
    "shsat_df.head()"
   ]
  },
  {
   "cell_type": "code",
   "execution_count": null,
   "metadata": {},
   "outputs": [],
   "source": [
    "shsat_df['Enroll_register'] = round(shsat_df['Number of students who registered for the SHSAT'] / shsat_df['Enrollment on 10/31'], 4)\n",
    "shsat_df['Enroll_took'] = round(shsat_df['Number of students who took the SHSAT'] / shsat_df['Enrollment on 10/31'], 4)\n",
    "shsat_df\n"
   ]
  },
  {
   "cell_type": "code",
   "execution_count": null,
   "metadata": {},
   "outputs": [],
   "source": [
    "new_df = pd.concat([schools_df, pd.get_dummies(schools_df)], axis=1)\n",
    "new_df.head()"
   ]
  },
  {
   "cell_type": "code",
   "execution_count": null,
   "metadata": {},
   "outputs": [],
   "source": [
    "schools_df['Community School?'] = schools_df['Community School?'].apply(lambda x: 1 if x=='Yes' else 0)"
   ]
  },
  {
   "cell_type": "markdown",
   "metadata": {},
   "source": [
    "## Model Formation - No Student-Teacher Ratio"
   ]
  },
  {
   "cell_type": "code",
   "execution_count": null,
   "metadata": {},
   "outputs": [],
   "source": [
    "no_ratio_df = final_df.drop('School Pupil-Teacher Ratio', axis=1)"
   ]
  },
  {
   "cell_type": "code",
   "execution_count": null,
   "metadata": {},
   "outputs": [],
   "source": [
    "upper_quartile = no_ratio_df['Average Math Proficiency'].quantile(.75)\n",
    "y = no_ratio_df['Average Math Proficiency'].apply(lambda x: 1 if x >= upper_quartile else 0)\n",
    "X = no_ratio_df.drop('Average Math Proficiency', axis=1)\n",
    "features = X.columns"
   ]
  },
  {
   "cell_type": "code",
   "execution_count": null,
   "metadata": {},
   "outputs": [],
   "source": [
    "X = StandardScaler().fit_transform(X.astype({'Grade_range': 'float64'}))"
   ]
  },
  {
   "cell_type": "code",
   "execution_count": null,
   "metadata": {},
   "outputs": [],
   "source": [
    "X_train, X_test, y_train, y_test = train_test_split(X,y, test_size = 0.3)"
   ]
  },
  {
   "cell_type": "markdown",
   "metadata": {},
   "source": [
    "### KNN"
   ]
  },
  {
   "cell_type": "code",
   "execution_count": null,
   "metadata": {},
   "outputs": [],
   "source": [
    "k_range = range(1, 40)\n",
    "k_scores = []\n",
    "for k in k_range:\n",
    "    knn = KNeighborsClassifier(n_neighbors=k)\n",
    "    knn.fit(X_train, y_train)\n",
    "    y_pred = knn.predict(X_test)\n",
    "    score = f1_score(y_test, y_pred, average='weighted')\n",
    "    k_scores.append(score)\n",
    "best_k_score = {'k_score': k_scores.index(max(k_scores))+1, 'f1_score': max(k_scores)}\n",
    "print(best_k_score)"
   ]
  },
  {
   "cell_type": "markdown",
   "metadata": {},
   "source": [
    "### CART"
   ]
  },
  {
   "cell_type": "code",
   "execution_count": null,
   "metadata": {},
   "outputs": [],
   "source": [
    "depth_range = range(1,40)\n",
    "val = []\n",
    "for depth in depth_range:\n",
    "    ctree = DecisionTreeClassifier(max_depth = depth)\n",
    "    depth_score = cross_val_score(ctree, X, y, cv=3)\n",
    "    val.append(depth_score.mean())\n",
    "best_dt_score = {'depth_score': val.index(max(val))+1, 'cross_val_score': max(val)}\n",
    "print(best_dt_score)"
   ]
  },
  {
   "cell_type": "markdown",
   "metadata": {},
   "source": [
    "### SVC"
   ]
  },
  {
   "cell_type": "code",
   "execution_count": null,
   "metadata": {},
   "outputs": [],
   "source": [
    "svm_types = ['linear', 'poly', 'rbf', 'sigmoid']"
   ]
  },
  {
   "cell_type": "code",
   "execution_count": null,
   "metadata": {},
   "outputs": [],
   "source": [
    "warnings.filterwarnings('ignore')\n",
    "svm_scores = []\n",
    "for svm in svm_types:\n",
    "    svclassifier = SVC(kernel=svm)  \n",
    "    svclassifier.fit(X_train, y_train) \n",
    "    y_pred = svclassifier.predict(X_test)\n",
    "    svm_scores.append(f1_score(y_test, y_pred, average='weighted'))\n",
    "best_svm_score = {'svm_type': svm_types[svm_scores.index(max(svm_scores))], 'f1_score': max(svm_scores)}\n",
    "print(best_svm_score)"
   ]
  },
  {
   "cell_type": "markdown",
   "metadata": {},
   "source": [
    "### XGBoost"
   ]
  },
  {
   "cell_type": "code",
   "execution_count": null,
   "metadata": {},
   "outputs": [],
   "source": [
    "param_grid = {\n",
    "    \"learning_rate\": [.01],\n",
    "    'max_depth': [5, 10],\n",
    "    'min_child_weight': [2, 5, 10],\n",
    "    'subsample': [0.7],\n",
    "    'n_estimators': [5, 30, 100, 250, 500]\n",
    "}"
   ]
  },
  {
   "cell_type": "code",
   "execution_count": null,
   "metadata": {},
   "outputs": [],
   "source": [
    "clf = XGBClassifier()\n",
    "grid_clf = GridSearchCV(clf, param_grid, scoring='f1_weighted', cv=None, n_jobs=1)\n",
    "grid_clf.fit(X_train, y_train)\n",
    "\n",
    "best_parameters = grid_clf.best_params_\n",
    "\n",
    "print(\"Grid Search found the following optimal parameters: \")\n",
    "for param_name in sorted(best_parameters.keys()):\n",
    "    print(\"%s: %r\" % (param_name, best_parameters[param_name]))\n",
    "\n",
    "training_preds = grid_clf.predict(X_train)\n",
    "val_preds = grid_clf.predict(X_test)\n",
    "training_f1_score = f1_score(y_train, training_preds)\n",
    "val_f1_score = f1_score(y_test, val_preds)\n",
    "\n",
    "print(\"\")\n",
    "print(\"Training f1_score: {:.4}%\".format(training_f1_score * 100))\n",
    "print(\"Validation f1_score: {:.4}%\".format(val_f1_score * 100))"
   ]
  },
  {
   "cell_type": "markdown",
   "metadata": {},
   "source": [
    "### CART"
   ]
  },
  {
   "cell_type": "code",
   "execution_count": null,
   "metadata": {},
   "outputs": [],
   "source": [
    "depth_range = range(1,40)\n",
    "val = []\n",
    "for depth in depth_range:\n",
    "    ctree = DecisionTreeClassifier(max_depth = depth)\n",
    "    depth_score = cross_val_score(ctree, X, y, cv=3)\n",
    "    val.append(depth_score.mean())\n",
    "best_dt_score = {'depth_score': val.index(max(val))+1, 'cross_val_score': max(val)}\n",
    "print(best_dt_score)"
   ]
  },
  {
   "cell_type": "markdown",
   "metadata": {},
   "source": [
    "### KNN"
   ]
  },
  {
   "cell_type": "code",
   "execution_count": null,
   "metadata": {},
   "outputs": [],
   "source": [
    "k_range = range(1, 40)\n",
    "k_scores = []\n",
    "for k in k_range:\n",
    "    knn = KNeighborsClassifier(n_neighbors=k)\n",
    "    knn.fit(X_train, y_train)\n",
    "    y_pred = knn.predict(X_test)\n",
    "    score = f1_score(y_test, y_pred, average='weighted')\n",
    "    k_scores.append( score)\n",
    "best_k_score = {'k_score': k_scores.index(max(k_scores))+1, 'f1_score': max(k_scores)}\n",
    "print(best_k_score)"
   ]
  },
  {
   "cell_type": "markdown",
   "metadata": {},
   "source": [
    "### SVC"
   ]
  },
  {
   "cell_type": "code",
   "execution_count": null,
   "metadata": {},
   "outputs": [],
   "source": [
    "warnings.filterwarnings('ignore')\n",
    "svm_scores = []\n",
    "for svm in svm_types:\n",
    "    svclassifier = SVC(kernel=svm)  \n",
    "    svclassifier.fit(X_train, y_train) \n",
    "    y_pred = svclassifier.predict(X_test)\n",
    "    svm_scores.append(f1_score(y_test, y_pred, average='weighted'))\n",
    "best_svm_score = {'svm_type': svm_types[svm_scores.index(max(svm_scores))], 'f1_score': max(svm_scores)}\n",
    "print(best_svm_score)"
   ]
  },
  {
   "cell_type": "code",
   "execution_count": 35,
   "metadata": {},
   "outputs": [
    {
     "name": "stdout",
     "output_type": "stream",
     "text": [
      "Grid Search found the following optimal parameters: \n",
      "max_depth: 10\n",
      "max_features: 2\n",
      "n_estimators: 100\n",
      "[[234  16]\n",
      " [ 12  63]]\n",
      "              precision    recall  f1-score   support\n",
      "\n",
      "           0       0.95      0.94      0.94       250\n",
      "           1       0.80      0.84      0.82        75\n",
      "\n",
      "   micro avg       0.91      0.91      0.91       325\n",
      "   macro avg       0.87      0.89      0.88       325\n",
      "weighted avg       0.92      0.91      0.91       325\n",
      "\n",
      "Accuracy score: 0.91\n"
     ]
    },
    {
     "data": {
      "image/png": "[encoded data removed]",
      "text/plain": [
       "<Figure size 504x360 with 2 Axes>"
      ]
     },
     "metadata": {
      "needs_background": "light"
     },
     "output_type": "display_data"
    }
   ],
   "source": [
    "# clf = RandomForestClassifier()\n",
    "# grid_clf = GridSearchCV(clf, param_grid, scoring='f1_weighted')\n",
    "# grid_clf.fit(X_train, y_train)\n",
    "\n",
    "# best_parameters = grid_clf.best_params_\n",
    "\n",
    "# print(\"Grid Search found the following optimal parameters: \")\n",
    "# for param_name in sorted(best_parameters.keys()):\n",
    "#     print(\"%s: %r\" % (param_name, best_parameters[param_name]))\n",
    "\n",
    "# y_pred = grid_clf.predict(X_test)\n",
    "\n",
    "# print(confusion_matrix(y_test, y_pred))\n",
    "# print(classification_report(y_test, y_pred))\n",
    "# print('Accuracy score:', round(accuracy_score(y_test, y_pred),2))\n",
    "\n",
    "# cm = confusion_matrix(y_test, y_pred)\n",
    "# df_cm = pd.DataFrame(cm.astype('float') / cm.sum(axis=1)[:, np.newaxis],\n",
    "#                      index =['F','T'], \n",
    "#                      columns=['F','T'])\n",
    "# plt.figure(figsize = (7,5))\n",
    "# sns.heatmap(df_cm, annot=True, cmap='Greens')\n",
    "# plt.xlabel('Pred Val')\n",
    "# plt.ylabel('True Val')\n",
    "# plt.show()"
   ]
  },
  {
   "cell_type": "code",
   "execution_count": 37,
   "metadata": {},
   "outputs": [
    {
     "name": "stdout",
     "output_type": "stream",
     "text": [
      "Grid Search found the following optimal parameters: \n",
      "C: 1\n",
      "degree: 2\n",
      "kernel: 'linear'\n",
      "shrinking: True\n",
      "[[237  13]\n",
      " [ 13  62]]\n",
      "              precision    recall  f1-score   support\n",
      "\n",
      "           0       0.95      0.95      0.95       250\n",
      "           1       0.83      0.83      0.83        75\n",
      "\n",
      "   micro avg       0.92      0.92      0.92       325\n",
      "   macro avg       0.89      0.89      0.89       325\n",
      "weighted avg       0.92      0.92      0.92       325\n",
      "\n",
      "Accuracy score: 0.92\n"
     ]
    },
    {
     "data": {
      "image/png": "[encoded data removed]",
      "text/plain": [
       "<Figure size 504x360 with 2 Axes>"
      ]
     },
     "metadata": {
      "needs_background": "light"
     },
     "output_type": "display_data"
    }
   ],
   "source": [
    "clf = SVC()\n",
    "grid_clf = GridSearchCV(clf, param_grid, scoring='f1_weighted')\n",
    "grid_clf.fit(X_train, y_train)\n",
    "\n",
    "best_parameters = grid_clf.best_params_\n",
    "\n",
    "print(\"Grid Search found the following optimal parameters: \")\n",
    "for param_name in sorted(best_parameters.keys()):\n",
    "    print(\"%s: %r\" % (param_name, best_parameters[param_name]))\n",
    "\n",
    "y_pred = grid_clf.predict(X_test)\n",
    "\n",
    "print(confusion_matrix(y_test, y_pred))\n",
    "print(classification_report(y_test, y_pred))\n",
    "print('Accuracy score:', round(accuracy_score(y_test, y_pred),2))\n",
    "\n",
    "cm = confusion_matrix(y_test, y_pred)\n",
    "df_cm = pd.DataFrame(cm.astype('float') / cm.sum(axis=1)[:, np.newaxis],\n",
    "                     index =['F','T'], \n",
    "                     columns=['F','T'])\n",
    "plt.figure(figsize = (7,5))\n",
    "sns.heatmap(df_cm, annot=True, cmap='Greens')\n",
    "plt.xlabel('Pred Val')\n",
    "plt.ylabel('True Val')\n",
    "plt.show()"
   ]
  },
  {
   "cell_type": "code",
   "execution_count": 39,
   "metadata": {},
   "outputs": [
    {
     "name": "stdout",
     "output_type": "stream",
     "text": [
      "Grid Search found the following optimal parameters: \n",
      "learning_rate: 0.1\n",
      "max_depth: 3\n",
      "min_child_weight: 2\n",
      "n_estimators: 100\n",
      "subsample: 0.7\n",
      "[[231  19]\n",
      " [ 12  63]]\n",
      "              precision    recall  f1-score   support\n",
      "\n",
      "           0       0.95      0.92      0.94       250\n",
      "           1       0.77      0.84      0.80        75\n",
      "\n",
      "   micro avg       0.90      0.90      0.90       325\n",
      "   macro avg       0.86      0.88      0.87       325\n",
      "weighted avg       0.91      0.90      0.91       325\n",
      "\n",
      "Accuracy score: 0.9\n"
     ]
    },
    {
     "data": {
      "image/png": "[encoded data removed]",
      "text/plain": [
       "<Figure size 504x360 with 2 Axes>"
      ]
     },
     "metadata": {
      "needs_background": "light"
     },
     "output_type": "display_data"
    }
   ],
   "source": [
    "clf = XGBClassifier()\n",
    "grid_clf = GridSearchCV(clf, param_grid, scoring='f1_weighted', cv=None, n_jobs=1)\n",
    "grid_clf.fit(X_train, y_train)\n",
    "\n",
    "best_parameters = grid_clf.best_params_\n",
    "\n",
    "print(\"Grid Search found the following optimal parameters: \")\n",
    "for param_name in sorted(best_parameters.keys()):\n",
    "    print(\"%s: %r\" % (param_name, best_parameters[param_name]))\n",
    "\n",
    "y_pred = grid_clf.predict(X_test)\n",
    "\n",
    "print(confusion_matrix(y_test, y_pred))\n",
    "print(classification_report(y_test, y_pred))\n",
    "print('Accuracy score:', round(accuracy_score(y_test, y_pred),2))\n",
    "\n",
    "cm = confusion_matrix(y_test, y_pred)\n",
    "df_cm = pd.DataFrame(cm.astype('float') / cm.sum(axis=1)[:, np.newaxis],\n",
    "                     index =['F','T'], \n",
    "                     columns=['F','T'])\n",
    "plt.figure(figsize = (7,5))\n",
    "sns.heatmap(df_cm, annot=True, cmap='Greens')\n",
    "plt.xlabel('Pred Val')\n",
    "plt.ylabel('True Val')\n",
    "plt.show()"
   ]
  },
  {
   "cell_type": "code",
   "execution_count": null,
   "metadata": {},
   "outputs": [],
   "source": []
  }
 ],
 "metadata": {
  "kernelspec": {
   "display_name": "Python 3",
   "language": "python",
   "name": "python3"
  },
  "language_info": {
   "codemirror_mode": {
    "name": "ipython",
    "version": 3
   },
   "file_extension": ".py",
   "mimetype": "text/x-python",
   "name": "python",
   "nbconvert_exporter": "python",
   "pygments_lexer": "ipython3",
   "version": "3.7.3"
  }
 },
 "nbformat": 4,
 "nbformat_minor": 2
}
