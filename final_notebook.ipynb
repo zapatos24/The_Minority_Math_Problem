{
 "cells": [
  {
   "cell_type": "markdown",
   "metadata": {},
   "source": [
    "# Mod 5 Final Project"
   ]
  },
  {
   "cell_type": "markdown",
   "metadata": {},
   "source": [
    "Jeremy Owens"
   ]
  },
  {
   "cell_type": "markdown",
   "metadata": {},
   "source": [
    "Import necessary libraries"
   ]
  },
  {
   "cell_type": "code",
   "execution_count": 108,
   "metadata": {},
   "outputs": [],
   "source": [
    "import pandas as pd\n",
    "import numpy as np\n",
    "import matplotlib.pyplot as plt\n",
    "import seaborn as sns\n",
    "import warnings\n",
    "import xgboost as xgb\n",
    "from sklearn.preprocessing import StandardScaler\n",
    "from sklearn.model_selection import train_test_split, cross_val_score, GridSearchCV\n",
    "from sklearn.linear_model import LogisticRegression\n",
    "from sklearn.neighbors import KNeighborsClassifier\n",
    "from sklearn.tree import DecisionTreeClassifier\n",
    "from sklearn.svm import SVC\n",
    "from sklearn.decomposition import PCA\n",
    "from sklearn.metrics import classification_report, confusion_matrix , accuracy_score, mean_squared_error, f1_score\n",
    "\n",
    "%matplotlib inline"
   ]
  },
  {
   "cell_type": "markdown",
   "metadata": {},
   "source": [
    "## Data Cleaning / EDA"
   ]
  },
  {
   "cell_type": "markdown",
   "metadata": {},
   "source": [
    "We begin our process by reading in the 2016 School Explorer Dataset and eliminating a variety of columns that are not useful to our analysis"
   ]
  },
  {
   "cell_type": "code",
   "execution_count": 25,
   "metadata": {
    "scrolled": true
   },
   "outputs": [],
   "source": [
    "schools_df = pd.read_csv('2016 School Explorer.csv')\n",
    "cols_to_drop = ['Adjusted Grade', \n",
    "                'New?', \n",
    "                'Other Location Code in LCGMS',\n",
    "                'School Name',\n",
    "                'District',\n",
    "                'SED Code', \n",
    "                'Latitude', \n",
    "                'Longitude',\n",
    "                'Address (Full)',\n",
    "                'City',\n",
    "                'Zip',\n",
    "                'Grades',\n",
    "                'Rigorous Instruction Rating',\n",
    "                'Collaborative Teachers Rating',\n",
    "                'Supportive Environment Rating',\n",
    "                'Effective School Leadership Rating',\n",
    "                'Strong Family-Community Ties Rating',\n",
    "                'Trust Rating',\n",
    "                'School Income Estimate',\n",
    "                'Average ELA Proficiency',\n",
    "                'Community School?',\n",
    "                'Grade 3 ELA - All Students Tested',\n",
    "                'Grade 3 ELA 4s - All Students',\n",
    "                'Grade 3 ELA 4s - American Indian or Alaska Native',\n",
    "                'Grade 3 ELA 4s - Black or African American',\n",
    "                'Grade 3 ELA 4s - Hispanic or Latino',\n",
    "                'Grade 3 ELA 4s - Asian or Pacific Islander',\n",
    "                'Grade 3 ELA 4s - White',\n",
    "                'Grade 3 ELA 4s - Multiracial',\n",
    "                'Grade 3 ELA 4s - Limited English Proficient',\n",
    "                'Grade 3 ELA 4s - Economically Disadvantaged',\n",
    "                'Grade 3 Math - All Students tested',\n",
    "                'Grade 3 Math 4s - All Students',\n",
    "                'Grade 3 Math 4s - American Indian or Alaska Native',\n",
    "                'Grade 3 Math 4s - Black or African American',\n",
    "                'Grade 3 Math 4s - Hispanic or Latino',\n",
    "                'Grade 3 Math 4s - Asian or Pacific Islander',\n",
    "                'Grade 3 Math 4s - White',\n",
    "                'Grade 3 Math 4s - Multiracial',\n",
    "                'Grade 3 Math 4s - Limited English Proficient',\n",
    "                'Grade 3 Math 4s - Economically Disadvantaged',\n",
    "                'Grade 4 ELA - All Students Tested',\n",
    "                'Grade 4 ELA 4s - All Students',\n",
    "                'Grade 4 ELA 4s - American Indian or Alaska Native',\n",
    "                'Grade 4 ELA 4s - Black or African American',\n",
    "                'Grade 4 ELA 4s - Hispanic or Latino',\n",
    "                'Grade 4 ELA 4s - Asian or Pacific Islander',\n",
    "                'Grade 4 ELA 4s - White',\n",
    "                'Grade 4 ELA 4s - Multiracial',\n",
    "                'Grade 4 ELA 4s - Limited English Proficient',\n",
    "                'Grade 4 ELA 4s - Economically Disadvantaged',\n",
    "                'Grade 4 Math - All Students Tested',\n",
    "                'Grade 4 Math 4s - All Students',\n",
    "                'Grade 4 Math 4s - American Indian or Alaska Native',\n",
    "                'Grade 4 Math 4s - Black or African American',\n",
    "                'Grade 4 Math 4s - Hispanic or Latino',\n",
    "                'Grade 4 Math 4s - Asian or Pacific Islander',\n",
    "                'Grade 4 Math 4s - White',\n",
    "                'Grade 4 Math 4s - Multiracial',\n",
    "                'Grade 4 Math 4s - Limited English Proficient',\n",
    "                'Grade 4 Math 4s - Economically Disadvantaged',\n",
    "                'Grade 5 ELA - All Students Tested',\n",
    "                'Grade 5 ELA 4s - All Students',\n",
    "                'Grade 5 ELA 4s - American Indian or Alaska Native',\n",
    "                'Grade 5 ELA 4s - Black or African American',\n",
    "                'Grade 5 ELA 4s - Hispanic or Latino',\n",
    "                'Grade 5 ELA 4s - Asian or Pacific Islander',\n",
    "                'Grade 5 ELA 4s - White',\n",
    "                'Grade 5 ELA 4s - Multiracial',\n",
    "                'Grade 5 ELA 4s - Limited English Proficient',\n",
    "                'Grade 5 ELA 4s - Economically Disadvantaged',\n",
    "                'Grade 5 Math - All Students Tested',\n",
    "                'Grade 5 Math 4s - All Students',\n",
    "                'Grade 5 Math 4s - American Indian or Alaska Native',\n",
    "                'Grade 5 Math 4s - Black or African American',\n",
    "                'Grade 5 Math 4s - Hispanic or Latino',\n",
    "                'Grade 5 Math 4s - Asian or Pacific Islander',\n",
    "                'Grade 5 Math 4s - White',\n",
    "                'Grade 5 Math 4s - Multiracial',\n",
    "                'Grade 5 Math 4s - Limited English Proficient',\n",
    "                'Grade 5 Math 4s - Economically Disadvantaged',\n",
    "                'Grade 6 ELA - All Students Tested',\n",
    "                'Grade 6 ELA 4s - All Students',\n",
    "                'Grade 6 ELA 4s - American Indian or Alaska Native',\n",
    "                'Grade 6 ELA 4s - Black or African American',\n",
    "                'Grade 6 ELA 4s - Hispanic or Latino',\n",
    "                'Grade 6 ELA 4s - Asian or Pacific Islander',\n",
    "                'Grade 6 ELA 4s - White',\n",
    "                'Grade 6 ELA 4s - Multiracial',\n",
    "                'Grade 6 ELA 4s - Limited English Proficient',\n",
    "                'Grade 6 ELA 4s - Economically Disadvantaged',\n",
    "                'Grade 6 Math - All Students Tested',\n",
    "                'Grade 6 Math 4s - All Students',\n",
    "                'Grade 6 Math 4s - American Indian or Alaska Native',\n",
    "                'Grade 6 Math 4s - Black or African American',\n",
    "                'Grade 6 Math 4s - Hispanic or Latino',\n",
    "                'Grade 6 Math 4s - Asian or Pacific Islander',\n",
    "                'Grade 6 Math 4s - White',\n",
    "                'Grade 6 Math 4s - Multiracial',\n",
    "                'Grade 6 Math 4s - Limited English Proficient',\n",
    "                'Grade 6 Math 4s - Economically Disadvantaged',\n",
    "                'Grade 7 ELA - All Students Tested',\n",
    "                'Grade 7 ELA 4s - All Students',\n",
    "                'Grade 7 ELA 4s - American Indian or Alaska Native',\n",
    "                'Grade 7 ELA 4s - Black or African American',\n",
    "                'Grade 7 ELA 4s - Hispanic or Latino',\n",
    "                'Grade 7 ELA 4s - Asian or Pacific Islander',\n",
    "                'Grade 7 ELA 4s - White',\n",
    "                'Grade 7 ELA 4s - Multiracial',\n",
    "                'Grade 7 ELA 4s - Limited English Proficient',\n",
    "                'Grade 7 ELA 4s - Economically Disadvantaged',\n",
    "                'Grade 7 Math - All Students Tested',\n",
    "                'Grade 7 Math 4s - All Students',\n",
    "                'Grade 7 Math 4s - American Indian or Alaska Native',\n",
    "                'Grade 7 Math 4s - Black or African American',\n",
    "                'Grade 7 Math 4s - Hispanic or Latino',\n",
    "                'Grade 7 Math 4s - Asian or Pacific Islander',\n",
    "                'Grade 7 Math 4s - White',\n",
    "                'Grade 7 Math 4s - Multiracial',\n",
    "                'Grade 7 Math 4s - Limited English Proficient',\n",
    "                'Grade 7 Math 4s - Economically Disadvantaged',\n",
    "                'Grade 8 ELA - All Students Tested',\n",
    "                'Grade 8 ELA 4s - All Students',\n",
    "                'Grade 8 ELA 4s - American Indian or Alaska Native',\n",
    "                'Grade 8 ELA 4s - Black or African American',\n",
    "                'Grade 8 ELA 4s - Hispanic or Latino',\n",
    "                'Grade 8 ELA 4s - Asian or Pacific Islander',\n",
    "                'Grade 8 ELA 4s - White',\n",
    "                'Grade 8 ELA 4s - Multiracial',\n",
    "                'Grade 8 ELA 4s - Limited English Proficient',\n",
    "                'Grade 8 ELA 4s - Economically Disadvantaged',\n",
    "                'Grade 8 Math - All Students Tested',\n",
    "                'Grade 8 Math 4s - All Students',\n",
    "                'Grade 8 Math 4s - American Indian or Alaska Native',\n",
    "                'Grade 8 Math 4s - Black or African American',\n",
    "                'Grade 8 Math 4s - Hispanic or Latino',\n",
    "                'Grade 8 Math 4s - Asian or Pacific Islander',\n",
    "                'Grade 8 Math 4s - White',\n",
    "                'Grade 8 Math 4s - Multiracial',\n",
    "                'Grade 8 Math 4s - Limited English Proficient',\n",
    "                'Grade 8 Math 4s - Economically Disadvantaged'\n",
    "                ]\n",
    "schools_df.drop(cols_to_drop, axis=1, inplace=True)"
   ]
  },
  {
   "cell_type": "code",
   "execution_count": 26,
   "metadata": {},
   "outputs": [],
   "source": [
    "def acheivement_score(rating):\n",
    "    '''\n",
    "    Takes the rating passed to it and returns an integer\n",
    "    value representing how school meets target goals\n",
    "    '''\n",
    "    if rating == 'Exceeding Target':\n",
    "        return 4\n",
    "    if rating == 'Meeting Target':\n",
    "        return 3\n",
    "    if rating == 'Approaching Target':\n",
    "        return 2\n",
    "    if rating == 'Not Meeting Target':\n",
    "        return 1\n",
    "    else:\n",
    "        return None"
   ]
  },
  {
   "cell_type": "code",
   "execution_count": 27,
   "metadata": {},
   "outputs": [],
   "source": [
    "def percent_cols_to_float(df):\n",
    "    '''\n",
    "    For any dataframe passed in, returns a new dataframe where\n",
    "    values are floats between 0 and 1 representing the respective\n",
    "    rate or percent in that column\n",
    "    '''\n",
    "    for col in df.columns:\n",
    "        if 'Rate' in col or 'Percent' in col or '%' in col:\n",
    "            df[col] = df[col].apply(lambda x: float(x.replace('%',''))*.01)\n",
    "    return df"
   ]
  },
  {
   "cell_type": "code",
   "execution_count": 28,
   "metadata": {},
   "outputs": [],
   "source": [
    "def make_grades_int(grade):\n",
    "    '''\n",
    "    Takes a grade and returns an integer representative of that \n",
    "    grade in the school system\n",
    "    '''\n",
    "    if grade == 'PK':\n",
    "        return -1\n",
    "    elif grade == '0K':\n",
    "        return 0\n",
    "    else:\n",
    "        return int(grade)"
   ]
  },
  {
   "cell_type": "code",
   "execution_count": 29,
   "metadata": {},
   "outputs": [],
   "source": [
    "schools_df['Student Achievement Rating'] = schools_df['Student Achievement Rating'].apply(lambda x: acheivement_score(x))\n",
    "schools_df['Student Achievement Rating'].fillna(schools_df['Student Achievement Rating'].median(), inplace=True)"
   ]
  },
  {
   "cell_type": "code",
   "execution_count": 30,
   "metadata": {},
   "outputs": [],
   "source": [
    "schools_df.dropna(inplace=True)"
   ]
  },
  {
   "cell_type": "code",
   "execution_count": 31,
   "metadata": {},
   "outputs": [],
   "source": [
    "schools_df = percent_cols_to_float(schools_df)"
   ]
  },
  {
   "cell_type": "code",
   "execution_count": 32,
   "metadata": {},
   "outputs": [],
   "source": [
    "races_to_drop = ['Percent ELL',\n",
    "                 'Percent Asian',\n",
    "                 'Percent Black',\n",
    "                 'Percent Hispanic',\n",
    "                 'Percent Black / Hispanic',\n",
    "                 'Percent White']\n",
    "race_df = schools_df[['Location Code'] + races_to_drop].set_index('Location Code')\n",
    "schools_df = schools_df.drop(races_to_drop, axis=1).set_index('Location Code')"
   ]
  },
  {
   "cell_type": "code",
   "execution_count": 33,
   "metadata": {},
   "outputs": [],
   "source": [
    "schools_df['Grade Low'] = schools_df['Grade Low'].apply(lambda x: make_grades_int(x))\n",
    "schools_df['Grade High'] = schools_df['Grade High'].apply(lambda x: make_grades_int(x))\n",
    "schools_df['Grade_range'] = schools_df['Grade High'] - schools_df['Grade Low']\n",
    "schools_df.drop(['Grade Low', 'Grade High'], axis=1, inplace=True)"
   ]
  },
  {
   "cell_type": "markdown",
   "metadata": {},
   "source": [
    "### Incorportation of Additional Data"
   ]
  },
  {
   "cell_type": "markdown",
   "metadata": {},
   "source": [
    "Importing the Pupil to Teacher dataset for joining to main dataset"
   ]
  },
  {
   "cell_type": "code",
   "execution_count": 34,
   "metadata": {},
   "outputs": [],
   "source": [
    "pupil_teacher_ratio_df = pd.read_csv('2015_-_2016_Final_Class_Size_Report_Pupil-to-Teacher_Ratio__PTR_.csv')\n",
    "pupil_teacher_ratio_df = pupil_teacher_ratio_df.drop('School Name', axis=1).set_index('DBN')"
   ]
  },
  {
   "cell_type": "code",
   "execution_count": 35,
   "metadata": {},
   "outputs": [],
   "source": [
    "final_df = schools_df.join(pupil_teacher_ratio_df)"
   ]
  },
  {
   "cell_type": "code",
   "execution_count": 36,
   "metadata": {},
   "outputs": [
    {
     "name": "stdout",
     "output_type": "stream",
     "text": [
      "<class 'pandas.core.frame.DataFrame'>\n",
      "Index: 1217 entries, 01M015 to 84X730\n",
      "Data columns (total 13 columns):\n",
      "Economic Need Index                       1217 non-null float64\n",
      "Student Attendance Rate                   1217 non-null float64\n",
      "Percent of Students Chronically Absent    1217 non-null float64\n",
      "Rigorous Instruction %                    1217 non-null float64\n",
      "Collaborative Teachers %                  1217 non-null float64\n",
      "Supportive Environment %                  1217 non-null float64\n",
      "Effective School Leadership %             1217 non-null float64\n",
      "Strong Family-Community Ties %            1217 non-null float64\n",
      "Trust %                                   1217 non-null float64\n",
      "Student Achievement Rating                1217 non-null float64\n",
      "Average Math Proficiency                  1217 non-null float64\n",
      "Grade_range                               1217 non-null int64\n",
      "School Pupil-Teacher Ratio                1083 non-null float64\n",
      "dtypes: float64(12), int64(1)\n",
      "memory usage: 173.1+ KB\n"
     ]
    },
    {
     "data": {
      "text/plain": [
       "None"
      ]
     },
     "metadata": {},
     "output_type": "display_data"
    },
    {
     "data": {
      "text/html": [
       "<div>\n",
       "<style scoped>\n",
       "    .dataframe tbody tr th:only-of-type {\n",
       "        vertical-align: middle;\n",
       "    }\n",
       "\n",
       "    .dataframe tbody tr th {\n",
       "        vertical-align: top;\n",
       "    }\n",
       "\n",
       "    .dataframe thead th {\n",
       "        text-align: right;\n",
       "    }\n",
       "</style>\n",
       "<table border=\"1\" class=\"dataframe\">\n",
       "  <thead>\n",
       "    <tr style=\"text-align: right;\">\n",
       "      <th></th>\n",
       "      <th>Economic Need Index</th>\n",
       "      <th>Student Attendance Rate</th>\n",
       "      <th>Percent of Students Chronically Absent</th>\n",
       "      <th>Rigorous Instruction %</th>\n",
       "      <th>Collaborative Teachers %</th>\n",
       "      <th>Supportive Environment %</th>\n",
       "      <th>Effective School Leadership %</th>\n",
       "      <th>Strong Family-Community Ties %</th>\n",
       "      <th>Trust %</th>\n",
       "      <th>Student Achievement Rating</th>\n",
       "      <th>Average Math Proficiency</th>\n",
       "      <th>Grade_range</th>\n",
       "      <th>School Pupil-Teacher Ratio</th>\n",
       "    </tr>\n",
       "    <tr>\n",
       "      <th>Location Code</th>\n",
       "      <th></th>\n",
       "      <th></th>\n",
       "      <th></th>\n",
       "      <th></th>\n",
       "      <th></th>\n",
       "      <th></th>\n",
       "      <th></th>\n",
       "      <th></th>\n",
       "      <th></th>\n",
       "      <th></th>\n",
       "      <th></th>\n",
       "      <th></th>\n",
       "      <th></th>\n",
       "    </tr>\n",
       "  </thead>\n",
       "  <tbody>\n",
       "    <tr>\n",
       "      <th>01M015</th>\n",
       "      <td>0.919</td>\n",
       "      <td>0.94</td>\n",
       "      <td>0.18</td>\n",
       "      <td>0.89</td>\n",
       "      <td>0.94</td>\n",
       "      <td>0.86</td>\n",
       "      <td>0.91</td>\n",
       "      <td>0.85</td>\n",
       "      <td>0.94</td>\n",
       "      <td>2.0</td>\n",
       "      <td>2.17</td>\n",
       "      <td>6</td>\n",
       "      <td>9.2</td>\n",
       "    </tr>\n",
       "    <tr>\n",
       "      <th>01M019</th>\n",
       "      <td>0.641</td>\n",
       "      <td>0.92</td>\n",
       "      <td>0.30</td>\n",
       "      <td>0.96</td>\n",
       "      <td>0.96</td>\n",
       "      <td>0.97</td>\n",
       "      <td>0.90</td>\n",
       "      <td>0.86</td>\n",
       "      <td>0.94</td>\n",
       "      <td>4.0</td>\n",
       "      <td>2.98</td>\n",
       "      <td>6</td>\n",
       "      <td>7.0</td>\n",
       "    </tr>\n",
       "    <tr>\n",
       "      <th>01M020</th>\n",
       "      <td>0.744</td>\n",
       "      <td>0.94</td>\n",
       "      <td>0.20</td>\n",
       "      <td>0.87</td>\n",
       "      <td>0.77</td>\n",
       "      <td>0.82</td>\n",
       "      <td>0.61</td>\n",
       "      <td>0.80</td>\n",
       "      <td>0.79</td>\n",
       "      <td>2.0</td>\n",
       "      <td>2.54</td>\n",
       "      <td>6</td>\n",
       "      <td>13.3</td>\n",
       "    </tr>\n",
       "    <tr>\n",
       "      <th>01M034</th>\n",
       "      <td>0.860</td>\n",
       "      <td>0.92</td>\n",
       "      <td>0.28</td>\n",
       "      <td>0.85</td>\n",
       "      <td>0.78</td>\n",
       "      <td>0.82</td>\n",
       "      <td>0.73</td>\n",
       "      <td>0.89</td>\n",
       "      <td>0.88</td>\n",
       "      <td>4.0</td>\n",
       "      <td>2.47</td>\n",
       "      <td>9</td>\n",
       "      <td>10.9</td>\n",
       "    </tr>\n",
       "    <tr>\n",
       "      <th>01M063</th>\n",
       "      <td>0.730</td>\n",
       "      <td>0.93</td>\n",
       "      <td>0.23</td>\n",
       "      <td>0.90</td>\n",
       "      <td>0.88</td>\n",
       "      <td>0.87</td>\n",
       "      <td>0.81</td>\n",
       "      <td>0.89</td>\n",
       "      <td>0.93</td>\n",
       "      <td>3.0</td>\n",
       "      <td>2.54</td>\n",
       "      <td>6</td>\n",
       "      <td>10.6</td>\n",
       "    </tr>\n",
       "  </tbody>\n",
       "</table>\n",
       "</div>"
      ],
      "text/plain": [
       "               Economic Need Index  Student Attendance Rate  \\\n",
       "Location Code                                                 \n",
       "01M015                       0.919                     0.94   \n",
       "01M019                       0.641                     0.92   \n",
       "01M020                       0.744                     0.94   \n",
       "01M034                       0.860                     0.92   \n",
       "01M063                       0.730                     0.93   \n",
       "\n",
       "               Percent of Students Chronically Absent  Rigorous Instruction %  \\\n",
       "Location Code                                                                   \n",
       "01M015                                           0.18                    0.89   \n",
       "01M019                                           0.30                    0.96   \n",
       "01M020                                           0.20                    0.87   \n",
       "01M034                                           0.28                    0.85   \n",
       "01M063                                           0.23                    0.90   \n",
       "\n",
       "               Collaborative Teachers %  Supportive Environment %  \\\n",
       "Location Code                                                       \n",
       "01M015                             0.94                      0.86   \n",
       "01M019                             0.96                      0.97   \n",
       "01M020                             0.77                      0.82   \n",
       "01M034                             0.78                      0.82   \n",
       "01M063                             0.88                      0.87   \n",
       "\n",
       "               Effective School Leadership %  Strong Family-Community Ties %  \\\n",
       "Location Code                                                                  \n",
       "01M015                                  0.91                            0.85   \n",
       "01M019                                  0.90                            0.86   \n",
       "01M020                                  0.61                            0.80   \n",
       "01M034                                  0.73                            0.89   \n",
       "01M063                                  0.81                            0.89   \n",
       "\n",
       "               Trust %  Student Achievement Rating  Average Math Proficiency  \\\n",
       "Location Code                                                                  \n",
       "01M015            0.94                         2.0                      2.17   \n",
       "01M019            0.94                         4.0                      2.98   \n",
       "01M020            0.79                         2.0                      2.54   \n",
       "01M034            0.88                         4.0                      2.47   \n",
       "01M063            0.93                         3.0                      2.54   \n",
       "\n",
       "               Grade_range  School Pupil-Teacher Ratio  \n",
       "Location Code                                           \n",
       "01M015                   6                         9.2  \n",
       "01M019                   6                         7.0  \n",
       "01M020                   6                        13.3  \n",
       "01M034                   9                        10.9  \n",
       "01M063                   6                        10.6  "
      ]
     },
     "metadata": {},
     "output_type": "display_data"
    },
    {
     "data": {
      "text/html": [
       "<div>\n",
       "<style scoped>\n",
       "    .dataframe tbody tr th:only-of-type {\n",
       "        vertical-align: middle;\n",
       "    }\n",
       "\n",
       "    .dataframe tbody tr th {\n",
       "        vertical-align: top;\n",
       "    }\n",
       "\n",
       "    .dataframe thead th {\n",
       "        text-align: right;\n",
       "    }\n",
       "</style>\n",
       "<table border=\"1\" class=\"dataframe\">\n",
       "  <thead>\n",
       "    <tr style=\"text-align: right;\">\n",
       "      <th></th>\n",
       "      <th>Percent ELL</th>\n",
       "      <th>Percent Asian</th>\n",
       "      <th>Percent Black</th>\n",
       "      <th>Percent Hispanic</th>\n",
       "      <th>Percent Black / Hispanic</th>\n",
       "      <th>Percent White</th>\n",
       "    </tr>\n",
       "    <tr>\n",
       "      <th>Location Code</th>\n",
       "      <th></th>\n",
       "      <th></th>\n",
       "      <th></th>\n",
       "      <th></th>\n",
       "      <th></th>\n",
       "      <th></th>\n",
       "    </tr>\n",
       "  </thead>\n",
       "  <tbody>\n",
       "    <tr>\n",
       "      <th>01M015</th>\n",
       "      <td>0.09</td>\n",
       "      <td>0.05</td>\n",
       "      <td>0.32</td>\n",
       "      <td>0.60</td>\n",
       "      <td>0.92</td>\n",
       "      <td>0.01</td>\n",
       "    </tr>\n",
       "    <tr>\n",
       "      <th>01M019</th>\n",
       "      <td>0.05</td>\n",
       "      <td>0.10</td>\n",
       "      <td>0.20</td>\n",
       "      <td>0.63</td>\n",
       "      <td>0.83</td>\n",
       "      <td>0.06</td>\n",
       "    </tr>\n",
       "    <tr>\n",
       "      <th>01M020</th>\n",
       "      <td>0.15</td>\n",
       "      <td>0.35</td>\n",
       "      <td>0.08</td>\n",
       "      <td>0.49</td>\n",
       "      <td>0.57</td>\n",
       "      <td>0.04</td>\n",
       "    </tr>\n",
       "    <tr>\n",
       "      <th>01M034</th>\n",
       "      <td>0.07</td>\n",
       "      <td>0.05</td>\n",
       "      <td>0.29</td>\n",
       "      <td>0.63</td>\n",
       "      <td>0.92</td>\n",
       "      <td>0.04</td>\n",
       "    </tr>\n",
       "    <tr>\n",
       "      <th>01M063</th>\n",
       "      <td>0.03</td>\n",
       "      <td>0.04</td>\n",
       "      <td>0.20</td>\n",
       "      <td>0.65</td>\n",
       "      <td>0.84</td>\n",
       "      <td>0.10</td>\n",
       "    </tr>\n",
       "  </tbody>\n",
       "</table>\n",
       "</div>"
      ],
      "text/plain": [
       "               Percent ELL  Percent Asian  Percent Black  Percent Hispanic  \\\n",
       "Location Code                                                                \n",
       "01M015                0.09           0.05           0.32              0.60   \n",
       "01M019                0.05           0.10           0.20              0.63   \n",
       "01M020                0.15           0.35           0.08              0.49   \n",
       "01M034                0.07           0.05           0.29              0.63   \n",
       "01M063                0.03           0.04           0.20              0.65   \n",
       "\n",
       "               Percent Black / Hispanic  Percent White  \n",
       "Location Code                                           \n",
       "01M015                             0.92           0.01  \n",
       "01M019                             0.83           0.06  \n",
       "01M020                             0.57           0.04  \n",
       "01M034                             0.92           0.04  \n",
       "01M063                             0.84           0.10  "
      ]
     },
     "metadata": {},
     "output_type": "display_data"
    }
   ],
   "source": [
    "display(final_df.info())\n",
    "display(final_df.head())\n",
    "display(race_df.head())"
   ]
  },
  {
   "cell_type": "markdown",
   "metadata": {},
   "source": [
    "## Model Formation - No Student-Teacher Ratio"
   ]
  },
  {
   "cell_type": "code",
   "execution_count": 39,
   "metadata": {},
   "outputs": [],
   "source": [
    "no_ratio_df = final_df.drop('School Pupil-Teacher Ratio', axis=1)"
   ]
  },
  {
   "cell_type": "code",
   "execution_count": 61,
   "metadata": {},
   "outputs": [],
   "source": [
    "upper_quartile = no_ratio_df['Average Math Proficiency'].quantile(.75)\n",
    "y = no_ratio_df['Average Math Proficiency'].apply(lambda x: 1 if x >= upper_quartile else 0)\n",
    "X = no_ratio_df.drop('Average Math Proficiency', axis=1)\n",
    "features = X.columns"
   ]
  },
  {
   "cell_type": "code",
   "execution_count": 62,
   "metadata": {},
   "outputs": [],
   "source": [
    "X = StandardScaler().fit_transform(X.astype({'Grade_range': 'float64'}))"
   ]
  },
  {
   "cell_type": "code",
   "execution_count": 72,
   "metadata": {},
   "outputs": [],
   "source": [
    "X_train, X_test, y_train, y_test = train_test_split(X,y, test_size = 0.3)"
   ]
  },
  {
   "cell_type": "markdown",
   "metadata": {},
   "source": [
    "### KNN"
   ]
  },
  {
   "cell_type": "code",
   "execution_count": 89,
   "metadata": {},
   "outputs": [
    {
     "name": "stdout",
     "output_type": "stream",
     "text": [
      "{'k_score': 11, 'f1_score': 0.8856874649461892}\n"
     ]
    }
   ],
   "source": [
    "k_range = range(1, 40)\n",
    "k_scores = []\n",
    "for k in k_range:\n",
    "    knn = KNeighborsClassifier(n_neighbors=k)\n",
    "    knn.fit(X_train, y_train)\n",
    "    y_pred = knn.predict(X_test)\n",
    "    score = f1_score(y_test, y_pred, average='weighted')\n",
    "    k_scores.append( score)\n",
    "best_k_score = {'k_score': k_scores.index(max(k_scores))+1, 'f1_score': max(k_scores)}\n",
    "print(best_k_score)"
   ]
  },
  {
   "cell_type": "markdown",
   "metadata": {},
   "source": [
    "### CART"
   ]
  },
  {
   "cell_type": "code",
   "execution_count": 96,
   "metadata": {},
   "outputs": [
    {
     "name": "stdout",
     "output_type": "stream",
     "text": [
      "{'depth_score': 5, 'cross_val_score': 0.859407245231}\n"
     ]
    }
   ],
   "source": [
    "depth_range = range(1,40)\n",
    "val = []\n",
    "for depth in depth_range:\n",
    "    ctree = DecisionTreeClassifier(max_depth = depth)\n",
    "    depth_score = cross_val_score(ctree, X, y, cv=3)\n",
    "    val.append(depth_score.mean())\n",
    "best_dt_score = {'depth_score': val.index(max(val))+1, 'cross_val_score': max(val)}\n",
    "print(best_dt_score)"
   ]
  },
  {
   "cell_type": "markdown",
   "metadata": {},
   "source": [
    "### SVM"
   ]
  },
  {
   "cell_type": "code",
   "execution_count": 97,
   "metadata": {},
   "outputs": [],
   "source": [
    "svm_types = ['linear', 'poly', 'rbf', 'sigmoid']"
   ]
  },
  {
   "cell_type": "code",
   "execution_count": 102,
   "metadata": {},
   "outputs": [
    {
     "name": "stdout",
     "output_type": "stream",
     "text": [
      "{'svm_type': 'linear', 'f1_score': 0.8892617092214444}\n"
     ]
    }
   ],
   "source": [
    "warnings.filterwarnings('ignore')\n",
    "svm_scores = []\n",
    "for svm in svm_types:\n",
    "    svclassifier = SVC(kernel=svm)  \n",
    "    svclassifier.fit(X_train, y_train) \n",
    "    y_pred = svclassifier.predict(X_test)\n",
    "    svm_scores.append(f1_score(y_test, y_pred, average='weighted'))\n",
    "best_svm_score = {'svm_type': svm_types[svm_scores.index(max(svm_scores))], 'f1_score': max(svm_scores)}\n",
    "print(best_svm_score)"
   ]
  },
  {
   "cell_type": "markdown",
   "metadata": {},
   "source": [
    "### XG Boost"
   ]
  },
  {
   "cell_type": "code",
   "execution_count": 105,
   "metadata": {},
   "outputs": [],
   "source": [
    "param_grid = {\n",
    "    \"learning_rate\": [0.1, .001],\n",
    "    'max_depth': [6, 10],\n",
    "    'min_child_weight': [10],\n",
    "    'subsample': [0.7],\n",
    "    'n_estimators': [5, 30, 100, 250]\n",
    "}"
   ]
  },
  {
   "cell_type": "code",
   "execution_count": 106,
   "metadata": {},
   "outputs": [],
   "source": [
    "# clf = xgb.XGBClassifier()\n",
    "# clf.fit(X_train, y_train)\n",
    "# training_preds = clf.predict(X_train)\n",
    "# val_preds = clf.predict(X_test)\n",
    "# training_accuracy = accuracy_score(y_train, training_preds)\n",
    "# val_accuracy = accuracy_score(y_test, val_preds)\n",
    "\n",
    "# print(\"Training Accuracy: {:.4}%\".format(training_accuracy * 100))\n",
    "# print(\"Validation accuracy: {:.4}%\".format(val_accuracy * 100))"
   ]
  },
  {
   "cell_type": "code",
   "execution_count": 1,
   "metadata": {},
   "outputs": [
    {
     "ename": "NameError",
     "evalue": "name 'xgb' is not defined",
     "output_type": "error",
     "traceback": [
      "\u001b[0;31m----------------------------------------------------------------------\u001b[0m",
      "\u001b[0;31mNameError\u001b[0m                            Traceback (most recent call last)",
      "\u001b[0;32m<ipython-input-1-3de76ada98af>\u001b[0m in \u001b[0;36m<module>\u001b[0;34m\u001b[0m\n\u001b[0;32m----> 1\u001b[0;31m \u001b[0mclf\u001b[0m \u001b[0;34m=\u001b[0m \u001b[0mxgb\u001b[0m\u001b[0;34m.\u001b[0m\u001b[0mXGBClassifier\u001b[0m\u001b[0;34m(\u001b[0m\u001b[0;34m)\u001b[0m\u001b[0;34m\u001b[0m\u001b[0;34m\u001b[0m\u001b[0m\n\u001b[0m\u001b[1;32m      2\u001b[0m \u001b[0mgrid_clf\u001b[0m \u001b[0;34m=\u001b[0m \u001b[0mGridSearchCV\u001b[0m\u001b[0;34m(\u001b[0m\u001b[0mclf\u001b[0m\u001b[0;34m,\u001b[0m \u001b[0mparam_grid\u001b[0m\u001b[0;34m,\u001b[0m \u001b[0mscoring\u001b[0m\u001b[0;34m=\u001b[0m\u001b[0;34m'f1_weighted'\u001b[0m\u001b[0;34m,\u001b[0m \u001b[0mcv\u001b[0m\u001b[0;34m=\u001b[0m\u001b[0;32mNone\u001b[0m\u001b[0;34m,\u001b[0m \u001b[0mn_jobs\u001b[0m\u001b[0;34m=\u001b[0m\u001b[0;36m1\u001b[0m\u001b[0;34m)\u001b[0m\u001b[0;34m\u001b[0m\u001b[0;34m\u001b[0m\u001b[0m\n\u001b[1;32m      3\u001b[0m \u001b[0mgrid_clf\u001b[0m\u001b[0;34m.\u001b[0m\u001b[0mfit\u001b[0m\u001b[0;34m(\u001b[0m\u001b[0mX_train\u001b[0m\u001b[0;34m,\u001b[0m \u001b[0my_train\u001b[0m\u001b[0;34m)\u001b[0m\u001b[0;34m\u001b[0m\u001b[0;34m\u001b[0m\u001b[0m\n\u001b[1;32m      4\u001b[0m \u001b[0;34m\u001b[0m\u001b[0m\n\u001b[1;32m      5\u001b[0m \u001b[0mbest_parameters\u001b[0m \u001b[0;34m=\u001b[0m \u001b[0mgrid_clf\u001b[0m\u001b[0;34m.\u001b[0m\u001b[0mbest_params_\u001b[0m\u001b[0;34m\u001b[0m\u001b[0;34m\u001b[0m\u001b[0m\n",
      "\u001b[0;31mNameError\u001b[0m: name 'xgb' is not defined"
     ]
    }
   ],
   "source": [
    "clf = xgb.XGBClassifier()\n",
    "grid_clf = GridSearchCV(clf, param_grid, scoring='f1_weighted', cv=None, n_jobs=1)\n",
    "grid_clf.fit(X_train, y_train)\n",
    "\n",
    "best_parameters = grid_clf.best_params_\n",
    "\n",
    "print(\"Grid Search found the following optimal parameters: \")\n",
    "for param_name in sorted(best_parameters.keys()):\n",
    "    print(\"%s: %r\" % (param_name, best_parameters[param_name]))\n",
    "\n",
    "training_preds = grid_clf.predict(X_train)\n",
    "val_preds = grid_clf.predict(X_test)\n",
    "training_f1 = f1_score(y_train, training_preds)\n",
    "val_f1 = f1_score(y_test, val_preds)\n",
    "\n",
    "print(\"\")\n",
    "print(\"Training F1: {:.4}%\".format(training_f1 * 100))\n",
    "print(\"Validation F1: {:.4}%\".format(val_f1 * 100))"
   ]
  },
  {
   "cell_type": "code",
   "execution_count": null,
   "metadata": {},
   "outputs": [],
   "source": []
  },
  {
   "cell_type": "code",
   "execution_count": null,
   "metadata": {},
   "outputs": [],
   "source": []
  },
  {
   "cell_type": "code",
   "execution_count": null,
   "metadata": {},
   "outputs": [],
   "source": []
  },
  {
   "cell_type": "code",
   "execution_count": null,
   "metadata": {},
   "outputs": [],
   "source": []
  },
  {
   "cell_type": "code",
   "execution_count": null,
   "metadata": {},
   "outputs": [],
   "source": []
  },
  {
   "cell_type": "code",
   "execution_count": null,
   "metadata": {},
   "outputs": [],
   "source": []
  },
  {
   "cell_type": "code",
   "execution_count": null,
   "metadata": {},
   "outputs": [],
   "source": []
  },
  {
   "cell_type": "markdown",
   "metadata": {},
   "source": [
    "# PCA Trial"
   ]
  },
  {
   "cell_type": "code",
   "execution_count": 63,
   "metadata": {},
   "outputs": [],
   "source": [
    "pca = PCA()\n",
    "principalComponents = pca.fit_transform(X)\n",
    "principalDf = pd.DataFrame(data=principalComponents)"
   ]
  },
  {
   "cell_type": "code",
   "execution_count": 64,
   "metadata": {},
   "outputs": [
    {
     "data": {
      "text/plain": [
       "array([0.38836648, 0.18129439, 0.11336637, 0.08783533, 0.06420309,\n",
       "       0.05646266, 0.04686128, 0.03139097, 0.01338449, 0.00989564,\n",
       "       0.00693931])"
      ]
     },
     "execution_count": 64,
     "metadata": {},
     "output_type": "execute_result"
    }
   ],
   "source": [
    "pca.explained_variance_ratio_"
   ]
  },
  {
   "cell_type": "code",
   "execution_count": 65,
   "metadata": {},
   "outputs": [
    {
     "data": {
      "text/plain": [
       "array([4.27554443, 1.99587827, 1.24805558, 0.96698316, 0.70681472,\n",
       "       0.62160006, 0.51589798, 0.34558465, 0.14735046, 0.10894159,\n",
       "       0.07639515])"
      ]
     },
     "execution_count": 65,
     "metadata": {},
     "output_type": "execute_result"
    }
   ],
   "source": [
    "pca.explained_variance_"
   ]
  },
  {
   "cell_type": "code",
   "execution_count": 66,
   "metadata": {},
   "outputs": [
    {
     "data": {
      "text/html": [
       "<div>\n",
       "<style scoped>\n",
       "    .dataframe tbody tr th:only-of-type {\n",
       "        vertical-align: middle;\n",
       "    }\n",
       "\n",
       "    .dataframe tbody tr th {\n",
       "        vertical-align: top;\n",
       "    }\n",
       "\n",
       "    .dataframe thead th {\n",
       "        text-align: right;\n",
       "    }\n",
       "</style>\n",
       "<table border=\"1\" class=\"dataframe\">\n",
       "  <thead>\n",
       "    <tr style=\"text-align: right;\">\n",
       "      <th></th>\n",
       "      <th>0</th>\n",
       "      <th>1</th>\n",
       "      <th>2</th>\n",
       "      <th>3</th>\n",
       "      <th>4</th>\n",
       "      <th>5</th>\n",
       "      <th>6</th>\n",
       "      <th>7</th>\n",
       "      <th>8</th>\n",
       "      <th>9</th>\n",
       "      <th>10</th>\n",
       "    </tr>\n",
       "  </thead>\n",
       "  <tbody>\n",
       "    <tr>\n",
       "      <th>0</th>\n",
       "      <td>-0.526660</td>\n",
       "      <td>0.806219</td>\n",
       "      <td>-0.473136</td>\n",
       "      <td>-1.876378</td>\n",
       "      <td>-0.309761</td>\n",
       "      <td>0.605951</td>\n",
       "      <td>-0.212830</td>\n",
       "      <td>-0.226192</td>\n",
       "      <td>0.552265</td>\n",
       "      <td>0.241854</td>\n",
       "      <td>0.002682</td>\n",
       "    </tr>\n",
       "    <tr>\n",
       "      <th>1</th>\n",
       "      <td>-2.250150</td>\n",
       "      <td>0.521489</td>\n",
       "      <td>0.105779</td>\n",
       "      <td>1.119872</td>\n",
       "      <td>-0.776556</td>\n",
       "      <td>-0.229806</td>\n",
       "      <td>0.102195</td>\n",
       "      <td>0.185383</td>\n",
       "      <td>-0.677910</td>\n",
       "      <td>0.294154</td>\n",
       "      <td>-0.057105</td>\n",
       "    </tr>\n",
       "    <tr>\n",
       "      <th>2</th>\n",
       "      <td>3.227074</td>\n",
       "      <td>-0.419903</td>\n",
       "      <td>1.082601</td>\n",
       "      <td>-0.653642</td>\n",
       "      <td>0.402790</td>\n",
       "      <td>-0.859926</td>\n",
       "      <td>-0.335302</td>\n",
       "      <td>-0.320959</td>\n",
       "      <td>0.364672</td>\n",
       "      <td>0.076237</td>\n",
       "      <td>0.320581</td>\n",
       "    </tr>\n",
       "    <tr>\n",
       "      <th>3</th>\n",
       "      <td>1.328937</td>\n",
       "      <td>0.270621</td>\n",
       "      <td>1.687033</td>\n",
       "      <td>0.885261</td>\n",
       "      <td>-1.487946</td>\n",
       "      <td>0.838126</td>\n",
       "      <td>1.111083</td>\n",
       "      <td>-0.962218</td>\n",
       "      <td>-0.095578</td>\n",
       "      <td>-0.584505</td>\n",
       "      <td>-0.275167</td>\n",
       "    </tr>\n",
       "    <tr>\n",
       "      <th>4</th>\n",
       "      <td>-0.351979</td>\n",
       "      <td>0.369809</td>\n",
       "      <td>0.418588</td>\n",
       "      <td>-0.254193</td>\n",
       "      <td>-0.166754</td>\n",
       "      <td>0.148863</td>\n",
       "      <td>0.545075</td>\n",
       "      <td>-0.599504</td>\n",
       "      <td>0.039130</td>\n",
       "      <td>-0.387677</td>\n",
       "      <td>0.044674</td>\n",
       "    </tr>\n",
       "  </tbody>\n",
       "</table>\n",
       "</div>"
      ],
      "text/plain": [
       "         0         1         2         3         4         5         6   \\\n",
       "0 -0.526660  0.806219 -0.473136 -1.876378 -0.309761  0.605951 -0.212830   \n",
       "1 -2.250150  0.521489  0.105779  1.119872 -0.776556 -0.229806  0.102195   \n",
       "2  3.227074 -0.419903  1.082601 -0.653642  0.402790 -0.859926 -0.335302   \n",
       "3  1.328937  0.270621  1.687033  0.885261 -1.487946  0.838126  1.111083   \n",
       "4 -0.351979  0.369809  0.418588 -0.254193 -0.166754  0.148863  0.545075   \n",
       "\n",
       "         7         8         9         10  \n",
       "0 -0.226192  0.552265  0.241854  0.002682  \n",
       "1  0.185383 -0.677910  0.294154 -0.057105  \n",
       "2 -0.320959  0.364672  0.076237  0.320581  \n",
       "3 -0.962218 -0.095578 -0.584505 -0.275167  \n",
       "4 -0.599504  0.039130 -0.387677  0.044674  "
      ]
     },
     "execution_count": 66,
     "metadata": {},
     "output_type": "execute_result"
    }
   ],
   "source": [
    "principalDf.head()"
   ]
  },
  {
   "cell_type": "code",
   "execution_count": 67,
   "metadata": {},
   "outputs": [
    {
     "name": "stdout",
     "output_type": "stream",
     "text": [
      "[4.27554443 1.99587827 1.24805558 0.96698316 0.70681472 0.62160006\n",
      " 0.51589798 0.34558465 0.14735046 0.10894159 0.07639515]\n",
      "[[ 0.1844014  -0.04269624  0.15689493 -0.35123821 -0.4390081  -0.3798192\n",
      "  -0.40724185 -0.30915203 -0.43135029 -0.17267631 -0.04355503]\n",
      " [ 0.40358891 -0.56409818  0.63099426  0.08268854  0.10848671  0.03675596\n",
      "   0.07963753  0.17943609  0.12282964 -0.2104772   0.05357706]\n",
      " [-0.17339868 -0.04980526 -0.03735519  0.12772054 -0.20647612  0.19163458\n",
      "  -0.30913942  0.38046864 -0.18794851 -0.04002884  0.77015432]\n",
      " [-0.29231998 -0.46474021  0.12422576  0.0924443  -0.09297433  0.04857723\n",
      "  -0.10812059 -0.15205653 -0.14470324  0.77244714 -0.10563495]\n",
      " [-0.7171641  -0.32726856  0.00892459 -0.10264916 -0.03454146 -0.01212517\n",
      "  -0.00895246  0.20013886 -0.0546341  -0.47559338 -0.31193693]\n",
      " [-0.14090267 -0.16877221 -0.06406436 -0.5574853   0.1759185  -0.46184481\n",
      "   0.3893538  -0.04160726  0.18735352  0.11357732  0.43725466]\n",
      " [ 0.17893144  0.08776063 -0.02052436 -0.57494214 -0.16757785  0.22833799\n",
      "  -0.09901791  0.62903317  0.07182867  0.24298123 -0.28177083]\n",
      " [-0.04209465 -0.097161    0.01567177 -0.40593424  0.01745718  0.69495804\n",
      "  -0.08376658 -0.51322905  0.18244902 -0.12911192  0.14180873]\n",
      " [ 0.3288206  -0.5525762  -0.73828205  0.07994323 -0.11648132 -0.01610914\n",
      "  -0.04147447  0.01251373  0.07279525 -0.10822394 -0.04867796]\n",
      " [ 0.1069234  -0.04921408 -0.08200651 -0.10488626  0.34532254  0.22145814\n",
      "   0.36921949  0.04914641 -0.81279238 -0.02722978 -0.00406104]\n",
      " [ 0.00849137 -0.03182463 -0.06137241 -0.10428805  0.74221482 -0.13208727\n",
      "  -0.6434389   0.03007761  0.01105927  0.01878377 -0.02343533]]\n"
     ]
    }
   ],
   "source": [
    "eig_values = pca.explained_variance_\n",
    "eig_vectors = pca.components_\n",
    "print(eig_values)\n",
    "print(eig_vectors)"
   ]
  },
  {
   "cell_type": "code",
   "execution_count": 68,
   "metadata": {},
   "outputs": [
    {
     "data": {
      "text/plain": [
       "Economic Need Index                       0.381294\n",
       "Student Attendance Rate                  -0.088285\n",
       "Percent of Students Chronically Absent    0.324418\n",
       "Rigorous Instruction %                   -0.726269\n",
       "Collaborative Teachers %                 -0.907754\n",
       "Supportive Environment %                 -0.785367\n",
       "Effective School Leadership %            -0.842070\n",
       "Strong Family-Community Ties %           -0.639246\n",
       "Trust %                                  -0.891920\n",
       "Student Achievement Rating               -0.357050\n",
       "Grade_range                              -0.090060\n",
       "dtype: float64"
      ]
     },
     "execution_count": 68,
     "metadata": {},
     "output_type": "execute_result"
    }
   ],
   "source": [
    "structure_loading_1 = eig_vectors[0]* np.sqrt(eig_values[0])\n",
    "str_loading_1 = pd.Series(structure_loading_1, index=features)\n",
    "str_loading_1"
   ]
  },
  {
   "cell_type": "code",
   "execution_count": 69,
   "metadata": {},
   "outputs": [
    {
     "data": {
      "text/plain": [
       "Economic Need Index                       0.381294\n",
       "Percent of Students Chronically Absent    0.324418\n",
       "Student Attendance Rate                  -0.088285\n",
       "Grade_range                              -0.090060\n",
       "Student Achievement Rating               -0.357050\n",
       "Strong Family-Community Ties %           -0.639246\n",
       "Rigorous Instruction %                   -0.726269\n",
       "Supportive Environment %                 -0.785367\n",
       "Effective School Leadership %            -0.842070\n",
       "Trust %                                  -0.891920\n",
       "Collaborative Teachers %                 -0.907754\n",
       "dtype: float64"
      ]
     },
     "execution_count": 69,
     "metadata": {},
     "output_type": "execute_result"
    }
   ],
   "source": [
    "str_loading_1.sort_values(ascending=False)"
   ]
  },
  {
   "cell_type": "code",
   "execution_count": 70,
   "metadata": {},
   "outputs": [
    {
     "data": {
      "text/plain": [
       "Text(0, 0.5, 'proportion of explained variance')"
      ]
     },
     "execution_count": 70,
     "metadata": {},
     "output_type": "execute_result"
    },
    {
     "data": {
      "image/png": "[encoded data removed]",
      "text/plain": [
       "<Figure size 432x288 with 1 Axes>"
      ]
     },
     "metadata": {
      "needs_background": "light"
     },
     "output_type": "display_data"
    }
   ],
   "source": [
    "index = np.arange(len(features))\n",
    "plt.bar(index, pca.explained_variance_ratio_)\n",
    "plt.title('Scree plot for PCA')\n",
    "plt.xlabel('Num of components')\n",
    "plt.ylabel('proportion of explained variance')"
   ]
  },
  {
   "cell_type": "code",
   "execution_count": 71,
   "metadata": {},
   "outputs": [
    {
     "data": {
      "text/plain": [
       "Text(0, 0.5, 'explained variance ratio')"
      ]
     },
     "execution_count": 71,
     "metadata": {},
     "output_type": "execute_result"
    },
    {
     "data": {
      "image/png": "[encoded data removed]",
      "text/plain": [
       "<Figure size 432x288 with 1 Axes>"
      ]
     },
     "metadata": {
      "needs_background": "light"
     },
     "output_type": "display_data"
    }
   ],
   "source": [
    "plt.plot(np.cumsum(pca.explained_variance_ratio_))\n",
    "plt.xlabel('number of components')\n",
    "plt.ylabel('explained variance ratio')"
   ]
  },
  {
   "cell_type": "code",
   "execution_count": null,
   "metadata": {},
   "outputs": [],
   "source": []
  },
  {
   "cell_type": "code",
   "execution_count": null,
   "metadata": {},
   "outputs": [],
   "source": []
  },
  {
   "cell_type": "code",
   "execution_count": null,
   "metadata": {},
   "outputs": [],
   "source": []
  },
  {
   "cell_type": "markdown",
   "metadata": {},
   "source": [
    "## Model Formation - With Student-Teacher Ratio"
   ]
  },
  {
   "cell_type": "code",
   "execution_count": 38,
   "metadata": {},
   "outputs": [],
   "source": [
    "ratio_df = final_df.dropna()"
   ]
  },
  {
   "cell_type": "code",
   "execution_count": null,
   "metadata": {},
   "outputs": [],
   "source": []
  },
  {
   "cell_type": "markdown",
   "metadata": {},
   "source": [
    "# Working Zone"
   ]
  },
  {
   "cell_type": "code",
   "execution_count": null,
   "metadata": {},
   "outputs": [],
   "source": [
    "shsat_df = pd.read_csv('D5 SHSAT Registrations and Testers.csv')\n",
    "print(len(shsat_df))\n",
    "shsat_df.head()"
   ]
  },
  {
   "cell_type": "code",
   "execution_count": null,
   "metadata": {},
   "outputs": [],
   "source": [
    "shsat_df['Enroll_register'] = round(shsat_df['Number of students who registered for the SHSAT'] / shsat_df['Enrollment on 10/31'], 4)\n",
    "shsat_df['Enroll_took'] = round(shsat_df['Number of students who took the SHSAT'] / shsat_df['Enrollment on 10/31'], 4)\n",
    "shsat_df\n"
   ]
  },
  {
   "cell_type": "code",
   "execution_count": null,
   "metadata": {},
   "outputs": [],
   "source": [
    "new_df = pd.concat([schools_df, pd.get_dummies(schools_df)], axis=1)\n",
    "new_df.head()"
   ]
  },
  {
   "cell_type": "code",
   "execution_count": 10,
   "metadata": {},
   "outputs": [],
   "source": [
    "schools_df['Community School?'] = schools_df['Community School?'].apply(lambda x: 1 if x=='Yes' else 0)"
   ]
  },
  {
   "cell_type": "code",
   "execution_count": null,
   "metadata": {},
   "outputs": [],
   "source": []
  }
 ],
 "metadata": {
  "kernelspec": {
   "display_name": "Python 3",
   "language": "python",
   "name": "python3"
  },
  "language_info": {
   "codemirror_mode": {
    "name": "ipython",
    "version": 3
   },
   "file_extension": ".py",
   "mimetype": "text/x-python",
   "name": "python",
   "nbconvert_exporter": "python",
   "pygments_lexer": "ipython3",
   "version": "3.7.3"
  }
 },
 "nbformat": 4,
 "nbformat_minor": 2
}
