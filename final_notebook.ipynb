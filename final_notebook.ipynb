{
 "cells": [
  {
   "cell_type": "markdown",
   "metadata": {},
   "source": [
    "# The Minority Math Problem"
   ]
  },
  {
   "cell_type": "markdown",
   "metadata": {},
   "source": [
    "#### Where to invest in new York city to elevate minority representation in mathematics"
   ]
  },
  {
   "cell_type": "markdown",
   "metadata": {},
   "source": [
    "Jeremy Owens"
   ]
  },
  {
   "cell_type": "markdown",
   "metadata": {},
   "source": [
    "In STEM areas of study, there is a significant lack of minority presence. One of the most tangible ways for us to improve the level of diversity is to get minority students more involved at the grade school and high school levels. In New York City, there are a number of magnet type schools focused on math and the sciences that can give students a significant leg up in their STEM careers, and this project aims to show how we can grow the minority presence in these schools."
   ]
  },
  {
   "cell_type": "markdown",
   "metadata": {},
   "source": [
    "This project will look to create a predictive model for schools with high math scores, and then look to the schools that are underperforming (where the model predicts that, given the factors present, the school should have high math scores, but in fact does not). We then look at the differences between the underperforming population and the true to performance population, to see where the city can invest its resources to have the greatest impact in schools that are underperforming against expectations and have a majority minority population."
   ]
  },
  {
   "cell_type": "markdown",
   "metadata": {},
   "source": [
    "Import necessary libraries"
   ]
  },
  {
   "cell_type": "code",
   "execution_count": 1,
   "metadata": {},
   "outputs": [],
   "source": [
    "import pandas as pd\n",
    "import numpy as np\n",
    "import matplotlib.pyplot as plt\n",
    "import seaborn as sns\n",
    "import warnings\n",
    "import os\n",
    "os.environ['KMP_DUPLICATE_LIB_OK']='True'\n",
    "\n",
    "from sklearn.preprocessing import StandardScaler\n",
    "from sklearn.model_selection import train_test_split, cross_val_score, GridSearchCV\n",
    "from sklearn.decomposition import PCA\n",
    "from sklearn.dummy import DummyClassifier\n",
    "from sklearn.linear_model import LogisticRegression\n",
    "from sklearn.neighbors import KNeighborsClassifier\n",
    "from sklearn.tree import DecisionTreeClassifier\n",
    "from sklearn.feature_selection import RFE\n",
    "from sklearn.ensemble import RandomForestClassifier\n",
    "from sklearn.svm import SVC\n",
    "from xgboost import XGBClassifier\n",
    "from scipy import stats\n",
    "from HelperFunctions import HelperFunctions as hf\n",
    "\n",
    "%matplotlib inline\n",
    "sns.set_style(\"darkgrid\")"
   ]
  },
  {
   "cell_type": "markdown",
   "metadata": {},
   "source": [
    "## Data Cleaning / EDA"
   ]
  },
  {
   "cell_type": "markdown",
   "metadata": {},
   "source": [
    "We begin our process by reading in the 2016 School Explorer Dataset and eliminating a variety of columns that are not useful to our analysis."
   ]
  },
  {
   "cell_type": "code",
   "execution_count": 2,
   "metadata": {
    "scrolled": true
   },
   "outputs": [],
   "source": [
    "initial_df = pd.read_csv('2016 School Explorer.csv')\n",
    "schools_df = hf.drop_impractical_columns(initial_df)"
   ]
  },
  {
   "cell_type": "code",
   "execution_count": 3,
   "metadata": {},
   "outputs": [],
   "source": [
    "schools_df['Student Achievement Rating'] = schools_df['Student Achievement Rating'].apply(lambda x: hf.acheivement_score(x))\n",
    "schools_df['Student Achievement Rating'].fillna(schools_df['Student Achievement Rating'].median(), inplace=True)"
   ]
  },
  {
   "cell_type": "code",
   "execution_count": 4,
   "metadata": {},
   "outputs": [],
   "source": [
    "schools_df.dropna(inplace=True)"
   ]
  },
  {
   "cell_type": "code",
   "execution_count": 5,
   "metadata": {},
   "outputs": [],
   "source": [
    "schools_df = hf.percent_cols_to_float(schools_df)"
   ]
  },
  {
   "cell_type": "markdown",
   "metadata": {},
   "source": [
    "Dropping the race statistics and storing for later use after prediction."
   ]
  },
  {
   "cell_type": "code",
   "execution_count": 6,
   "metadata": {},
   "outputs": [],
   "source": [
    "races_to_drop = ['Percent ELL',\n",
    "                 'Percent Asian',\n",
    "                 'Percent Black',\n",
    "                 'Percent Hispanic',\n",
    "                 'Percent Black / Hispanic',\n",
    "                 'Percent White']\n",
    "race_df = schools_df[['Location Code'] + races_to_drop].set_index('Location Code')\n",
    "schools_df = schools_df.drop(races_to_drop, axis=1).set_index('Location Code')"
   ]
  },
  {
   "cell_type": "code",
   "execution_count": 7,
   "metadata": {},
   "outputs": [],
   "source": [
    "schools_df['Grade Low'] = schools_df['Grade Low'].apply(lambda x: hf.make_grades_int(x))\n",
    "schools_df['Grade High'] = schools_df['Grade High'].apply(lambda x: hf.make_grades_int(x))\n",
    "schools_df['Grade_range'] = schools_df['Grade High'] - schools_df['Grade Low']\n",
    "schools_df.drop(['Grade Low', 'Grade High'], axis=1, inplace=True)"
   ]
  },
  {
   "cell_type": "markdown",
   "metadata": {},
   "source": [
    "### Incorportation of Additional Data"
   ]
  },
  {
   "cell_type": "markdown",
   "metadata": {},
   "source": [
    "Importing the Pupil to Teacher dataset for joining to main dataset."
   ]
  },
  {
   "cell_type": "code",
   "execution_count": 8,
   "metadata": {},
   "outputs": [],
   "source": [
    "pupil_teacher_ratio_df = pd.read_csv('2015_-_2016_Final_Class_Size_Report_Pupil-to-Teacher_Ratio__PTR_.csv')\n",
    "pupil_teacher_ratio_df = pupil_teacher_ratio_df.drop('School Name', axis=1).set_index('DBN')"
   ]
  },
  {
   "cell_type": "code",
   "execution_count": 9,
   "metadata": {},
   "outputs": [],
   "source": [
    "joined_df = schools_df.join(pupil_teacher_ratio_df)"
   ]
  },
  {
   "cell_type": "code",
   "execution_count": 10,
   "metadata": {},
   "outputs": [
    {
     "name": "stdout",
     "output_type": "stream",
     "text": [
      "<class 'pandas.core.frame.DataFrame'>\n",
      "Index: 1217 entries, 01M015 to 84X730\n",
      "Data columns (total 13 columns):\n",
      "Economic Need Index                       1217 non-null float64\n",
      "Student Attendance Rate                   1217 non-null float64\n",
      "Percent of Students Chronically Absent    1217 non-null float64\n",
      "Rigorous Instruction %                    1217 non-null float64\n",
      "Collaborative Teachers %                  1217 non-null float64\n",
      "Supportive Environment %                  1217 non-null float64\n",
      "Effective School Leadership %             1217 non-null float64\n",
      "Strong Family-Community Ties %            1217 non-null float64\n",
      "Trust %                                   1217 non-null float64\n",
      "Student Achievement Rating                1217 non-null float64\n",
      "Average Math Proficiency                  1217 non-null float64\n",
      "Grade_range                               1217 non-null int64\n",
      "School Pupil-Teacher Ratio                1083 non-null float64\n",
      "dtypes: float64(12), int64(1)\n",
      "memory usage: 173.1+ KB\n"
     ]
    },
    {
     "data": {
      "text/plain": [
       "None"
      ]
     },
     "metadata": {},
     "output_type": "display_data"
    },
    {
     "data": {
      "text/html": [
       "<div>\n",
       "<style scoped>\n",
       "    .dataframe tbody tr th:only-of-type {\n",
       "        vertical-align: middle;\n",
       "    }\n",
       "\n",
       "    .dataframe tbody tr th {\n",
       "        vertical-align: top;\n",
       "    }\n",
       "\n",
       "    .dataframe thead th {\n",
       "        text-align: right;\n",
       "    }\n",
       "</style>\n",
       "<table border=\"1\" class=\"dataframe\">\n",
       "  <thead>\n",
       "    <tr style=\"text-align: right;\">\n",
       "      <th></th>\n",
       "      <th>Economic Need Index</th>\n",
       "      <th>Student Attendance Rate</th>\n",
       "      <th>Percent of Students Chronically Absent</th>\n",
       "      <th>Rigorous Instruction %</th>\n",
       "      <th>Collaborative Teachers %</th>\n",
       "      <th>Supportive Environment %</th>\n",
       "      <th>Effective School Leadership %</th>\n",
       "      <th>Strong Family-Community Ties %</th>\n",
       "      <th>Trust %</th>\n",
       "      <th>Student Achievement Rating</th>\n",
       "      <th>Average Math Proficiency</th>\n",
       "      <th>Grade_range</th>\n",
       "      <th>School Pupil-Teacher Ratio</th>\n",
       "    </tr>\n",
       "    <tr>\n",
       "      <th>Location Code</th>\n",
       "      <th></th>\n",
       "      <th></th>\n",
       "      <th></th>\n",
       "      <th></th>\n",
       "      <th></th>\n",
       "      <th></th>\n",
       "      <th></th>\n",
       "      <th></th>\n",
       "      <th></th>\n",
       "      <th></th>\n",
       "      <th></th>\n",
       "      <th></th>\n",
       "      <th></th>\n",
       "    </tr>\n",
       "  </thead>\n",
       "  <tbody>\n",
       "    <tr>\n",
       "      <th>01M015</th>\n",
       "      <td>0.919</td>\n",
       "      <td>0.94</td>\n",
       "      <td>0.18</td>\n",
       "      <td>0.89</td>\n",
       "      <td>0.94</td>\n",
       "      <td>0.86</td>\n",
       "      <td>0.91</td>\n",
       "      <td>0.85</td>\n",
       "      <td>0.94</td>\n",
       "      <td>2.0</td>\n",
       "      <td>2.17</td>\n",
       "      <td>6</td>\n",
       "      <td>9.2</td>\n",
       "    </tr>\n",
       "    <tr>\n",
       "      <th>01M019</th>\n",
       "      <td>0.641</td>\n",
       "      <td>0.92</td>\n",
       "      <td>0.30</td>\n",
       "      <td>0.96</td>\n",
       "      <td>0.96</td>\n",
       "      <td>0.97</td>\n",
       "      <td>0.90</td>\n",
       "      <td>0.86</td>\n",
       "      <td>0.94</td>\n",
       "      <td>4.0</td>\n",
       "      <td>2.98</td>\n",
       "      <td>6</td>\n",
       "      <td>7.0</td>\n",
       "    </tr>\n",
       "    <tr>\n",
       "      <th>01M020</th>\n",
       "      <td>0.744</td>\n",
       "      <td>0.94</td>\n",
       "      <td>0.20</td>\n",
       "      <td>0.87</td>\n",
       "      <td>0.77</td>\n",
       "      <td>0.82</td>\n",
       "      <td>0.61</td>\n",
       "      <td>0.80</td>\n",
       "      <td>0.79</td>\n",
       "      <td>2.0</td>\n",
       "      <td>2.54</td>\n",
       "      <td>6</td>\n",
       "      <td>13.3</td>\n",
       "    </tr>\n",
       "    <tr>\n",
       "      <th>01M034</th>\n",
       "      <td>0.860</td>\n",
       "      <td>0.92</td>\n",
       "      <td>0.28</td>\n",
       "      <td>0.85</td>\n",
       "      <td>0.78</td>\n",
       "      <td>0.82</td>\n",
       "      <td>0.73</td>\n",
       "      <td>0.89</td>\n",
       "      <td>0.88</td>\n",
       "      <td>4.0</td>\n",
       "      <td>2.47</td>\n",
       "      <td>9</td>\n",
       "      <td>10.9</td>\n",
       "    </tr>\n",
       "    <tr>\n",
       "      <th>01M063</th>\n",
       "      <td>0.730</td>\n",
       "      <td>0.93</td>\n",
       "      <td>0.23</td>\n",
       "      <td>0.90</td>\n",
       "      <td>0.88</td>\n",
       "      <td>0.87</td>\n",
       "      <td>0.81</td>\n",
       "      <td>0.89</td>\n",
       "      <td>0.93</td>\n",
       "      <td>3.0</td>\n",
       "      <td>2.54</td>\n",
       "      <td>6</td>\n",
       "      <td>10.6</td>\n",
       "    </tr>\n",
       "  </tbody>\n",
       "</table>\n",
       "</div>"
      ],
      "text/plain": [
       "               Economic Need Index  Student Attendance Rate  \\\n",
       "Location Code                                                 \n",
       "01M015                       0.919                     0.94   \n",
       "01M019                       0.641                     0.92   \n",
       "01M020                       0.744                     0.94   \n",
       "01M034                       0.860                     0.92   \n",
       "01M063                       0.730                     0.93   \n",
       "\n",
       "               Percent of Students Chronically Absent  Rigorous Instruction %  \\\n",
       "Location Code                                                                   \n",
       "01M015                                           0.18                    0.89   \n",
       "01M019                                           0.30                    0.96   \n",
       "01M020                                           0.20                    0.87   \n",
       "01M034                                           0.28                    0.85   \n",
       "01M063                                           0.23                    0.90   \n",
       "\n",
       "               Collaborative Teachers %  Supportive Environment %  \\\n",
       "Location Code                                                       \n",
       "01M015                             0.94                      0.86   \n",
       "01M019                             0.96                      0.97   \n",
       "01M020                             0.77                      0.82   \n",
       "01M034                             0.78                      0.82   \n",
       "01M063                             0.88                      0.87   \n",
       "\n",
       "               Effective School Leadership %  Strong Family-Community Ties %  \\\n",
       "Location Code                                                                  \n",
       "01M015                                  0.91                            0.85   \n",
       "01M019                                  0.90                            0.86   \n",
       "01M020                                  0.61                            0.80   \n",
       "01M034                                  0.73                            0.89   \n",
       "01M063                                  0.81                            0.89   \n",
       "\n",
       "               Trust %  Student Achievement Rating  Average Math Proficiency  \\\n",
       "Location Code                                                                  \n",
       "01M015            0.94                         2.0                      2.17   \n",
       "01M019            0.94                         4.0                      2.98   \n",
       "01M020            0.79                         2.0                      2.54   \n",
       "01M034            0.88                         4.0                      2.47   \n",
       "01M063            0.93                         3.0                      2.54   \n",
       "\n",
       "               Grade_range  School Pupil-Teacher Ratio  \n",
       "Location Code                                           \n",
       "01M015                   6                         9.2  \n",
       "01M019                   6                         7.0  \n",
       "01M020                   6                        13.3  \n",
       "01M034                   9                        10.9  \n",
       "01M063                   6                        10.6  "
      ]
     },
     "metadata": {},
     "output_type": "display_data"
    },
    {
     "data": {
      "text/html": [
       "<div>\n",
       "<style scoped>\n",
       "    .dataframe tbody tr th:only-of-type {\n",
       "        vertical-align: middle;\n",
       "    }\n",
       "\n",
       "    .dataframe tbody tr th {\n",
       "        vertical-align: top;\n",
       "    }\n",
       "\n",
       "    .dataframe thead th {\n",
       "        text-align: right;\n",
       "    }\n",
       "</style>\n",
       "<table border=\"1\" class=\"dataframe\">\n",
       "  <thead>\n",
       "    <tr style=\"text-align: right;\">\n",
       "      <th></th>\n",
       "      <th>Percent ELL</th>\n",
       "      <th>Percent Asian</th>\n",
       "      <th>Percent Black</th>\n",
       "      <th>Percent Hispanic</th>\n",
       "      <th>Percent Black / Hispanic</th>\n",
       "      <th>Percent White</th>\n",
       "    </tr>\n",
       "    <tr>\n",
       "      <th>Location Code</th>\n",
       "      <th></th>\n",
       "      <th></th>\n",
       "      <th></th>\n",
       "      <th></th>\n",
       "      <th></th>\n",
       "      <th></th>\n",
       "    </tr>\n",
       "  </thead>\n",
       "  <tbody>\n",
       "    <tr>\n",
       "      <th>01M015</th>\n",
       "      <td>0.09</td>\n",
       "      <td>0.05</td>\n",
       "      <td>0.32</td>\n",
       "      <td>0.60</td>\n",
       "      <td>0.92</td>\n",
       "      <td>0.01</td>\n",
       "    </tr>\n",
       "    <tr>\n",
       "      <th>01M019</th>\n",
       "      <td>0.05</td>\n",
       "      <td>0.10</td>\n",
       "      <td>0.20</td>\n",
       "      <td>0.63</td>\n",
       "      <td>0.83</td>\n",
       "      <td>0.06</td>\n",
       "    </tr>\n",
       "    <tr>\n",
       "      <th>01M020</th>\n",
       "      <td>0.15</td>\n",
       "      <td>0.35</td>\n",
       "      <td>0.08</td>\n",
       "      <td>0.49</td>\n",
       "      <td>0.57</td>\n",
       "      <td>0.04</td>\n",
       "    </tr>\n",
       "    <tr>\n",
       "      <th>01M034</th>\n",
       "      <td>0.07</td>\n",
       "      <td>0.05</td>\n",
       "      <td>0.29</td>\n",
       "      <td>0.63</td>\n",
       "      <td>0.92</td>\n",
       "      <td>0.04</td>\n",
       "    </tr>\n",
       "    <tr>\n",
       "      <th>01M063</th>\n",
       "      <td>0.03</td>\n",
       "      <td>0.04</td>\n",
       "      <td>0.20</td>\n",
       "      <td>0.65</td>\n",
       "      <td>0.84</td>\n",
       "      <td>0.10</td>\n",
       "    </tr>\n",
       "  </tbody>\n",
       "</table>\n",
       "</div>"
      ],
      "text/plain": [
       "               Percent ELL  Percent Asian  Percent Black  Percent Hispanic  \\\n",
       "Location Code                                                                \n",
       "01M015                0.09           0.05           0.32              0.60   \n",
       "01M019                0.05           0.10           0.20              0.63   \n",
       "01M020                0.15           0.35           0.08              0.49   \n",
       "01M034                0.07           0.05           0.29              0.63   \n",
       "01M063                0.03           0.04           0.20              0.65   \n",
       "\n",
       "               Percent Black / Hispanic  Percent White  \n",
       "Location Code                                           \n",
       "01M015                             0.92           0.01  \n",
       "01M019                             0.83           0.06  \n",
       "01M020                             0.57           0.04  \n",
       "01M034                             0.92           0.04  \n",
       "01M063                             0.84           0.10  "
      ]
     },
     "metadata": {},
     "output_type": "display_data"
    }
   ],
   "source": [
    "display(joined_df.info())\n",
    "display(joined_df.head())\n",
    "display(race_df.head())"
   ]
  },
  {
   "cell_type": "markdown",
   "metadata": {},
   "source": [
    "We then look at our (mostly) final dataframe to check for significant outliers."
   ]
  },
  {
   "cell_type": "code",
   "execution_count": 11,
   "metadata": {},
   "outputs": [
    {
     "data": {
      "image/png": "[encoded data removed]",
      "text/plain": [
       "<Figure size 864x576 with 1 Axes>"
      ]
     },
     "metadata": {
      "needs_background": "light"
     },
     "output_type": "display_data"
    }
   ],
   "source": [
    "percentage_stats = joined_df.columns[:9]\n",
    "joined_df.dropna()[percentage_stats].boxplot(figsize=(12,8))\n",
    "plt.xticks(rotation=60)\n",
    "plt.show()"
   ]
  },
  {
   "cell_type": "markdown",
   "metadata": {},
   "source": [
    "From this, we remove any data points where the rigorous instruction percentage is equal to 0 (an obvious outlier in the data)."
   ]
  },
  {
   "cell_type": "code",
   "execution_count": 12,
   "metadata": {},
   "outputs": [
    {
     "data": {
      "image/png": "[encoded data removed]",
      "text/plain": [
       "<Figure size 864x576 with 1 Axes>"
      ]
     },
     "metadata": {
      "needs_background": "light"
     },
     "output_type": "display_data"
    }
   ],
   "source": [
    "warnings.filterwarnings('ignore')\n",
    "final_df = joined_df.dropna()\n",
    "instruction_outliers_indexes = final_df[final_df['Rigorous Instruction %'] == 0].index\n",
    "final_df.drop(instruction_outliers_indexes, inplace=True)\n",
    "percentage_stats = final_df.columns[:9]\n",
    "final_df[percentage_stats].boxplot(figsize=(12,8))\n",
    "plt.xticks(rotation=60)\n",
    "plt.show()"
   ]
  },
  {
   "cell_type": "markdown",
   "metadata": {},
   "source": [
    " We then check our other measurement metrics, to make sure nothing looks out of place."
   ]
  },
  {
   "cell_type": "code",
   "execution_count": 13,
   "metadata": {},
   "outputs": [
    {
     "data": {
      "image/png": "[encoded data removed]",
      "text/plain": [
       "<Figure size 864x576 with 1 Axes>"
      ]
     },
     "metadata": {
      "needs_background": "light"
     },
     "output_type": "display_data"
    }
   ],
   "source": [
    "other_stats = final_df.columns[-4:]\n",
    "final_df[other_stats].boxplot(figsize=(12,8))\n",
    "plt.xticks(rotation=60)\n",
    "plt.show()"
   ]
  },
  {
   "cell_type": "markdown",
   "metadata": {},
   "source": [
    " "
   ]
  },
  {
   "cell_type": "markdown",
   "metadata": {},
   "source": [
    "And all looks good here, so we then move on to the formation of the model."
   ]
  },
  {
   "cell_type": "markdown",
   "metadata": {},
   "source": [
    "## Model Formation"
   ]
  },
  {
   "cell_type": "markdown",
   "metadata": {},
   "source": [
    "We define a high math score as being in the upper quartile of the range of values in the dataset (which turns out to be a score of approximately 2.98 or above)."
   ]
  },
  {
   "cell_type": "code",
   "execution_count": 14,
   "metadata": {},
   "outputs": [],
   "source": [
    "upper_quartile = final_df['Average Math Proficiency'].quantile(.75)\n",
    "y = final_df['Average Math Proficiency'].apply(lambda x: 1 if x >= upper_quartile else 0)\n",
    "X = final_df.drop('Average Math Proficiency', axis=1)\n",
    "features = X.columns"
   ]
  },
  {
   "cell_type": "markdown",
   "metadata": {},
   "source": [
    "And scale our data for analysis and bring all our values around the origin."
   ]
  },
  {
   "cell_type": "code",
   "execution_count": 15,
   "metadata": {},
   "outputs": [],
   "source": [
    "X = StandardScaler().fit_transform(X.astype({'Grade_range': 'float64'}))"
   ]
  },
  {
   "cell_type": "markdown",
   "metadata": {},
   "source": [
    "### PCA Analysis"
   ]
  },
  {
   "cell_type": "markdown",
   "metadata": {},
   "source": [
    "We first do a PCA analysis to determine, of our predictors, which have the greatest bearing on our classification algorithm."
   ]
  },
  {
   "cell_type": "code",
   "execution_count": 16,
   "metadata": {},
   "outputs": [],
   "source": [
    "pca = PCA()\n",
    "principalComponents = pca.fit_transform(X)\n",
    "principalDf = pd.DataFrame(data=principalComponents)"
   ]
  },
  {
   "cell_type": "code",
   "execution_count": 17,
   "metadata": {
    "scrolled": true
   },
   "outputs": [
    {
     "data": {
      "text/plain": [
       "array([0.3974852 , 0.19656456, 0.11404235, 0.06749327, 0.05960156,\n",
       "       0.04559067, 0.04052775, 0.03527883, 0.02483774, 0.00859648,\n",
       "       0.0067893 , 0.00319229])"
      ]
     },
     "execution_count": 17,
     "metadata": {},
     "output_type": "execute_result"
    }
   ],
   "source": [
    "pca.explained_variance_ratio_"
   ]
  },
  {
   "cell_type": "code",
   "execution_count": 18,
   "metadata": {},
   "outputs": [],
   "source": [
    "eig_values = pca.explained_variance_\n",
    "eig_vectors = pca.components_"
   ]
  },
  {
   "cell_type": "code",
   "execution_count": 19,
   "metadata": {},
   "outputs": [
    {
     "data": {
      "text/plain": [
       "Percent of Students Chronically Absent    0.654653\n",
       "Economic Need Index                       0.573251\n",
       "Grade_range                              -0.112935\n",
       "School Pupil-Teacher Ratio               -0.377194\n",
       "Student Achievement Rating               -0.449336\n",
       "Strong Family-Community Ties %           -0.507848\n",
       "Student Attendance Rate                  -0.644946\n",
       "Rigorous Instruction %                   -0.733685\n",
       "Supportive Environment %                 -0.757446\n",
       "Effective School Leadership %            -0.763228\n",
       "Trust %                                  -0.784523\n",
       "Collaborative Teachers %                 -0.822339\n",
       "dtype: float64"
      ]
     },
     "execution_count": 19,
     "metadata": {},
     "output_type": "execute_result"
    }
   ],
   "source": [
    "structure_loading_1 = eig_vectors[0]* np.sqrt(eig_values[0])\n",
    "str_loading_1 = pd.Series(structure_loading_1, index=features)\n",
    "str_loading_1.sort_values(ascending=False)"
   ]
  },
  {
   "cell_type": "code",
   "execution_count": 20,
   "metadata": {},
   "outputs": [
    {
     "data": {
      "text/plain": [
       "Text(0, 0.5, 'proportion of explained variance')"
      ]
     },
     "execution_count": 20,
     "metadata": {},
     "output_type": "execute_result"
    },
    {
     "data": {
      "image/png": "[encoded data removed]",
      "text/plain": [
       "<Figure size 432x288 with 1 Axes>"
      ]
     },
     "metadata": {
      "needs_background": "light"
     },
     "output_type": "display_data"
    }
   ],
   "source": [
    "index = np.arange(len(features))\n",
    "plt.bar(index, pca.explained_variance_ratio_)\n",
    "plt.title('Scree plot for PCA')\n",
    "plt.xlabel('Num of components')\n",
    "plt.ylabel('proportion of explained variance')"
   ]
  },
  {
   "cell_type": "code",
   "execution_count": 21,
   "metadata": {},
   "outputs": [
    {
     "data": {
      "text/plain": [
       "Text(0, 0.5, 'explained variance ratio')"
      ]
     },
     "execution_count": 21,
     "metadata": {},
     "output_type": "execute_result"
    },
    {
     "data": {
      "image/png": "[encoded data removed]",
      "text/plain": [
       "<Figure size 432x288 with 1 Axes>"
      ]
     },
     "metadata": {
      "needs_background": "light"
     },
     "output_type": "display_data"
    }
   ],
   "source": [
    "plt.plot(np.cumsum(pca.explained_variance_ratio_))\n",
    "plt.xlabel('number of components')\n",
    "plt.ylabel('explained variance ratio')"
   ]
  },
  {
   "cell_type": "markdown",
   "metadata": {},
   "source": [
    "While this was a useful exercise to look at the number of useful factors in this analysis, as we would want to ideally use 8 out of the 12 components to acheive a decent portion of explained variance, we determined it would be beneficial to keep the original 12 predictors in model analysis, and only cull that number should feature importance dictate."
   ]
  },
  {
   "cell_type": "markdown",
   "metadata": {},
   "source": [
    "So we next use the recursive feature elimination tool from SKLearn to determine which of our features are superfluous to the model, and would likely introduce too much noise, causing overfit."
   ]
  },
  {
   "cell_type": "code",
   "execution_count": 22,
   "metadata": {},
   "outputs": [],
   "source": [
    "X_train, X_test, y_train, y_test = train_test_split(X,y, test_size = 0.3)"
   ]
  },
  {
   "cell_type": "code",
   "execution_count": 23,
   "metadata": {},
   "outputs": [
    {
     "data": {
      "text/html": [
       "<div>\n",
       "<style scoped>\n",
       "    .dataframe tbody tr th:only-of-type {\n",
       "        vertical-align: middle;\n",
       "    }\n",
       "\n",
       "    .dataframe tbody tr th {\n",
       "        vertical-align: top;\n",
       "    }\n",
       "\n",
       "    .dataframe thead th {\n",
       "        text-align: right;\n",
       "    }\n",
       "</style>\n",
       "<table border=\"1\" class=\"dataframe\">\n",
       "  <thead>\n",
       "    <tr style=\"text-align: right;\">\n",
       "      <th></th>\n",
       "      <th>0</th>\n",
       "      <th>1</th>\n",
       "    </tr>\n",
       "  </thead>\n",
       "  <tbody>\n",
       "    <tr>\n",
       "      <th>0</th>\n",
       "      <td>Economic Need Index</td>\n",
       "      <td>1.00</td>\n",
       "    </tr>\n",
       "    <tr>\n",
       "      <th>1</th>\n",
       "      <td>Student Attendance Rate</td>\n",
       "      <td>1.00</td>\n",
       "    </tr>\n",
       "    <tr>\n",
       "      <th>5</th>\n",
       "      <td>Supportive Environment %</td>\n",
       "      <td>1.00</td>\n",
       "    </tr>\n",
       "    <tr>\n",
       "      <th>9</th>\n",
       "      <td>Student Achievement Rating</td>\n",
       "      <td>1.02</td>\n",
       "    </tr>\n",
       "    <tr>\n",
       "      <th>7</th>\n",
       "      <td>Strong Family-Community Ties %</td>\n",
       "      <td>1.06</td>\n",
       "    </tr>\n",
       "    <tr>\n",
       "      <th>3</th>\n",
       "      <td>Rigorous Instruction %</td>\n",
       "      <td>1.10</td>\n",
       "    </tr>\n",
       "    <tr>\n",
       "      <th>2</th>\n",
       "      <td>Percent of Students Chronically Absent</td>\n",
       "      <td>1.32</td>\n",
       "    </tr>\n",
       "    <tr>\n",
       "      <th>8</th>\n",
       "      <td>Trust %</td>\n",
       "      <td>1.38</td>\n",
       "    </tr>\n",
       "    <tr>\n",
       "      <th>11</th>\n",
       "      <td>School Pupil-Teacher Ratio</td>\n",
       "      <td>1.46</td>\n",
       "    </tr>\n",
       "    <tr>\n",
       "      <th>6</th>\n",
       "      <td>Effective School Leadership %</td>\n",
       "      <td>1.48</td>\n",
       "    </tr>\n",
       "    <tr>\n",
       "      <th>10</th>\n",
       "      <td>Grade_range</td>\n",
       "      <td>2.44</td>\n",
       "    </tr>\n",
       "    <tr>\n",
       "      <th>4</th>\n",
       "      <td>Collaborative Teachers %</td>\n",
       "      <td>2.74</td>\n",
       "    </tr>\n",
       "  </tbody>\n",
       "</table>\n",
       "</div>"
      ],
      "text/plain": [
       "                                         0     1\n",
       "0                      Economic Need Index  1.00\n",
       "1                  Student Attendance Rate  1.00\n",
       "5                 Supportive Environment %  1.00\n",
       "9               Student Achievement Rating  1.02\n",
       "7           Strong Family-Community Ties %  1.06\n",
       "3                   Rigorous Instruction %  1.10\n",
       "2   Percent of Students Chronically Absent  1.32\n",
       "8                                  Trust %  1.38\n",
       "11              School Pupil-Teacher Ratio  1.46\n",
       "6            Effective School Leadership %  1.48\n",
       "10                             Grade_range  2.44\n",
       "4                 Collaborative Teachers %  2.74"
      ]
     },
     "execution_count": 23,
     "metadata": {},
     "output_type": "execute_result"
    }
   ],
   "source": [
    "hf.rfe_test(DecisionTreeClassifier(), features, X_train, y_train)"
   ]
  },
  {
   "cell_type": "code",
   "execution_count": 24,
   "metadata": {},
   "outputs": [
    {
     "data": {
      "text/html": [
       "<div>\n",
       "<style scoped>\n",
       "    .dataframe tbody tr th:only-of-type {\n",
       "        vertical-align: middle;\n",
       "    }\n",
       "\n",
       "    .dataframe tbody tr th {\n",
       "        vertical-align: top;\n",
       "    }\n",
       "\n",
       "    .dataframe thead th {\n",
       "        text-align: right;\n",
       "    }\n",
       "</style>\n",
       "<table border=\"1\" class=\"dataframe\">\n",
       "  <thead>\n",
       "    <tr style=\"text-align: right;\">\n",
       "      <th></th>\n",
       "      <th>0</th>\n",
       "      <th>1</th>\n",
       "    </tr>\n",
       "  </thead>\n",
       "  <tbody>\n",
       "    <tr>\n",
       "      <th>0</th>\n",
       "      <td>Economic Need Index</td>\n",
       "      <td>1.00</td>\n",
       "    </tr>\n",
       "    <tr>\n",
       "      <th>1</th>\n",
       "      <td>Student Attendance Rate</td>\n",
       "      <td>1.00</td>\n",
       "    </tr>\n",
       "    <tr>\n",
       "      <th>2</th>\n",
       "      <td>Percent of Students Chronically Absent</td>\n",
       "      <td>1.00</td>\n",
       "    </tr>\n",
       "    <tr>\n",
       "      <th>5</th>\n",
       "      <td>Supportive Environment %</td>\n",
       "      <td>1.00</td>\n",
       "    </tr>\n",
       "    <tr>\n",
       "      <th>11</th>\n",
       "      <td>School Pupil-Teacher Ratio</td>\n",
       "      <td>1.00</td>\n",
       "    </tr>\n",
       "    <tr>\n",
       "      <th>9</th>\n",
       "      <td>Student Achievement Rating</td>\n",
       "      <td>1.04</td>\n",
       "    </tr>\n",
       "    <tr>\n",
       "      <th>7</th>\n",
       "      <td>Strong Family-Community Ties %</td>\n",
       "      <td>1.08</td>\n",
       "    </tr>\n",
       "    <tr>\n",
       "      <th>6</th>\n",
       "      <td>Effective School Leadership %</td>\n",
       "      <td>1.30</td>\n",
       "    </tr>\n",
       "    <tr>\n",
       "      <th>3</th>\n",
       "      <td>Rigorous Instruction %</td>\n",
       "      <td>1.32</td>\n",
       "    </tr>\n",
       "    <tr>\n",
       "      <th>4</th>\n",
       "      <td>Collaborative Teachers %</td>\n",
       "      <td>1.56</td>\n",
       "    </tr>\n",
       "    <tr>\n",
       "      <th>8</th>\n",
       "      <td>Trust %</td>\n",
       "      <td>2.04</td>\n",
       "    </tr>\n",
       "    <tr>\n",
       "      <th>10</th>\n",
       "      <td>Grade_range</td>\n",
       "      <td>2.48</td>\n",
       "    </tr>\n",
       "  </tbody>\n",
       "</table>\n",
       "</div>"
      ],
      "text/plain": [
       "                                         0     1\n",
       "0                      Economic Need Index  1.00\n",
       "1                  Student Attendance Rate  1.00\n",
       "2   Percent of Students Chronically Absent  1.00\n",
       "5                 Supportive Environment %  1.00\n",
       "11              School Pupil-Teacher Ratio  1.00\n",
       "9               Student Achievement Rating  1.04\n",
       "7           Strong Family-Community Ties %  1.08\n",
       "6            Effective School Leadership %  1.30\n",
       "3                   Rigorous Instruction %  1.32\n",
       "4                 Collaborative Teachers %  1.56\n",
       "8                                  Trust %  2.04\n",
       "10                             Grade_range  2.48"
      ]
     },
     "execution_count": 24,
     "metadata": {},
     "output_type": "execute_result"
    }
   ],
   "source": [
    "hf.rfe_test(RandomForestClassifier(), features, X_train, y_train)"
   ]
  },
  {
   "cell_type": "code",
   "execution_count": 25,
   "metadata": {},
   "outputs": [
    {
     "data": {
      "text/html": [
       "<div>\n",
       "<style scoped>\n",
       "    .dataframe tbody tr th:only-of-type {\n",
       "        vertical-align: middle;\n",
       "    }\n",
       "\n",
       "    .dataframe tbody tr th {\n",
       "        vertical-align: top;\n",
       "    }\n",
       "\n",
       "    .dataframe thead th {\n",
       "        text-align: right;\n",
       "    }\n",
       "</style>\n",
       "<table border=\"1\" class=\"dataframe\">\n",
       "  <thead>\n",
       "    <tr style=\"text-align: right;\">\n",
       "      <th></th>\n",
       "      <th>0</th>\n",
       "      <th>1</th>\n",
       "    </tr>\n",
       "  </thead>\n",
       "  <tbody>\n",
       "    <tr>\n",
       "      <th>0</th>\n",
       "      <td>Economic Need Index</td>\n",
       "      <td>1.0</td>\n",
       "    </tr>\n",
       "    <tr>\n",
       "      <th>1</th>\n",
       "      <td>Student Attendance Rate</td>\n",
       "      <td>1.0</td>\n",
       "    </tr>\n",
       "    <tr>\n",
       "      <th>2</th>\n",
       "      <td>Percent of Students Chronically Absent</td>\n",
       "      <td>1.0</td>\n",
       "    </tr>\n",
       "    <tr>\n",
       "      <th>3</th>\n",
       "      <td>Rigorous Instruction %</td>\n",
       "      <td>1.0</td>\n",
       "    </tr>\n",
       "    <tr>\n",
       "      <th>4</th>\n",
       "      <td>Collaborative Teachers %</td>\n",
       "      <td>1.0</td>\n",
       "    </tr>\n",
       "    <tr>\n",
       "      <th>5</th>\n",
       "      <td>Supportive Environment %</td>\n",
       "      <td>1.0</td>\n",
       "    </tr>\n",
       "    <tr>\n",
       "      <th>6</th>\n",
       "      <td>Effective School Leadership %</td>\n",
       "      <td>1.0</td>\n",
       "    </tr>\n",
       "    <tr>\n",
       "      <th>7</th>\n",
       "      <td>Strong Family-Community Ties %</td>\n",
       "      <td>1.0</td>\n",
       "    </tr>\n",
       "    <tr>\n",
       "      <th>8</th>\n",
       "      <td>Trust %</td>\n",
       "      <td>1.0</td>\n",
       "    </tr>\n",
       "    <tr>\n",
       "      <th>9</th>\n",
       "      <td>Student Achievement Rating</td>\n",
       "      <td>1.0</td>\n",
       "    </tr>\n",
       "    <tr>\n",
       "      <th>10</th>\n",
       "      <td>Grade_range</td>\n",
       "      <td>1.0</td>\n",
       "    </tr>\n",
       "    <tr>\n",
       "      <th>11</th>\n",
       "      <td>School Pupil-Teacher Ratio</td>\n",
       "      <td>1.0</td>\n",
       "    </tr>\n",
       "  </tbody>\n",
       "</table>\n",
       "</div>"
      ],
      "text/plain": [
       "                                         0    1\n",
       "0                      Economic Need Index  1.0\n",
       "1                  Student Attendance Rate  1.0\n",
       "2   Percent of Students Chronically Absent  1.0\n",
       "3                   Rigorous Instruction %  1.0\n",
       "4                 Collaborative Teachers %  1.0\n",
       "5                 Supportive Environment %  1.0\n",
       "6            Effective School Leadership %  1.0\n",
       "7           Strong Family-Community Ties %  1.0\n",
       "8                                  Trust %  1.0\n",
       "9               Student Achievement Rating  1.0\n",
       "10                             Grade_range  1.0\n",
       "11              School Pupil-Teacher Ratio  1.0"
      ]
     },
     "execution_count": 25,
     "metadata": {},
     "output_type": "execute_result"
    }
   ],
   "source": [
    "hf.rfe_test(XGBClassifier(), features, X_train, y_train)"
   ]
  },
  {
   "cell_type": "markdown",
   "metadata": {},
   "source": [
    "As we can see from the Decision Tree, Random Forest, and XGBoost RFE analysis Grade_range, Trust %, and Collaborative Teachers % consistently are the lowest ranked features for importance, and likely introduce more noise than we need. We therefore will remove them from our dataset."
   ]
  },
  {
   "cell_type": "code",
   "execution_count": 26,
   "metadata": {},
   "outputs": [
    {
     "data": {
      "text/html": [
       "<div>\n",
       "<style scoped>\n",
       "    .dataframe tbody tr th:only-of-type {\n",
       "        vertical-align: middle;\n",
       "    }\n",
       "\n",
       "    .dataframe tbody tr th {\n",
       "        vertical-align: top;\n",
       "    }\n",
       "\n",
       "    .dataframe thead th {\n",
       "        text-align: right;\n",
       "    }\n",
       "</style>\n",
       "<table border=\"1\" class=\"dataframe\">\n",
       "  <thead>\n",
       "    <tr style=\"text-align: right;\">\n",
       "      <th></th>\n",
       "      <th>Economic Need Index</th>\n",
       "      <th>Student Attendance Rate</th>\n",
       "      <th>Percent of Students Chronically Absent</th>\n",
       "      <th>Rigorous Instruction %</th>\n",
       "      <th>Supportive Environment %</th>\n",
       "      <th>Effective School Leadership %</th>\n",
       "      <th>Strong Family-Community Ties %</th>\n",
       "      <th>Student Achievement Rating</th>\n",
       "      <th>Average Math Proficiency</th>\n",
       "      <th>School Pupil-Teacher Ratio</th>\n",
       "    </tr>\n",
       "    <tr>\n",
       "      <th>Location Code</th>\n",
       "      <th></th>\n",
       "      <th></th>\n",
       "      <th></th>\n",
       "      <th></th>\n",
       "      <th></th>\n",
       "      <th></th>\n",
       "      <th></th>\n",
       "      <th></th>\n",
       "      <th></th>\n",
       "      <th></th>\n",
       "    </tr>\n",
       "  </thead>\n",
       "  <tbody>\n",
       "    <tr>\n",
       "      <th>01M015</th>\n",
       "      <td>0.919</td>\n",
       "      <td>0.94</td>\n",
       "      <td>0.18</td>\n",
       "      <td>0.89</td>\n",
       "      <td>0.86</td>\n",
       "      <td>0.91</td>\n",
       "      <td>0.85</td>\n",
       "      <td>2.0</td>\n",
       "      <td>2.17</td>\n",
       "      <td>9.2</td>\n",
       "    </tr>\n",
       "    <tr>\n",
       "      <th>01M019</th>\n",
       "      <td>0.641</td>\n",
       "      <td>0.92</td>\n",
       "      <td>0.30</td>\n",
       "      <td>0.96</td>\n",
       "      <td>0.97</td>\n",
       "      <td>0.90</td>\n",
       "      <td>0.86</td>\n",
       "      <td>4.0</td>\n",
       "      <td>2.98</td>\n",
       "      <td>7.0</td>\n",
       "    </tr>\n",
       "    <tr>\n",
       "      <th>01M020</th>\n",
       "      <td>0.744</td>\n",
       "      <td>0.94</td>\n",
       "      <td>0.20</td>\n",
       "      <td>0.87</td>\n",
       "      <td>0.82</td>\n",
       "      <td>0.61</td>\n",
       "      <td>0.80</td>\n",
       "      <td>2.0</td>\n",
       "      <td>2.54</td>\n",
       "      <td>13.3</td>\n",
       "    </tr>\n",
       "    <tr>\n",
       "      <th>01M034</th>\n",
       "      <td>0.860</td>\n",
       "      <td>0.92</td>\n",
       "      <td>0.28</td>\n",
       "      <td>0.85</td>\n",
       "      <td>0.82</td>\n",
       "      <td>0.73</td>\n",
       "      <td>0.89</td>\n",
       "      <td>4.0</td>\n",
       "      <td>2.47</td>\n",
       "      <td>10.9</td>\n",
       "    </tr>\n",
       "    <tr>\n",
       "      <th>01M063</th>\n",
       "      <td>0.730</td>\n",
       "      <td>0.93</td>\n",
       "      <td>0.23</td>\n",
       "      <td>0.90</td>\n",
       "      <td>0.87</td>\n",
       "      <td>0.81</td>\n",
       "      <td>0.89</td>\n",
       "      <td>3.0</td>\n",
       "      <td>2.54</td>\n",
       "      <td>10.6</td>\n",
       "    </tr>\n",
       "  </tbody>\n",
       "</table>\n",
       "</div>"
      ],
      "text/plain": [
       "               Economic Need Index  Student Attendance Rate  \\\n",
       "Location Code                                                 \n",
       "01M015                       0.919                     0.94   \n",
       "01M019                       0.641                     0.92   \n",
       "01M020                       0.744                     0.94   \n",
       "01M034                       0.860                     0.92   \n",
       "01M063                       0.730                     0.93   \n",
       "\n",
       "               Percent of Students Chronically Absent  Rigorous Instruction %  \\\n",
       "Location Code                                                                   \n",
       "01M015                                           0.18                    0.89   \n",
       "01M019                                           0.30                    0.96   \n",
       "01M020                                           0.20                    0.87   \n",
       "01M034                                           0.28                    0.85   \n",
       "01M063                                           0.23                    0.90   \n",
       "\n",
       "               Supportive Environment %  Effective School Leadership %  \\\n",
       "Location Code                                                            \n",
       "01M015                             0.86                           0.91   \n",
       "01M019                             0.97                           0.90   \n",
       "01M020                             0.82                           0.61   \n",
       "01M034                             0.82                           0.73   \n",
       "01M063                             0.87                           0.81   \n",
       "\n",
       "               Strong Family-Community Ties %  Student Achievement Rating  \\\n",
       "Location Code                                                               \n",
       "01M015                                   0.85                         2.0   \n",
       "01M019                                   0.86                         4.0   \n",
       "01M020                                   0.80                         2.0   \n",
       "01M034                                   0.89                         4.0   \n",
       "01M063                                   0.89                         3.0   \n",
       "\n",
       "               Average Math Proficiency  School Pupil-Teacher Ratio  \n",
       "Location Code                                                        \n",
       "01M015                             2.17                         9.2  \n",
       "01M019                             2.98                         7.0  \n",
       "01M020                             2.54                        13.3  \n",
       "01M034                             2.47                        10.9  \n",
       "01M063                             2.54                        10.6  "
      ]
     },
     "execution_count": 26,
     "metadata": {},
     "output_type": "execute_result"
    }
   ],
   "source": [
    "final_df.drop(['Trust %', 'Grade_range', 'Collaborative Teachers %'], axis=1, inplace=True)\n",
    "X = final_df.drop('Average Math Proficiency', axis=1)\n",
    "features = X.columns\n",
    "final_df.head()"
   ]
  },
  {
   "cell_type": "code",
   "execution_count": 27,
   "metadata": {},
   "outputs": [],
   "source": [
    "X = StandardScaler().fit_transform(X)"
   ]
  },
  {
   "cell_type": "code",
   "execution_count": 28,
   "metadata": {},
   "outputs": [],
   "source": [
    "X_train, X_test, y_train, y_test = train_test_split(X,y, test_size = 0.3)"
   ]
  },
  {
   "cell_type": "markdown",
   "metadata": {},
   "source": [
    "### Baseline Model"
   ]
  },
  {
   "cell_type": "code",
   "execution_count": 29,
   "metadata": {},
   "outputs": [],
   "source": [
    "param_grid = {'strategy': ['stratified', 'most_frequent']}"
   ]
  },
  {
   "cell_type": "code",
   "execution_count": 30,
   "metadata": {},
   "outputs": [
    {
     "name": "stdout",
     "output_type": "stream",
     "text": [
      "Grid Search found the following optimal parameters: \n",
      "strategy: 'most_frequent'\n",
      "\n",
      "[[221   0]\n",
      " [104   0]]\n",
      "              precision    recall  f1-score   support\n",
      "\n",
      "           0       0.68      1.00      0.81       221\n",
      "           1       0.00      0.00      0.00       104\n",
      "\n",
      "   micro avg       0.68      0.68      0.68       325\n",
      "   macro avg       0.34      0.50      0.40       325\n",
      "weighted avg       0.46      0.68      0.55       325\n",
      "\n",
      "Accuracy score: 0.68\n"
     ]
    },
    {
     "data": {
      "image/png": "[encoded data removed]",
      "text/plain": [
       "<Figure size 504x360 with 2 Axes>"
      ]
     },
     "metadata": {
      "needs_background": "light"
     },
     "output_type": "display_data"
    }
   ],
   "source": [
    "bs_grid_clf = hf.grid_search_classifier(DummyClassifier(), param_grid, X_train, X_test, y_train, y_test)"
   ]
  },
  {
   "cell_type": "code",
   "execution_count": 31,
   "metadata": {},
   "outputs": [
    {
     "name": "stdout",
     "output_type": "stream",
     "text": [
      "AUC: 0.5\n"
     ]
    },
    {
     "data": {
      "image/png": "[encoded data removed]",
      "text/plain": [
       "<Figure size 720x576 with 1 Axes>"
      ]
     },
     "metadata": {
      "needs_background": "light"
     },
     "output_type": "display_data"
    }
   ],
   "source": [
    "hf.plot_ROC(y_test, X_test, bs_grid_clf)"
   ]
  },
  {
   "cell_type": "markdown",
   "metadata": {},
   "source": [
    "As we can see, our baseline model is inefficient at correctly classifying a number of schools, and our ROC lies just at the expected curve for random guessing."
   ]
  },
  {
   "cell_type": "markdown",
   "metadata": {},
   "source": [
    "### Basic Decision Tree"
   ]
  },
  {
   "cell_type": "markdown",
   "metadata": {},
   "source": [
    "First, we will check our ability to classify based on a simple Decision Tree."
   ]
  },
  {
   "cell_type": "code",
   "execution_count": 32,
   "metadata": {},
   "outputs": [],
   "source": [
    "param_grid = {'max_depth': [3, 5, 10, 15],\n",
    "              'max_features': [2, 5, 8, 9],\n",
    "             }"
   ]
  },
  {
   "cell_type": "code",
   "execution_count": 33,
   "metadata": {},
   "outputs": [
    {
     "name": "stdout",
     "output_type": "stream",
     "text": [
      "Grid Search found the following optimal parameters: \n",
      "max_depth: 3\n",
      "max_features: 8\n",
      "\n",
      "[[202  19]\n",
      " [ 17  87]]\n",
      "              precision    recall  f1-score   support\n",
      "\n",
      "           0       0.92      0.91      0.92       221\n",
      "           1       0.82      0.84      0.83       104\n",
      "\n",
      "   micro avg       0.89      0.89      0.89       325\n",
      "   macro avg       0.87      0.88      0.87       325\n",
      "weighted avg       0.89      0.89      0.89       325\n",
      "\n",
      "Accuracy score: 0.89\n"
     ]
    },
    {
     "data": {
      "image/png": "[encoded data removed]",
      "text/plain": [
       "<Figure size 504x360 with 2 Axes>"
      ]
     },
     "metadata": {
      "needs_background": "light"
     },
     "output_type": "display_data"
    }
   ],
   "source": [
    "dt_grid_clf = hf.grid_search_classifier(DecisionTreeClassifier(), param_grid, X_train, X_test, y_train, y_test)"
   ]
  },
  {
   "cell_type": "code",
   "execution_count": 34,
   "metadata": {},
   "outputs": [
    {
     "name": "stdout",
     "output_type": "stream",
     "text": [
      "AUC: 0.9210972850678734\n"
     ]
    },
    {
     "data": {
      "image/png": "[encoded data removed]",
      "text/plain": [
       "<Figure size 720x576 with 1 Axes>"
      ]
     },
     "metadata": {
      "needs_background": "light"
     },
     "output_type": "display_data"
    }
   ],
   "source": [
    "hf.plot_ROC(y_test, X_test, dt_grid_clf)"
   ]
  },
  {
   "cell_type": "markdown",
   "metadata": {},
   "source": [
    "A significant improvement certainly, but there are still a number of schools classified as needing help that may not actually need taxpayer dollars invested, so we delve into a few other classification algorithms to see if we can improve our accuracy and f1 score."
   ]
  },
  {
   "cell_type": "markdown",
   "metadata": {},
   "source": [
    "### KNN"
   ]
  },
  {
   "cell_type": "code",
   "execution_count": 35,
   "metadata": {},
   "outputs": [],
   "source": [
    "param_grid = {'weights': ['uniform', 'distance'],\n",
    "              'n_neighbors': [3, 5, 8, 10, 15, 20]\n",
    "             }"
   ]
  },
  {
   "cell_type": "code",
   "execution_count": 36,
   "metadata": {},
   "outputs": [
    {
     "name": "stdout",
     "output_type": "stream",
     "text": [
      "Grid Search found the following optimal parameters: \n",
      "n_neighbors: 15\n",
      "weights: 'uniform'\n",
      "\n",
      "[[207  14]\n",
      " [ 19  85]]\n",
      "              precision    recall  f1-score   support\n",
      "\n",
      "           0       0.92      0.94      0.93       221\n",
      "           1       0.86      0.82      0.84       104\n",
      "\n",
      "   micro avg       0.90      0.90      0.90       325\n",
      "   macro avg       0.89      0.88      0.88       325\n",
      "weighted avg       0.90      0.90      0.90       325\n",
      "\n",
      "Accuracy score: 0.9\n"
     ]
    },
    {
     "data": {
      "image/png": "[encoded data removed]",
      "text/plain": [
       "<Figure size 504x360 with 2 Axes>"
      ]
     },
     "metadata": {
      "needs_background": "light"
     },
     "output_type": "display_data"
    }
   ],
   "source": [
    "knn_grid_clf = hf.grid_search_classifier(KNeighborsClassifier(), param_grid, X_train, X_test, y_train, y_test)"
   ]
  },
  {
   "cell_type": "code",
   "execution_count": 37,
   "metadata": {},
   "outputs": [
    {
     "name": "stdout",
     "output_type": "stream",
     "text": [
      "AUC: 0.9665201879568396\n"
     ]
    },
    {
     "data": {
      "image/png": "[encoded data removed]",
      "text/plain": [
       "<Figure size 720x576 with 1 Axes>"
      ]
     },
     "metadata": {
      "needs_background": "light"
     },
     "output_type": "display_data"
    }
   ],
   "source": [
    "hf.plot_ROC(y_test, X_test, knn_grid_clf)"
   ]
  },
  {
   "cell_type": "markdown",
   "metadata": {},
   "source": [
    "### Random Forest"
   ]
  },
  {
   "cell_type": "code",
   "execution_count": 38,
   "metadata": {},
   "outputs": [],
   "source": [
    "param_grid = {'max_depth': [3, 5, 10, 15],\n",
    "              'max_features': [2, 5, 8, 9],\n",
    "              'n_estimators': [10, 25, 50, 100, 250, 500]\n",
    "             }"
   ]
  },
  {
   "cell_type": "code",
   "execution_count": 39,
   "metadata": {},
   "outputs": [
    {
     "name": "stdout",
     "output_type": "stream",
     "text": [
      "Grid Search found the following optimal parameters: \n",
      "max_depth: 5\n",
      "max_features: 2\n",
      "n_estimators: 50\n",
      "\n",
      "[[208  13]\n",
      " [ 13  91]]\n",
      "              precision    recall  f1-score   support\n",
      "\n",
      "           0       0.94      0.94      0.94       221\n",
      "           1       0.88      0.88      0.88       104\n",
      "\n",
      "   micro avg       0.92      0.92      0.92       325\n",
      "   macro avg       0.91      0.91      0.91       325\n",
      "weighted avg       0.92      0.92      0.92       325\n",
      "\n",
      "Accuracy score: 0.92\n"
     ]
    },
    {
     "data": {
      "image/png": "[encoded data removed]",
      "text/plain": [
       "<Figure size 504x360 with 2 Axes>"
      ]
     },
     "metadata": {
      "needs_background": "light"
     },
     "output_type": "display_data"
    }
   ],
   "source": [
    "rf_grid_clf = hf.grid_search_classifier(RandomForestClassifier(), param_grid, X_train, X_test, y_train, y_test)"
   ]
  },
  {
   "cell_type": "code",
   "execution_count": 40,
   "metadata": {},
   "outputs": [
    {
     "name": "stdout",
     "output_type": "stream",
     "text": [
      "AUC: 0.9668900104420466\n"
     ]
    },
    {
     "data": {
      "image/png": "[encoded data removed]",
      "text/plain": [
       "<Figure size 720x576 with 1 Axes>"
      ]
     },
     "metadata": {
      "needs_background": "light"
     },
     "output_type": "display_data"
    }
   ],
   "source": [
    "hf.plot_ROC(y_test, X_test, rf_grid_clf)"
   ]
  },
  {
   "cell_type": "markdown",
   "metadata": {},
   "source": [
    "### SVC"
   ]
  },
  {
   "cell_type": "code",
   "execution_count": 41,
   "metadata": {},
   "outputs": [],
   "source": [
    "param_grid = {'kernel': ['linear', 'poly', 'rbf', 'sigmoid'],\n",
    "              'probability': [True],\n",
    "              'C': [.01, .1, 1, 10, 100],\n",
    "              'degree': [2, 3, 4],\n",
    "              'shrinking': [True, False]\n",
    "             }"
   ]
  },
  {
   "cell_type": "code",
   "execution_count": 42,
   "metadata": {},
   "outputs": [
    {
     "name": "stdout",
     "output_type": "stream",
     "text": [
      "Grid Search found the following optimal parameters: \n",
      "C: 1\n",
      "degree: 2\n",
      "kernel: 'linear'\n",
      "probability: True\n",
      "shrinking: True\n",
      "\n",
      "[[212   9]\n",
      " [ 17  87]]\n",
      "              precision    recall  f1-score   support\n",
      "\n",
      "           0       0.93      0.96      0.94       221\n",
      "           1       0.91      0.84      0.87       104\n",
      "\n",
      "   micro avg       0.92      0.92      0.92       325\n",
      "   macro avg       0.92      0.90      0.91       325\n",
      "weighted avg       0.92      0.92      0.92       325\n",
      "\n",
      "Accuracy score: 0.92\n"
     ]
    },
    {
     "data": {
      "image/png": "[encoded data removed]",
      "text/plain": [
       "<Figure size 504x360 with 2 Axes>"
      ]
     },
     "metadata": {
      "needs_background": "light"
     },
     "output_type": "display_data"
    }
   ],
   "source": [
    "svc_grid_clf = hf.grid_search_classifier(SVC(), param_grid, X_train, X_test, y_train, y_test)"
   ]
  },
  {
   "cell_type": "code",
   "execution_count": 43,
   "metadata": {},
   "outputs": [
    {
     "name": "stdout",
     "output_type": "stream",
     "text": [
      "AUC: 0.9774190741385311\n"
     ]
    },
    {
     "data": {
      "image/png": "[encoded data removed]",
      "text/plain": [
       "<Figure size 720x576 with 1 Axes>"
      ]
     },
     "metadata": {
      "needs_background": "light"
     },
     "output_type": "display_data"
    }
   ],
   "source": [
    "hf.plot_ROC(y_test, X_test, svc_grid_clf)"
   ]
  },
  {
   "cell_type": "markdown",
   "metadata": {},
   "source": [
    "### XGBoost"
   ]
  },
  {
   "cell_type": "code",
   "execution_count": 44,
   "metadata": {},
   "outputs": [],
   "source": [
    "param_grid = {'learning_rate': [.01, .1],\n",
    "              'max_depth': [3, 5, 10, 15],\n",
    "              'min_child_weight': [2, 5, 10],\n",
    "              'subsample': [0.7, 0.8],\n",
    "              'n_estimators': [100, 250, 500, 1000]\n",
    "             }"
   ]
  },
  {
   "cell_type": "code",
   "execution_count": 45,
   "metadata": {},
   "outputs": [
    {
     "name": "stdout",
     "output_type": "stream",
     "text": [
      "Grid Search found the following optimal parameters: \n",
      "learning_rate: 0.1\n",
      "max_depth: 5\n",
      "min_child_weight: 2\n",
      "n_estimators: 100\n",
      "subsample: 0.7\n",
      "\n",
      "[[206  15]\n",
      " [ 12  92]]\n",
      "              precision    recall  f1-score   support\n",
      "\n",
      "           0       0.94      0.93      0.94       221\n",
      "           1       0.86      0.88      0.87       104\n",
      "\n",
      "   micro avg       0.92      0.92      0.92       325\n",
      "   macro avg       0.90      0.91      0.91       325\n",
      "weighted avg       0.92      0.92      0.92       325\n",
      "\n",
      "Accuracy score: 0.92\n"
     ]
    },
    {
     "data": {
      "image/png": "[encoded data removed]",
      "text/plain": [
       "<Figure size 504x360 with 2 Axes>"
      ]
     },
     "metadata": {
      "needs_background": "light"
     },
     "output_type": "display_data"
    }
   ],
   "source": [
    "xgb_grid_clf = hf.grid_search_classifier(XGBClassifier(), param_grid, X_train, X_test, y_train, y_test)"
   ]
  },
  {
   "cell_type": "code",
   "execution_count": 46,
   "metadata": {},
   "outputs": [
    {
     "name": "stdout",
     "output_type": "stream",
     "text": [
      "AUC: 0.9662808910546468\n"
     ]
    },
    {
     "data": {
      "image/png": "[encoded data removed]",
      "text/plain": [
       "<Figure size 720x576 with 1 Axes>"
      ]
     },
     "metadata": {
      "needs_background": "light"
     },
     "output_type": "display_data"
    }
   ],
   "source": [
    "hf.plot_ROC(y_test, X_test, xgb_grid_clf)"
   ]
  },
  {
   "cell_type": "markdown",
   "metadata": {},
   "source": [
    "## Analysis"
   ]
  },
  {
   "cell_type": "markdown",
   "metadata": {},
   "source": [
    "All of these additional models perform fairly similarly, but for our purposes we will utilize the Random Forest method, as it ranks high for its f1 score and is a fairly interpretable model, should we need to modify in the future with more data."
   ]
  },
  {
   "cell_type": "markdown",
   "metadata": {},
   "source": [
    "We then set up our model to predict scores based on the best criteria found via grid search, and compare our predicted values against the actual values to determine what are our underperforming schools."
   ]
  },
  {
   "cell_type": "code",
   "execution_count": 47,
   "metadata": {},
   "outputs": [],
   "source": [
    "upper_quartile = final_df['Average Math Proficiency'].quantile(.75)\n",
    "final_df['Average Math Proficiency'] = final_df['Average Math Proficiency'].apply(lambda x: 1 if x >= upper_quartile else 0)\n",
    "X = final_df.drop('Average Math Proficiency', axis=1)\n"
   ]
  },
  {
   "cell_type": "code",
   "execution_count": 48,
   "metadata": {},
   "outputs": [],
   "source": [
    "predict_df = pd.DataFrame(rf_grid_clf.predict(StandardScaler().fit_transform(X))).set_index(final_df.index)"
   ]
  },
  {
   "cell_type": "code",
   "execution_count": 49,
   "metadata": {},
   "outputs": [
    {
     "data": {
      "text/html": [
       "<div>\n",
       "<style scoped>\n",
       "    .dataframe tbody tr th:only-of-type {\n",
       "        vertical-align: middle;\n",
       "    }\n",
       "\n",
       "    .dataframe tbody tr th {\n",
       "        vertical-align: top;\n",
       "    }\n",
       "\n",
       "    .dataframe thead th {\n",
       "        text-align: right;\n",
       "    }\n",
       "</style>\n",
       "<table border=\"1\" class=\"dataframe\">\n",
       "  <thead>\n",
       "    <tr style=\"text-align: right;\">\n",
       "      <th></th>\n",
       "      <th>Economic Need Index</th>\n",
       "      <th>Student Attendance Rate</th>\n",
       "      <th>Percent of Students Chronically Absent</th>\n",
       "      <th>Rigorous Instruction %</th>\n",
       "      <th>Supportive Environment %</th>\n",
       "      <th>Effective School Leadership %</th>\n",
       "      <th>Strong Family-Community Ties %</th>\n",
       "      <th>Student Achievement Rating</th>\n",
       "      <th>Average Math Proficiency</th>\n",
       "      <th>School Pupil-Teacher Ratio</th>\n",
       "      <th>Predicted_class</th>\n",
       "      <th>Match_type</th>\n",
       "    </tr>\n",
       "    <tr>\n",
       "      <th>Location Code</th>\n",
       "      <th></th>\n",
       "      <th></th>\n",
       "      <th></th>\n",
       "      <th></th>\n",
       "      <th></th>\n",
       "      <th></th>\n",
       "      <th></th>\n",
       "      <th></th>\n",
       "      <th></th>\n",
       "      <th></th>\n",
       "      <th></th>\n",
       "      <th></th>\n",
       "    </tr>\n",
       "  </thead>\n",
       "  <tbody>\n",
       "    <tr>\n",
       "      <th>01M015</th>\n",
       "      <td>0.919</td>\n",
       "      <td>0.94</td>\n",
       "      <td>0.18</td>\n",
       "      <td>0.89</td>\n",
       "      <td>0.86</td>\n",
       "      <td>0.91</td>\n",
       "      <td>0.85</td>\n",
       "      <td>2.0</td>\n",
       "      <td>0</td>\n",
       "      <td>9.2</td>\n",
       "      <td>0</td>\n",
       "      <td>0</td>\n",
       "    </tr>\n",
       "    <tr>\n",
       "      <th>01M019</th>\n",
       "      <td>0.641</td>\n",
       "      <td>0.92</td>\n",
       "      <td>0.30</td>\n",
       "      <td>0.96</td>\n",
       "      <td>0.97</td>\n",
       "      <td>0.90</td>\n",
       "      <td>0.86</td>\n",
       "      <td>4.0</td>\n",
       "      <td>1</td>\n",
       "      <td>7.0</td>\n",
       "      <td>0</td>\n",
       "      <td>1</td>\n",
       "    </tr>\n",
       "    <tr>\n",
       "      <th>01M020</th>\n",
       "      <td>0.744</td>\n",
       "      <td>0.94</td>\n",
       "      <td>0.20</td>\n",
       "      <td>0.87</td>\n",
       "      <td>0.82</td>\n",
       "      <td>0.61</td>\n",
       "      <td>0.80</td>\n",
       "      <td>2.0</td>\n",
       "      <td>0</td>\n",
       "      <td>13.3</td>\n",
       "      <td>0</td>\n",
       "      <td>0</td>\n",
       "    </tr>\n",
       "    <tr>\n",
       "      <th>01M034</th>\n",
       "      <td>0.860</td>\n",
       "      <td>0.92</td>\n",
       "      <td>0.28</td>\n",
       "      <td>0.85</td>\n",
       "      <td>0.82</td>\n",
       "      <td>0.73</td>\n",
       "      <td>0.89</td>\n",
       "      <td>4.0</td>\n",
       "      <td>0</td>\n",
       "      <td>10.9</td>\n",
       "      <td>0</td>\n",
       "      <td>0</td>\n",
       "    </tr>\n",
       "    <tr>\n",
       "      <th>01M063</th>\n",
       "      <td>0.730</td>\n",
       "      <td>0.93</td>\n",
       "      <td>0.23</td>\n",
       "      <td>0.90</td>\n",
       "      <td>0.87</td>\n",
       "      <td>0.81</td>\n",
       "      <td>0.89</td>\n",
       "      <td>3.0</td>\n",
       "      <td>0</td>\n",
       "      <td>10.6</td>\n",
       "      <td>0</td>\n",
       "      <td>0</td>\n",
       "    </tr>\n",
       "  </tbody>\n",
       "</table>\n",
       "</div>"
      ],
      "text/plain": [
       "               Economic Need Index  Student Attendance Rate  \\\n",
       "Location Code                                                 \n",
       "01M015                       0.919                     0.94   \n",
       "01M019                       0.641                     0.92   \n",
       "01M020                       0.744                     0.94   \n",
       "01M034                       0.860                     0.92   \n",
       "01M063                       0.730                     0.93   \n",
       "\n",
       "               Percent of Students Chronically Absent  Rigorous Instruction %  \\\n",
       "Location Code                                                                   \n",
       "01M015                                           0.18                    0.89   \n",
       "01M019                                           0.30                    0.96   \n",
       "01M020                                           0.20                    0.87   \n",
       "01M034                                           0.28                    0.85   \n",
       "01M063                                           0.23                    0.90   \n",
       "\n",
       "               Supportive Environment %  Effective School Leadership %  \\\n",
       "Location Code                                                            \n",
       "01M015                             0.86                           0.91   \n",
       "01M019                             0.97                           0.90   \n",
       "01M020                             0.82                           0.61   \n",
       "01M034                             0.82                           0.73   \n",
       "01M063                             0.87                           0.81   \n",
       "\n",
       "               Strong Family-Community Ties %  Student Achievement Rating  \\\n",
       "Location Code                                                               \n",
       "01M015                                   0.85                         2.0   \n",
       "01M019                                   0.86                         4.0   \n",
       "01M020                                   0.80                         2.0   \n",
       "01M034                                   0.89                         4.0   \n",
       "01M063                                   0.89                         3.0   \n",
       "\n",
       "               Average Math Proficiency  School Pupil-Teacher Ratio  \\\n",
       "Location Code                                                         \n",
       "01M015                                0                         9.2   \n",
       "01M019                                1                         7.0   \n",
       "01M020                                0                        13.3   \n",
       "01M034                                0                        10.9   \n",
       "01M063                                0                        10.6   \n",
       "\n",
       "               Predicted_class  Match_type  \n",
       "Location Code                               \n",
       "01M015                       0           0  \n",
       "01M019                       0           1  \n",
       "01M020                       0           0  \n",
       "01M034                       0           0  \n",
       "01M063                       0           0  "
      ]
     },
     "execution_count": 49,
     "metadata": {},
     "output_type": "execute_result"
    }
   ],
   "source": [
    "final_predict_df = pd.concat([final_df, predict_df], axis=1).rename({0: 'Predicted_class'}, axis=1)\n",
    "final_predict_df['Match_type'] = final_predict_df['Average Math Proficiency'] - final_predict_df.Predicted_class\n",
    "final_predict_df.head()"
   ]
  },
  {
   "cell_type": "markdown",
   "metadata": {},
   "source": [
    "## Underperforming Schools"
   ]
  },
  {
   "cell_type": "markdown",
   "metadata": {},
   "source": [
    "Below we look at the underperforming schools, and then filter those by schools who have a minority population, as given our problem statement, those are the ones where we want to enact the greatest amount of change."
   ]
  },
  {
   "cell_type": "code",
   "execution_count": 50,
   "metadata": {},
   "outputs": [],
   "source": [
    "under_performing_schools = final_predict_df[final_predict_df.Match_type == -1]"
   ]
  },
  {
   "cell_type": "code",
   "execution_count": 51,
   "metadata": {},
   "outputs": [],
   "source": [
    "over_performing_schools = final_predict_df[final_predict_df.Match_type == 1]"
   ]
  },
  {
   "cell_type": "code",
   "execution_count": 52,
   "metadata": {},
   "outputs": [],
   "source": [
    "tp_schools = final_predict_df[final_predict_df.Match_type == 0][final_predict_df.Predicted_class == 1]"
   ]
  },
  {
   "cell_type": "code",
   "execution_count": 53,
   "metadata": {},
   "outputs": [],
   "source": [
    "tn_schools = final_predict_df[final_predict_df.Match_type == 0][final_predict_df.Predicted_class == 0]"
   ]
  },
  {
   "cell_type": "code",
   "execution_count": 54,
   "metadata": {},
   "outputs": [],
   "source": [
    "race_under_schools = under_performing_schools.join(race_df['Percent Black / Hispanic'])"
   ]
  },
  {
   "cell_type": "code",
   "execution_count": 55,
   "metadata": {},
   "outputs": [],
   "source": [
    "race_over_schools = over_performing_schools.join(race_df['Percent Black / Hispanic'])"
   ]
  },
  {
   "cell_type": "code",
   "execution_count": 56,
   "metadata": {},
   "outputs": [
    {
     "data": {
      "text/html": [
       "<div>\n",
       "<style scoped>\n",
       "    .dataframe tbody tr th:only-of-type {\n",
       "        vertical-align: middle;\n",
       "    }\n",
       "\n",
       "    .dataframe tbody tr th {\n",
       "        vertical-align: top;\n",
       "    }\n",
       "\n",
       "    .dataframe thead th {\n",
       "        text-align: right;\n",
       "    }\n",
       "</style>\n",
       "<table border=\"1\" class=\"dataframe\">\n",
       "  <thead>\n",
       "    <tr style=\"text-align: right;\">\n",
       "      <th></th>\n",
       "      <th>Economic Need Index</th>\n",
       "      <th>Student Attendance Rate</th>\n",
       "      <th>Percent of Students Chronically Absent</th>\n",
       "      <th>Rigorous Instruction %</th>\n",
       "      <th>Supportive Environment %</th>\n",
       "      <th>Effective School Leadership %</th>\n",
       "      <th>Strong Family-Community Ties %</th>\n",
       "      <th>Student Achievement Rating</th>\n",
       "      <th>Average Math Proficiency</th>\n",
       "      <th>School Pupil-Teacher Ratio</th>\n",
       "      <th>Predicted_class</th>\n",
       "      <th>Match_type</th>\n",
       "      <th>Percent Black / Hispanic</th>\n",
       "    </tr>\n",
       "    <tr>\n",
       "      <th>Location Code</th>\n",
       "      <th></th>\n",
       "      <th></th>\n",
       "      <th></th>\n",
       "      <th></th>\n",
       "      <th></th>\n",
       "      <th></th>\n",
       "      <th></th>\n",
       "      <th></th>\n",
       "      <th></th>\n",
       "      <th></th>\n",
       "      <th></th>\n",
       "      <th></th>\n",
       "      <th></th>\n",
       "    </tr>\n",
       "  </thead>\n",
       "  <tbody>\n",
       "    <tr>\n",
       "      <th>01M450</th>\n",
       "      <td>0.610</td>\n",
       "      <td>0.97</td>\n",
       "      <td>0.05</td>\n",
       "      <td>0.92</td>\n",
       "      <td>0.92</td>\n",
       "      <td>0.96</td>\n",
       "      <td>0.88</td>\n",
       "      <td>4.0</td>\n",
       "      <td>0</td>\n",
       "      <td>14.5</td>\n",
       "      <td>1</td>\n",
       "      <td>-1</td>\n",
       "      <td>0.74</td>\n",
       "    </tr>\n",
       "    <tr>\n",
       "      <th>13K133</th>\n",
       "      <td>0.447</td>\n",
       "      <td>0.94</td>\n",
       "      <td>0.16</td>\n",
       "      <td>0.98</td>\n",
       "      <td>0.93</td>\n",
       "      <td>0.93</td>\n",
       "      <td>0.92</td>\n",
       "      <td>2.0</td>\n",
       "      <td>0</td>\n",
       "      <td>16.8</td>\n",
       "      <td>1</td>\n",
       "      <td>-1</td>\n",
       "      <td>0.59</td>\n",
       "    </tr>\n",
       "    <tr>\n",
       "      <th>13K492</th>\n",
       "      <td>0.363</td>\n",
       "      <td>0.95</td>\n",
       "      <td>0.10</td>\n",
       "      <td>0.94</td>\n",
       "      <td>0.90</td>\n",
       "      <td>0.92</td>\n",
       "      <td>0.91</td>\n",
       "      <td>3.0</td>\n",
       "      <td>0</td>\n",
       "      <td>17.1</td>\n",
       "      <td>1</td>\n",
       "      <td>-1</td>\n",
       "      <td>0.57</td>\n",
       "    </tr>\n",
       "    <tr>\n",
       "      <th>24Q013</th>\n",
       "      <td>0.673</td>\n",
       "      <td>0.96</td>\n",
       "      <td>0.10</td>\n",
       "      <td>0.91</td>\n",
       "      <td>0.96</td>\n",
       "      <td>0.81</td>\n",
       "      <td>0.77</td>\n",
       "      <td>3.0</td>\n",
       "      <td>0</td>\n",
       "      <td>17.0</td>\n",
       "      <td>1</td>\n",
       "      <td>-1</td>\n",
       "      <td>0.66</td>\n",
       "    </tr>\n",
       "    <tr>\n",
       "      <th>24Q125</th>\n",
       "      <td>0.615</td>\n",
       "      <td>0.96</td>\n",
       "      <td>0.10</td>\n",
       "      <td>0.90</td>\n",
       "      <td>0.88</td>\n",
       "      <td>0.84</td>\n",
       "      <td>0.73</td>\n",
       "      <td>4.0</td>\n",
       "      <td>0</td>\n",
       "      <td>16.4</td>\n",
       "      <td>1</td>\n",
       "      <td>-1</td>\n",
       "      <td>0.54</td>\n",
       "    </tr>\n",
       "    <tr>\n",
       "      <th>29Q176</th>\n",
       "      <td>0.380</td>\n",
       "      <td>0.96</td>\n",
       "      <td>0.09</td>\n",
       "      <td>0.96</td>\n",
       "      <td>0.94</td>\n",
       "      <td>0.86</td>\n",
       "      <td>0.87</td>\n",
       "      <td>3.0</td>\n",
       "      <td>0</td>\n",
       "      <td>19.1</td>\n",
       "      <td>1</td>\n",
       "      <td>-1</td>\n",
       "      <td>0.85</td>\n",
       "    </tr>\n",
       "    <tr>\n",
       "      <th>29Q192</th>\n",
       "      <td>0.487</td>\n",
       "      <td>0.94</td>\n",
       "      <td>0.14</td>\n",
       "      <td>0.92</td>\n",
       "      <td>0.92</td>\n",
       "      <td>0.90</td>\n",
       "      <td>0.98</td>\n",
       "      <td>3.0</td>\n",
       "      <td>0</td>\n",
       "      <td>15.8</td>\n",
       "      <td>1</td>\n",
       "      <td>-1</td>\n",
       "      <td>0.95</td>\n",
       "    </tr>\n",
       "    <tr>\n",
       "      <th>29Q208</th>\n",
       "      <td>0.302</td>\n",
       "      <td>0.96</td>\n",
       "      <td>0.06</td>\n",
       "      <td>0.94</td>\n",
       "      <td>0.88</td>\n",
       "      <td>0.84</td>\n",
       "      <td>0.83</td>\n",
       "      <td>3.0</td>\n",
       "      <td>0</td>\n",
       "      <td>14.7</td>\n",
       "      <td>1</td>\n",
       "      <td>-1</td>\n",
       "      <td>0.87</td>\n",
       "    </tr>\n",
       "    <tr>\n",
       "      <th>29Q270</th>\n",
       "      <td>0.358</td>\n",
       "      <td>0.96</td>\n",
       "      <td>0.09</td>\n",
       "      <td>0.91</td>\n",
       "      <td>0.87</td>\n",
       "      <td>0.73</td>\n",
       "      <td>0.82</td>\n",
       "      <td>3.0</td>\n",
       "      <td>0</td>\n",
       "      <td>16.5</td>\n",
       "      <td>1</td>\n",
       "      <td>-1</td>\n",
       "      <td>0.98</td>\n",
       "    </tr>\n",
       "    <tr>\n",
       "      <th>29Q283</th>\n",
       "      <td>0.464</td>\n",
       "      <td>0.97</td>\n",
       "      <td>0.03</td>\n",
       "      <td>0.94</td>\n",
       "      <td>0.88</td>\n",
       "      <td>0.92</td>\n",
       "      <td>0.81</td>\n",
       "      <td>3.0</td>\n",
       "      <td>0</td>\n",
       "      <td>18.6</td>\n",
       "      <td>1</td>\n",
       "      <td>-1</td>\n",
       "      <td>0.91</td>\n",
       "    </tr>\n",
       "    <tr>\n",
       "      <th>29Q295</th>\n",
       "      <td>0.419</td>\n",
       "      <td>0.96</td>\n",
       "      <td>0.07</td>\n",
       "      <td>0.95</td>\n",
       "      <td>0.87</td>\n",
       "      <td>0.69</td>\n",
       "      <td>0.81</td>\n",
       "      <td>3.0</td>\n",
       "      <td>0</td>\n",
       "      <td>16.0</td>\n",
       "      <td>1</td>\n",
       "      <td>-1</td>\n",
       "      <td>0.53</td>\n",
       "    </tr>\n",
       "    <tr>\n",
       "      <th>31R065</th>\n",
       "      <td>0.503</td>\n",
       "      <td>0.95</td>\n",
       "      <td>0.12</td>\n",
       "      <td>0.98</td>\n",
       "      <td>0.98</td>\n",
       "      <td>0.90</td>\n",
       "      <td>0.89</td>\n",
       "      <td>3.0</td>\n",
       "      <td>0</td>\n",
       "      <td>14.5</td>\n",
       "      <td>1</td>\n",
       "      <td>-1</td>\n",
       "      <td>0.63</td>\n",
       "    </tr>\n",
       "  </tbody>\n",
       "</table>\n",
       "</div>"
      ],
      "text/plain": [
       "               Economic Need Index  Student Attendance Rate  \\\n",
       "Location Code                                                 \n",
       "01M450                       0.610                     0.97   \n",
       "13K133                       0.447                     0.94   \n",
       "13K492                       0.363                     0.95   \n",
       "24Q013                       0.673                     0.96   \n",
       "24Q125                       0.615                     0.96   \n",
       "29Q176                       0.380                     0.96   \n",
       "29Q192                       0.487                     0.94   \n",
       "29Q208                       0.302                     0.96   \n",
       "29Q270                       0.358                     0.96   \n",
       "29Q283                       0.464                     0.97   \n",
       "29Q295                       0.419                     0.96   \n",
       "31R065                       0.503                     0.95   \n",
       "\n",
       "               Percent of Students Chronically Absent  Rigorous Instruction %  \\\n",
       "Location Code                                                                   \n",
       "01M450                                           0.05                    0.92   \n",
       "13K133                                           0.16                    0.98   \n",
       "13K492                                           0.10                    0.94   \n",
       "24Q013                                           0.10                    0.91   \n",
       "24Q125                                           0.10                    0.90   \n",
       "29Q176                                           0.09                    0.96   \n",
       "29Q192                                           0.14                    0.92   \n",
       "29Q208                                           0.06                    0.94   \n",
       "29Q270                                           0.09                    0.91   \n",
       "29Q283                                           0.03                    0.94   \n",
       "29Q295                                           0.07                    0.95   \n",
       "31R065                                           0.12                    0.98   \n",
       "\n",
       "               Supportive Environment %  Effective School Leadership %  \\\n",
       "Location Code                                                            \n",
       "01M450                             0.92                           0.96   \n",
       "13K133                             0.93                           0.93   \n",
       "13K492                             0.90                           0.92   \n",
       "24Q013                             0.96                           0.81   \n",
       "24Q125                             0.88                           0.84   \n",
       "29Q176                             0.94                           0.86   \n",
       "29Q192                             0.92                           0.90   \n",
       "29Q208                             0.88                           0.84   \n",
       "29Q270                             0.87                           0.73   \n",
       "29Q283                             0.88                           0.92   \n",
       "29Q295                             0.87                           0.69   \n",
       "31R065                             0.98                           0.90   \n",
       "\n",
       "               Strong Family-Community Ties %  Student Achievement Rating  \\\n",
       "Location Code                                                               \n",
       "01M450                                   0.88                         4.0   \n",
       "13K133                                   0.92                         2.0   \n",
       "13K492                                   0.91                         3.0   \n",
       "24Q013                                   0.77                         3.0   \n",
       "24Q125                                   0.73                         4.0   \n",
       "29Q176                                   0.87                         3.0   \n",
       "29Q192                                   0.98                         3.0   \n",
       "29Q208                                   0.83                         3.0   \n",
       "29Q270                                   0.82                         3.0   \n",
       "29Q283                                   0.81                         3.0   \n",
       "29Q295                                   0.81                         3.0   \n",
       "31R065                                   0.89                         3.0   \n",
       "\n",
       "               Average Math Proficiency  School Pupil-Teacher Ratio  \\\n",
       "Location Code                                                         \n",
       "01M450                                0                        14.5   \n",
       "13K133                                0                        16.8   \n",
       "13K492                                0                        17.1   \n",
       "24Q013                                0                        17.0   \n",
       "24Q125                                0                        16.4   \n",
       "29Q176                                0                        19.1   \n",
       "29Q192                                0                        15.8   \n",
       "29Q208                                0                        14.7   \n",
       "29Q270                                0                        16.5   \n",
       "29Q283                                0                        18.6   \n",
       "29Q295                                0                        16.0   \n",
       "31R065                                0                        14.5   \n",
       "\n",
       "               Predicted_class  Match_type  Percent Black / Hispanic  \n",
       "Location Code                                                         \n",
       "01M450                       1          -1                      0.74  \n",
       "13K133                       1          -1                      0.59  \n",
       "13K492                       1          -1                      0.57  \n",
       "24Q013                       1          -1                      0.66  \n",
       "24Q125                       1          -1                      0.54  \n",
       "29Q176                       1          -1                      0.85  \n",
       "29Q192                       1          -1                      0.95  \n",
       "29Q208                       1          -1                      0.87  \n",
       "29Q270                       1          -1                      0.98  \n",
       "29Q283                       1          -1                      0.91  \n",
       "29Q295                       1          -1                      0.53  \n",
       "31R065                       1          -1                      0.63  "
      ]
     },
     "execution_count": 56,
     "metadata": {},
     "output_type": "execute_result"
    }
   ],
   "source": [
    "schools_to_invest_in = race_under_schools[race_under_schools['Percent Black / Hispanic'] > 0.5]\n",
    "schools_to_invest_in"
   ]
  },
  {
   "cell_type": "code",
   "execution_count": 57,
   "metadata": {},
   "outputs": [
    {
     "data": {
      "text/html": [
       "<div>\n",
       "<style scoped>\n",
       "    .dataframe tbody tr th:only-of-type {\n",
       "        vertical-align: middle;\n",
       "    }\n",
       "\n",
       "    .dataframe tbody tr th {\n",
       "        vertical-align: top;\n",
       "    }\n",
       "\n",
       "    .dataframe thead th {\n",
       "        text-align: right;\n",
       "    }\n",
       "</style>\n",
       "<table border=\"1\" class=\"dataframe\">\n",
       "  <thead>\n",
       "    <tr style=\"text-align: right;\">\n",
       "      <th></th>\n",
       "      <th>School Name</th>\n",
       "      <th>Percent Black / Hispanic</th>\n",
       "    </tr>\n",
       "    <tr>\n",
       "      <th>Location Code</th>\n",
       "      <th></th>\n",
       "      <th></th>\n",
       "    </tr>\n",
       "  </thead>\n",
       "  <tbody>\n",
       "    <tr>\n",
       "      <th>01M450</th>\n",
       "      <td>EAST SIDE COMMUNITY SCHOOL</td>\n",
       "      <td>0.74</td>\n",
       "    </tr>\n",
       "    <tr>\n",
       "      <th>13K133</th>\n",
       "      <td>P.S. 133 WILLIAM A. BUTLER</td>\n",
       "      <td>0.59</td>\n",
       "    </tr>\n",
       "    <tr>\n",
       "      <th>13K492</th>\n",
       "      <td>ACADEMY OF ARTS AND LETTERS</td>\n",
       "      <td>0.57</td>\n",
       "    </tr>\n",
       "    <tr>\n",
       "      <th>24Q013</th>\n",
       "      <td>P.S. 013 CLEMENT C. MOORE</td>\n",
       "      <td>0.66</td>\n",
       "    </tr>\n",
       "    <tr>\n",
       "      <th>24Q125</th>\n",
       "      <td>I.S. 125 THOM J. MCCANN WOODSIDE</td>\n",
       "      <td>0.54</td>\n",
       "    </tr>\n",
       "    <tr>\n",
       "      <th>29Q176</th>\n",
       "      <td>P.S. 176 CAMBRIA HEIGHTS</td>\n",
       "      <td>0.85</td>\n",
       "    </tr>\n",
       "    <tr>\n",
       "      <th>29Q192</th>\n",
       "      <td>I.S. 192 THE LINDEN</td>\n",
       "      <td>0.95</td>\n",
       "    </tr>\n",
       "    <tr>\n",
       "      <th>29Q208</th>\n",
       "      <td>P.S./I.S. 208</td>\n",
       "      <td>0.87</td>\n",
       "    </tr>\n",
       "    <tr>\n",
       "      <th>29Q270</th>\n",
       "      <td>THE GORDON PARKS SCHOOL</td>\n",
       "      <td>0.98</td>\n",
       "    </tr>\n",
       "    <tr>\n",
       "      <th>29Q283</th>\n",
       "      <td>PREPARATORY ACADEMY FOR WRITERS: A COLLEGE BOA...</td>\n",
       "      <td>0.91</td>\n",
       "    </tr>\n",
       "    <tr>\n",
       "      <th>29Q295</th>\n",
       "      <td>P.S./I.S. 295</td>\n",
       "      <td>0.53</td>\n",
       "    </tr>\n",
       "    <tr>\n",
       "      <th>31R065</th>\n",
       "      <td>P.S. 65 THE ACADEMY OF INNOVATIVE LEARNING</td>\n",
       "      <td>0.63</td>\n",
       "    </tr>\n",
       "  </tbody>\n",
       "</table>\n",
       "</div>"
      ],
      "text/plain": [
       "                                                     School Name  \\\n",
       "Location Code                                                      \n",
       "01M450                                EAST SIDE COMMUNITY SCHOOL   \n",
       "13K133                                P.S. 133 WILLIAM A. BUTLER   \n",
       "13K492                               ACADEMY OF ARTS AND LETTERS   \n",
       "24Q013                                 P.S. 013 CLEMENT C. MOORE   \n",
       "24Q125                          I.S. 125 THOM J. MCCANN WOODSIDE   \n",
       "29Q176                                  P.S. 176 CAMBRIA HEIGHTS   \n",
       "29Q192                                       I.S. 192 THE LINDEN   \n",
       "29Q208                                             P.S./I.S. 208   \n",
       "29Q270                                   THE GORDON PARKS SCHOOL   \n",
       "29Q283         PREPARATORY ACADEMY FOR WRITERS: A COLLEGE BOA...   \n",
       "29Q295                                             P.S./I.S. 295   \n",
       "31R065                P.S. 65 THE ACADEMY OF INNOVATIVE LEARNING   \n",
       "\n",
       "               Percent Black / Hispanic  \n",
       "Location Code                            \n",
       "01M450                             0.74  \n",
       "13K133                             0.59  \n",
       "13K492                             0.57  \n",
       "24Q013                             0.66  \n",
       "24Q125                             0.54  \n",
       "29Q176                             0.85  \n",
       "29Q192                             0.95  \n",
       "29Q208                             0.87  \n",
       "29Q270                             0.98  \n",
       "29Q283                             0.91  \n",
       "29Q295                             0.53  \n",
       "31R065                             0.63  "
      ]
     },
     "execution_count": 57,
     "metadata": {},
     "output_type": "execute_result"
    }
   ],
   "source": [
    "initial_df[['School Name', 'Location Code']].join(schools_to_invest_in[['Percent Black / Hispanic']], \n",
    "                                                  on='Location Code',\n",
    "                                                  how='right').set_index('Location Code')"
   ]
  },
  {
   "cell_type": "markdown",
   "metadata": {},
   "source": [
    "## Areas of Investment"
   ]
  },
  {
   "cell_type": "markdown",
   "metadata": {},
   "source": [
    "While knowing where to invest in (i.e. where schools are underperforming from what the model predicts) is useful information, knowing what areas to develop at these institutions is even more valuable. Below, we perform and independent sample T-test to determine where the underperforming schools differ from the True Positive (correctly predicted) schools to analyze this question."
   ]
  },
  {
   "cell_type": "markdown",
   "metadata": {},
   "source": [
    "Our null hypothesis here is that there is no difference in the sample mean between the underperforming population and the correctly predicted population of schools on any and or all of the predictors used in this analysis. We reject the null hypothesis should the p-value for any difference in population mean be smaller than 0.05, and should that be true, we display the graph for that difference, as well as the corresponding p-value."
   ]
  },
  {
   "cell_type": "code",
   "execution_count": 60,
   "metadata": {
    "scrolled": false
   },
   "outputs": [
    {
     "name": "stdout",
     "output_type": "stream",
     "text": [
      "\n",
      "\n",
      "Student Attendance Rate - Under/TP\n",
      "Ttest_indResult(statistic=-2.4412759940643856, pvalue=0.015285332716539103)\n"
     ]
    },
    {
     "data": {
      "image/png": "[encoded data removed]",
      "text/plain": [
       "<Figure size 432x288 with 1 Axes>"
      ]
     },
     "metadata": {
      "needs_background": "light"
     },
     "output_type": "display_data"
    },
    {
     "name": "stdout",
     "output_type": "stream",
     "text": [
      "\n",
      "Percent of Students Chronically Absent - Under/TP\n",
      "Ttest_indResult(statistic=2.6402996645360206, pvalue=0.008770949084751173)\n"
     ]
    },
    {
     "data": {
      "image/png": "[encoded data removed]",
      "text/plain": [
       "<Figure size 432x288 with 1 Axes>"
      ]
     },
     "metadata": {
      "needs_background": "light"
     },
     "output_type": "display_data"
    },
    {
     "name": "stdout",
     "output_type": "stream",
     "text": [
      "\n",
      "\n",
      "\n",
      "\n"
     ]
    },
    {
     "data": {
      "text/plain": [
       "<Figure size 432x288 with 0 Axes>"
      ]
     },
     "metadata": {},
     "output_type": "display_data"
    }
   ],
   "source": [
    "for col in final_predict_df.columns[:-5]:\n",
    "    print()\n",
    "    under = under_performing_schools[col].values\n",
    "    over =   over_performing_schools[col].values\n",
    "    tp =                  tp_schools[col].values\n",
    "    tn =                  tn_schools[col].values\n",
    "        \n",
    "    under_tp_test = stats.ttest_ind(under, tp)\n",
    "    if round(under_tp_test[1], 2) <= .05:\n",
    "        print(col, '- Under/TP')\n",
    "        print(under_tp_test)\n",
    "        sns.distplot(under, label='under')\n",
    "        sns.distplot(tp, label='tp')\n",
    "        plt.legend()\n",
    "        plt.show()\n",
    "        plt.clf()"
   ]
  },
  {
   "cell_type": "markdown",
   "metadata": {},
   "source": [
    "And from this, we see that first and foremost, investment in making sure that students are in their class and not absent is the number one priority. Whether this means creating easier ways for children at these schools to get to the school itself, or a more concerted effort in making sure parents have the opportunity and drive to make sure their kids get to school will be determined on a school by school basis, and is beyond the scope of this investigation."
   ]
  },
  {
   "cell_type": "markdown",
   "metadata": {},
   "source": [
    "This should at least serve as a baseline for where the city needs to spend its valuable education resources to bring more minority students up in math scores so they can have a chance at attending the prestigous math and science prep schools in the city, so we can help close this gap in minority STEM representation."
   ]
  }
 ],
 "metadata": {
  "kernelspec": {
   "display_name": "Python 3",
   "language": "python",
   "name": "python3"
  },
  "language_info": {
   "codemirror_mode": {
    "name": "ipython",
    "version": 3
   },
   "file_extension": ".py",
   "mimetype": "text/x-python",
   "name": "python",
   "nbconvert_exporter": "python",
   "pygments_lexer": "ipython3",
   "version": "3.7.3"
  }
 },
 "nbformat": 4,
 "nbformat_minor": 2
}
