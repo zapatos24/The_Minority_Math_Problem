{
 "cells": [
  {
   "cell_type": "markdown",
   "metadata": {},
   "source": [
    "# Mod 5 Final Project"
   ]
  },
  {
   "cell_type": "markdown",
   "metadata": {},
   "source": [
    "Jeremy Owens"
   ]
  },
  {
   "cell_type": "markdown",
   "metadata": {},
   "source": [
    "Import necessary libraries"
   ]
  },
  {
   "cell_type": "code",
   "execution_count": 1,
   "metadata": {},
   "outputs": [],
   "source": [
    "import pandas as pd\n",
    "import numpy as np\n",
    "import matplotlib.pyplot as plt\n",
    "import seaborn as sns\n",
    "import warnings\n",
    "import os\n",
    "os.environ['KMP_DUPLICATE_LIB_OK']='True'\n",
    "\n",
    "from sklearn.preprocessing import StandardScaler\n",
    "from sklearn.model_selection import train_test_split, cross_val_score, GridSearchCV\n",
    "from sklearn.decomposition import PCA\n",
    "from sklearn.linear_model import LogisticRegression\n",
    "from sklearn.neighbors import KNeighborsClassifier\n",
    "from sklearn.tree import DecisionTreeClassifier\n",
    "from sklearn.feature_selection import RFE\n",
    "from sklearn.ensemble import RandomForestClassifier\n",
    "from sklearn.svm import SVC\n",
    "from xgboost import XGBClassifier\n",
    "from HelperFunctions import HelperFunctions as hf\n",
    "\n",
    "%matplotlib inline\n",
    "sns.set_style(\"darkgrid\")"
   ]
  },
  {
   "cell_type": "markdown",
   "metadata": {},
   "source": [
    "## Data Cleaning / EDA"
   ]
  },
  {
   "cell_type": "markdown",
   "metadata": {},
   "source": [
    "We begin our process by reading in the 2016 School Explorer Dataset and eliminating a variety of columns that are not useful to our analysis"
   ]
  },
  {
   "cell_type": "code",
   "execution_count": 43,
   "metadata": {
    "scrolled": true
   },
   "outputs": [],
   "source": [
    "initial_df = pd.read_csv('2016 School Explorer.csv')\n",
    "schools_df = hf.drop_impractical_columns(initial_df)"
   ]
  },
  {
   "cell_type": "code",
   "execution_count": 44,
   "metadata": {},
   "outputs": [],
   "source": [
    "schools_df['Student Achievement Rating'] = schools_df['Student Achievement Rating'].apply(lambda x: hf.acheivement_score(x))\n",
    "schools_df['Student Achievement Rating'].fillna(schools_df['Student Achievement Rating'].median(), inplace=True)"
   ]
  },
  {
   "cell_type": "code",
   "execution_count": 45,
   "metadata": {},
   "outputs": [],
   "source": [
    "schools_df.dropna(inplace=True)"
   ]
  },
  {
   "cell_type": "code",
   "execution_count": 46,
   "metadata": {},
   "outputs": [],
   "source": [
    "schools_df = hf.percent_cols_to_float(schools_df)"
   ]
  },
  {
   "cell_type": "code",
   "execution_count": 47,
   "metadata": {},
   "outputs": [],
   "source": [
    "races_to_drop = ['Percent ELL',\n",
    "                 'Percent Asian',\n",
    "                 'Percent Black',\n",
    "                 'Percent Hispanic',\n",
    "                 'Percent Black / Hispanic',\n",
    "                 'Percent White']\n",
    "race_df = schools_df[['Location Code'] + races_to_drop].set_index('Location Code')\n",
    "schools_df = schools_df.drop(races_to_drop, axis=1).set_index('Location Code')"
   ]
  },
  {
   "cell_type": "code",
   "execution_count": 48,
   "metadata": {},
   "outputs": [],
   "source": [
    "schools_df['Grade Low'] = schools_df['Grade Low'].apply(lambda x: hf.make_grades_int(x))\n",
    "schools_df['Grade High'] = schools_df['Grade High'].apply(lambda x: hf.make_grades_int(x))\n",
    "schools_df['Grade_range'] = schools_df['Grade High'] - schools_df['Grade Low']\n",
    "schools_df.drop(['Grade Low', 'Grade High'], axis=1, inplace=True)"
   ]
  },
  {
   "cell_type": "markdown",
   "metadata": {},
   "source": [
    "### Incorportation of Additional Data"
   ]
  },
  {
   "cell_type": "markdown",
   "metadata": {},
   "source": [
    "Importing the Pupil to Teacher dataset for joining to main dataset"
   ]
  },
  {
   "cell_type": "code",
   "execution_count": 49,
   "metadata": {},
   "outputs": [],
   "source": [
    "pupil_teacher_ratio_df = pd.read_csv('2015_-_2016_Final_Class_Size_Report_Pupil-to-Teacher_Ratio__PTR_.csv')\n",
    "pupil_teacher_ratio_df = pupil_teacher_ratio_df.drop('School Name', axis=1).set_index('DBN')"
   ]
  },
  {
   "cell_type": "code",
   "execution_count": 50,
   "metadata": {},
   "outputs": [],
   "source": [
    "joined_df = schools_df.join(pupil_teacher_ratio_df)"
   ]
  },
  {
   "cell_type": "code",
   "execution_count": 51,
   "metadata": {},
   "outputs": [
    {
     "name": "stdout",
     "output_type": "stream",
     "text": [
      "<class 'pandas.core.frame.DataFrame'>\n",
      "Index: 1217 entries, 01M015 to 84X730\n",
      "Data columns (total 13 columns):\n",
      "Economic Need Index                       1217 non-null float64\n",
      "Student Attendance Rate                   1217 non-null float64\n",
      "Percent of Students Chronically Absent    1217 non-null float64\n",
      "Rigorous Instruction %                    1217 non-null float64\n",
      "Collaborative Teachers %                  1217 non-null float64\n",
      "Supportive Environment %                  1217 non-null float64\n",
      "Effective School Leadership %             1217 non-null float64\n",
      "Strong Family-Community Ties %            1217 non-null float64\n",
      "Trust %                                   1217 non-null float64\n",
      "Student Achievement Rating                1217 non-null float64\n",
      "Average Math Proficiency                  1217 non-null float64\n",
      "Grade_range                               1217 non-null int64\n",
      "School Pupil-Teacher Ratio                1083 non-null float64\n",
      "dtypes: float64(12), int64(1)\n",
      "memory usage: 173.1+ KB\n"
     ]
    },
    {
     "data": {
      "text/plain": [
       "None"
      ]
     },
     "metadata": {},
     "output_type": "display_data"
    },
    {
     "data": {
      "text/html": [
       "<div>\n",
       "<style scoped>\n",
       "    .dataframe tbody tr th:only-of-type {\n",
       "        vertical-align: middle;\n",
       "    }\n",
       "\n",
       "    .dataframe tbody tr th {\n",
       "        vertical-align: top;\n",
       "    }\n",
       "\n",
       "    .dataframe thead th {\n",
       "        text-align: right;\n",
       "    }\n",
       "</style>\n",
       "<table border=\"1\" class=\"dataframe\">\n",
       "  <thead>\n",
       "    <tr style=\"text-align: right;\">\n",
       "      <th></th>\n",
       "      <th>Economic Need Index</th>\n",
       "      <th>Student Attendance Rate</th>\n",
       "      <th>Percent of Students Chronically Absent</th>\n",
       "      <th>Rigorous Instruction %</th>\n",
       "      <th>Collaborative Teachers %</th>\n",
       "      <th>Supportive Environment %</th>\n",
       "      <th>Effective School Leadership %</th>\n",
       "      <th>Strong Family-Community Ties %</th>\n",
       "      <th>Trust %</th>\n",
       "      <th>Student Achievement Rating</th>\n",
       "      <th>Average Math Proficiency</th>\n",
       "      <th>Grade_range</th>\n",
       "      <th>School Pupil-Teacher Ratio</th>\n",
       "    </tr>\n",
       "    <tr>\n",
       "      <th>Location Code</th>\n",
       "      <th></th>\n",
       "      <th></th>\n",
       "      <th></th>\n",
       "      <th></th>\n",
       "      <th></th>\n",
       "      <th></th>\n",
       "      <th></th>\n",
       "      <th></th>\n",
       "      <th></th>\n",
       "      <th></th>\n",
       "      <th></th>\n",
       "      <th></th>\n",
       "      <th></th>\n",
       "    </tr>\n",
       "  </thead>\n",
       "  <tbody>\n",
       "    <tr>\n",
       "      <th>01M015</th>\n",
       "      <td>0.919</td>\n",
       "      <td>0.94</td>\n",
       "      <td>0.18</td>\n",
       "      <td>0.89</td>\n",
       "      <td>0.94</td>\n",
       "      <td>0.86</td>\n",
       "      <td>0.91</td>\n",
       "      <td>0.85</td>\n",
       "      <td>0.94</td>\n",
       "      <td>2.0</td>\n",
       "      <td>2.17</td>\n",
       "      <td>6</td>\n",
       "      <td>9.2</td>\n",
       "    </tr>\n",
       "    <tr>\n",
       "      <th>01M019</th>\n",
       "      <td>0.641</td>\n",
       "      <td>0.92</td>\n",
       "      <td>0.30</td>\n",
       "      <td>0.96</td>\n",
       "      <td>0.96</td>\n",
       "      <td>0.97</td>\n",
       "      <td>0.90</td>\n",
       "      <td>0.86</td>\n",
       "      <td>0.94</td>\n",
       "      <td>4.0</td>\n",
       "      <td>2.98</td>\n",
       "      <td>6</td>\n",
       "      <td>7.0</td>\n",
       "    </tr>\n",
       "    <tr>\n",
       "      <th>01M020</th>\n",
       "      <td>0.744</td>\n",
       "      <td>0.94</td>\n",
       "      <td>0.20</td>\n",
       "      <td>0.87</td>\n",
       "      <td>0.77</td>\n",
       "      <td>0.82</td>\n",
       "      <td>0.61</td>\n",
       "      <td>0.80</td>\n",
       "      <td>0.79</td>\n",
       "      <td>2.0</td>\n",
       "      <td>2.54</td>\n",
       "      <td>6</td>\n",
       "      <td>13.3</td>\n",
       "    </tr>\n",
       "    <tr>\n",
       "      <th>01M034</th>\n",
       "      <td>0.860</td>\n",
       "      <td>0.92</td>\n",
       "      <td>0.28</td>\n",
       "      <td>0.85</td>\n",
       "      <td>0.78</td>\n",
       "      <td>0.82</td>\n",
       "      <td>0.73</td>\n",
       "      <td>0.89</td>\n",
       "      <td>0.88</td>\n",
       "      <td>4.0</td>\n",
       "      <td>2.47</td>\n",
       "      <td>9</td>\n",
       "      <td>10.9</td>\n",
       "    </tr>\n",
       "    <tr>\n",
       "      <th>01M063</th>\n",
       "      <td>0.730</td>\n",
       "      <td>0.93</td>\n",
       "      <td>0.23</td>\n",
       "      <td>0.90</td>\n",
       "      <td>0.88</td>\n",
       "      <td>0.87</td>\n",
       "      <td>0.81</td>\n",
       "      <td>0.89</td>\n",
       "      <td>0.93</td>\n",
       "      <td>3.0</td>\n",
       "      <td>2.54</td>\n",
       "      <td>6</td>\n",
       "      <td>10.6</td>\n",
       "    </tr>\n",
       "  </tbody>\n",
       "</table>\n",
       "</div>"
      ],
      "text/plain": [
       "               Economic Need Index  Student Attendance Rate  \\\n",
       "Location Code                                                 \n",
       "01M015                       0.919                     0.94   \n",
       "01M019                       0.641                     0.92   \n",
       "01M020                       0.744                     0.94   \n",
       "01M034                       0.860                     0.92   \n",
       "01M063                       0.730                     0.93   \n",
       "\n",
       "               Percent of Students Chronically Absent  Rigorous Instruction %  \\\n",
       "Location Code                                                                   \n",
       "01M015                                           0.18                    0.89   \n",
       "01M019                                           0.30                    0.96   \n",
       "01M020                                           0.20                    0.87   \n",
       "01M034                                           0.28                    0.85   \n",
       "01M063                                           0.23                    0.90   \n",
       "\n",
       "               Collaborative Teachers %  Supportive Environment %  \\\n",
       "Location Code                                                       \n",
       "01M015                             0.94                      0.86   \n",
       "01M019                             0.96                      0.97   \n",
       "01M020                             0.77                      0.82   \n",
       "01M034                             0.78                      0.82   \n",
       "01M063                             0.88                      0.87   \n",
       "\n",
       "               Effective School Leadership %  Strong Family-Community Ties %  \\\n",
       "Location Code                                                                  \n",
       "01M015                                  0.91                            0.85   \n",
       "01M019                                  0.90                            0.86   \n",
       "01M020                                  0.61                            0.80   \n",
       "01M034                                  0.73                            0.89   \n",
       "01M063                                  0.81                            0.89   \n",
       "\n",
       "               Trust %  Student Achievement Rating  Average Math Proficiency  \\\n",
       "Location Code                                                                  \n",
       "01M015            0.94                         2.0                      2.17   \n",
       "01M019            0.94                         4.0                      2.98   \n",
       "01M020            0.79                         2.0                      2.54   \n",
       "01M034            0.88                         4.0                      2.47   \n",
       "01M063            0.93                         3.0                      2.54   \n",
       "\n",
       "               Grade_range  School Pupil-Teacher Ratio  \n",
       "Location Code                                           \n",
       "01M015                   6                         9.2  \n",
       "01M019                   6                         7.0  \n",
       "01M020                   6                        13.3  \n",
       "01M034                   9                        10.9  \n",
       "01M063                   6                        10.6  "
      ]
     },
     "metadata": {},
     "output_type": "display_data"
    },
    {
     "data": {
      "text/html": [
       "<div>\n",
       "<style scoped>\n",
       "    .dataframe tbody tr th:only-of-type {\n",
       "        vertical-align: middle;\n",
       "    }\n",
       "\n",
       "    .dataframe tbody tr th {\n",
       "        vertical-align: top;\n",
       "    }\n",
       "\n",
       "    .dataframe thead th {\n",
       "        text-align: right;\n",
       "    }\n",
       "</style>\n",
       "<table border=\"1\" class=\"dataframe\">\n",
       "  <thead>\n",
       "    <tr style=\"text-align: right;\">\n",
       "      <th></th>\n",
       "      <th>Percent ELL</th>\n",
       "      <th>Percent Asian</th>\n",
       "      <th>Percent Black</th>\n",
       "      <th>Percent Hispanic</th>\n",
       "      <th>Percent Black / Hispanic</th>\n",
       "      <th>Percent White</th>\n",
       "    </tr>\n",
       "    <tr>\n",
       "      <th>Location Code</th>\n",
       "      <th></th>\n",
       "      <th></th>\n",
       "      <th></th>\n",
       "      <th></th>\n",
       "      <th></th>\n",
       "      <th></th>\n",
       "    </tr>\n",
       "  </thead>\n",
       "  <tbody>\n",
       "    <tr>\n",
       "      <th>01M015</th>\n",
       "      <td>0.09</td>\n",
       "      <td>0.05</td>\n",
       "      <td>0.32</td>\n",
       "      <td>0.60</td>\n",
       "      <td>0.92</td>\n",
       "      <td>0.01</td>\n",
       "    </tr>\n",
       "    <tr>\n",
       "      <th>01M019</th>\n",
       "      <td>0.05</td>\n",
       "      <td>0.10</td>\n",
       "      <td>0.20</td>\n",
       "      <td>0.63</td>\n",
       "      <td>0.83</td>\n",
       "      <td>0.06</td>\n",
       "    </tr>\n",
       "    <tr>\n",
       "      <th>01M020</th>\n",
       "      <td>0.15</td>\n",
       "      <td>0.35</td>\n",
       "      <td>0.08</td>\n",
       "      <td>0.49</td>\n",
       "      <td>0.57</td>\n",
       "      <td>0.04</td>\n",
       "    </tr>\n",
       "    <tr>\n",
       "      <th>01M034</th>\n",
       "      <td>0.07</td>\n",
       "      <td>0.05</td>\n",
       "      <td>0.29</td>\n",
       "      <td>0.63</td>\n",
       "      <td>0.92</td>\n",
       "      <td>0.04</td>\n",
       "    </tr>\n",
       "    <tr>\n",
       "      <th>01M063</th>\n",
       "      <td>0.03</td>\n",
       "      <td>0.04</td>\n",
       "      <td>0.20</td>\n",
       "      <td>0.65</td>\n",
       "      <td>0.84</td>\n",
       "      <td>0.10</td>\n",
       "    </tr>\n",
       "  </tbody>\n",
       "</table>\n",
       "</div>"
      ],
      "text/plain": [
       "               Percent ELL  Percent Asian  Percent Black  Percent Hispanic  \\\n",
       "Location Code                                                                \n",
       "01M015                0.09           0.05           0.32              0.60   \n",
       "01M019                0.05           0.10           0.20              0.63   \n",
       "01M020                0.15           0.35           0.08              0.49   \n",
       "01M034                0.07           0.05           0.29              0.63   \n",
       "01M063                0.03           0.04           0.20              0.65   \n",
       "\n",
       "               Percent Black / Hispanic  Percent White  \n",
       "Location Code                                           \n",
       "01M015                             0.92           0.01  \n",
       "01M019                             0.83           0.06  \n",
       "01M020                             0.57           0.04  \n",
       "01M034                             0.92           0.04  \n",
       "01M063                             0.84           0.10  "
      ]
     },
     "metadata": {},
     "output_type": "display_data"
    }
   ],
   "source": [
    "display(joined_df.info())\n",
    "display(joined_df.head())\n",
    "display(race_df.head())"
   ]
  },
  {
   "cell_type": "code",
   "execution_count": 52,
   "metadata": {},
   "outputs": [
    {
     "data": {
      "image/png": "[encoded data removed]",
      "text/plain": [
       "<Figure size 864x576 with 1 Axes>"
      ]
     },
     "metadata": {
      "needs_background": "light"
     },
     "output_type": "display_data"
    }
   ],
   "source": [
    "percentage_stats = joined_df.columns[:9]\n",
    "joined_df.dropna()[percentage_stats].boxplot(figsize=(12,8))\n",
    "plt.xticks(rotation=60)\n",
    "plt.show()"
   ]
  },
  {
   "cell_type": "code",
   "execution_count": 53,
   "metadata": {},
   "outputs": [
    {
     "data": {
      "image/png": "[encoded data removed]",
      "text/plain": [
       "<Figure size 864x576 with 1 Axes>"
      ]
     },
     "metadata": {
      "needs_background": "light"
     },
     "output_type": "display_data"
    }
   ],
   "source": [
    "warnings.filterwarnings('ignore')\n",
    "final_df = joined_df.dropna()\n",
    "instruction_outliers_indexes = final_df[final_df['Rigorous Instruction %'] == 0].index\n",
    "final_df.drop(instruction_outliers_indexes, inplace=True)\n",
    "percentage_stats = final_df.columns[:9]\n",
    "final_df[percentage_stats].boxplot(figsize=(12,8))\n",
    "plt.xticks(rotation=60)\n",
    "plt.show()"
   ]
  },
  {
   "cell_type": "markdown",
   "metadata": {},
   "source": [
    "No other outliers look especially strange from this box plot, so we then take a glance at the other predictors, make sure nothing else seems out of line."
   ]
  },
  {
   "cell_type": "markdown",
   "metadata": {},
   "source": [
    " "
   ]
  },
  {
   "cell_type": "code",
   "execution_count": 54,
   "metadata": {},
   "outputs": [
    {
     "data": {
      "image/png": "[encoded data removed]",
      "text/plain": [
       "<Figure size 864x576 with 1 Axes>"
      ]
     },
     "metadata": {
      "needs_background": "light"
     },
     "output_type": "display_data"
    }
   ],
   "source": [
    "other_stats = final_df.columns[-4:]\n",
    "final_df[other_stats].boxplot(figsize=(12,8))\n",
    "plt.xticks(rotation=60)\n",
    "plt.show()"
   ]
  },
  {
   "cell_type": "markdown",
   "metadata": {},
   "source": [
    " "
   ]
  },
  {
   "cell_type": "markdown",
   "metadata": {},
   "source": [
    "And all looks good here, so we then move on to the formation of the model."
   ]
  },
  {
   "cell_type": "markdown",
   "metadata": {},
   "source": [
    "## Model Formation"
   ]
  },
  {
   "cell_type": "code",
   "execution_count": 55,
   "metadata": {},
   "outputs": [],
   "source": [
    "upper_quartile = final_df['Average Math Proficiency'].quantile(.75)\n",
    "y = final_df['Average Math Proficiency'].apply(lambda x: 1 if x >= upper_quartile else 0)\n",
    "X = final_df.drop('Average Math Proficiency', axis=1)\n",
    "features = X.columns"
   ]
  },
  {
   "cell_type": "code",
   "execution_count": 56,
   "metadata": {},
   "outputs": [],
   "source": [
    "X = StandardScaler().fit_transform(X.astype({'Grade_range': 'float64'}))"
   ]
  },
  {
   "cell_type": "markdown",
   "metadata": {},
   "source": [
    "### PCA Analysis"
   ]
  },
  {
   "cell_type": "markdown",
   "metadata": {},
   "source": [
    "We first do a PCA analysis to determine, of our predictors, which have the greatest bearing on our classification algorithm."
   ]
  },
  {
   "cell_type": "code",
   "execution_count": 57,
   "metadata": {},
   "outputs": [],
   "source": [
    "pca = PCA()\n",
    "principalComponents = pca.fit_transform(X)\n",
    "principalDf = pd.DataFrame(data=principalComponents)"
   ]
  },
  {
   "cell_type": "code",
   "execution_count": 58,
   "metadata": {
    "scrolled": true
   },
   "outputs": [
    {
     "data": {
      "text/plain": [
       "array([0.3974852 , 0.19656456, 0.11404235, 0.06749327, 0.05960156,\n",
       "       0.04559067, 0.04052775, 0.03527883, 0.02483774, 0.00859648,\n",
       "       0.0067893 , 0.00319229])"
      ]
     },
     "execution_count": 58,
     "metadata": {},
     "output_type": "execute_result"
    }
   ],
   "source": [
    "pca.explained_variance_ratio_"
   ]
  },
  {
   "cell_type": "code",
   "execution_count": 59,
   "metadata": {},
   "outputs": [],
   "source": [
    "eig_values = pca.explained_variance_\n",
    "eig_vectors = pca.components_"
   ]
  },
  {
   "cell_type": "code",
   "execution_count": 60,
   "metadata": {},
   "outputs": [
    {
     "data": {
      "text/plain": [
       "Percent of Students Chronically Absent    0.654653\n",
       "Economic Need Index                       0.573251\n",
       "Grade_range                              -0.112935\n",
       "School Pupil-Teacher Ratio               -0.377194\n",
       "Student Achievement Rating               -0.449336\n",
       "Strong Family-Community Ties %           -0.507848\n",
       "Student Attendance Rate                  -0.644946\n",
       "Rigorous Instruction %                   -0.733685\n",
       "Supportive Environment %                 -0.757446\n",
       "Effective School Leadership %            -0.763228\n",
       "Trust %                                  -0.784523\n",
       "Collaborative Teachers %                 -0.822339\n",
       "dtype: float64"
      ]
     },
     "execution_count": 60,
     "metadata": {},
     "output_type": "execute_result"
    }
   ],
   "source": [
    "structure_loading_1 = eig_vectors[0]* np.sqrt(eig_values[0])\n",
    "str_loading_1 = pd.Series(structure_loading_1, index=features)\n",
    "str_loading_1.sort_values(ascending=False)"
   ]
  },
  {
   "cell_type": "code",
   "execution_count": 61,
   "metadata": {},
   "outputs": [
    {
     "data": {
      "text/plain": [
       "Text(0, 0.5, 'proportion of explained variance')"
      ]
     },
     "execution_count": 61,
     "metadata": {},
     "output_type": "execute_result"
    },
    {
     "data": {
      "image/png": "[encoded data removed]",
      "text/plain": [
       "<Figure size 432x288 with 1 Axes>"
      ]
     },
     "metadata": {
      "needs_background": "light"
     },
     "output_type": "display_data"
    }
   ],
   "source": [
    "index = np.arange(len(features))\n",
    "plt.bar(index, pca.explained_variance_ratio_)\n",
    "plt.title('Scree plot for PCA')\n",
    "plt.xlabel('Num of components')\n",
    "plt.ylabel('proportion of explained variance')"
   ]
  },
  {
   "cell_type": "code",
   "execution_count": 62,
   "metadata": {},
   "outputs": [
    {
     "data": {
      "text/plain": [
       "Text(0, 0.5, 'explained variance ratio')"
      ]
     },
     "execution_count": 62,
     "metadata": {},
     "output_type": "execute_result"
    },
    {
     "data": {
      "image/png": "[encoded data removed]",
      "text/plain": [
       "<Figure size 432x288 with 1 Axes>"
      ]
     },
     "metadata": {
      "needs_background": "light"
     },
     "output_type": "display_data"
    }
   ],
   "source": [
    "plt.plot(np.cumsum(pca.explained_variance_ratio_))\n",
    "plt.xlabel('number of components')\n",
    "plt.ylabel('explained variance ratio')"
   ]
  },
  {
   "cell_type": "markdown",
   "metadata": {},
   "source": [
    "While this was a useful exercise to look at the number of useful factors in this analysis, as we would want to ideally use 8 out of the 12 components to acheive a decent portion of explained variance, we determined it would be beneficial to keep the original 12 predictors in model analysis, and only cull that number should feature importance dictate."
   ]
  },
  {
   "cell_type": "markdown",
   "metadata": {},
   "source": [
    "So we next use the recursive feature elimination tool from SKLearn to determine which of our features are superfluous to the model, and would likely introduce too much noise, causing overfit."
   ]
  },
  {
   "cell_type": "code",
   "execution_count": 63,
   "metadata": {},
   "outputs": [],
   "source": [
    "X_train, X_test, y_train, y_test = train_test_split(X,y, test_size = 0.3)"
   ]
  },
  {
   "cell_type": "code",
   "execution_count": 64,
   "metadata": {},
   "outputs": [
    {
     "data": {
      "text/html": [
       "<div>\n",
       "<style scoped>\n",
       "    .dataframe tbody tr th:only-of-type {\n",
       "        vertical-align: middle;\n",
       "    }\n",
       "\n",
       "    .dataframe tbody tr th {\n",
       "        vertical-align: top;\n",
       "    }\n",
       "\n",
       "    .dataframe thead th {\n",
       "        text-align: right;\n",
       "    }\n",
       "</style>\n",
       "<table border=\"1\" class=\"dataframe\">\n",
       "  <thead>\n",
       "    <tr style=\"text-align: right;\">\n",
       "      <th></th>\n",
       "      <th>0</th>\n",
       "      <th>1</th>\n",
       "    </tr>\n",
       "  </thead>\n",
       "  <tbody>\n",
       "    <tr>\n",
       "      <th>0</th>\n",
       "      <td>Economic Need Index</td>\n",
       "      <td>1.00</td>\n",
       "    </tr>\n",
       "    <tr>\n",
       "      <th>1</th>\n",
       "      <td>Student Attendance Rate</td>\n",
       "      <td>1.00</td>\n",
       "    </tr>\n",
       "    <tr>\n",
       "      <th>5</th>\n",
       "      <td>Supportive Environment %</td>\n",
       "      <td>1.00</td>\n",
       "    </tr>\n",
       "    <tr>\n",
       "      <th>9</th>\n",
       "      <td>Student Achievement Rating</td>\n",
       "      <td>1.02</td>\n",
       "    </tr>\n",
       "    <tr>\n",
       "      <th>6</th>\n",
       "      <td>Effective School Leadership %</td>\n",
       "      <td>1.10</td>\n",
       "    </tr>\n",
       "    <tr>\n",
       "      <th>11</th>\n",
       "      <td>School Pupil-Teacher Ratio</td>\n",
       "      <td>1.14</td>\n",
       "    </tr>\n",
       "    <tr>\n",
       "      <th>3</th>\n",
       "      <td>Rigorous Instruction %</td>\n",
       "      <td>1.62</td>\n",
       "    </tr>\n",
       "    <tr>\n",
       "      <th>8</th>\n",
       "      <td>Trust %</td>\n",
       "      <td>2.00</td>\n",
       "    </tr>\n",
       "    <tr>\n",
       "      <th>7</th>\n",
       "      <td>Strong Family-Community Ties %</td>\n",
       "      <td>2.26</td>\n",
       "    </tr>\n",
       "    <tr>\n",
       "      <th>2</th>\n",
       "      <td>Percent of Students Chronically Absent</td>\n",
       "      <td>2.30</td>\n",
       "    </tr>\n",
       "    <tr>\n",
       "      <th>4</th>\n",
       "      <td>Collaborative Teachers %</td>\n",
       "      <td>2.72</td>\n",
       "    </tr>\n",
       "    <tr>\n",
       "      <th>10</th>\n",
       "      <td>Grade_range</td>\n",
       "      <td>3.04</td>\n",
       "    </tr>\n",
       "  </tbody>\n",
       "</table>\n",
       "</div>"
      ],
      "text/plain": [
       "                                         0     1\n",
       "0                      Economic Need Index  1.00\n",
       "1                  Student Attendance Rate  1.00\n",
       "5                 Supportive Environment %  1.00\n",
       "9               Student Achievement Rating  1.02\n",
       "6            Effective School Leadership %  1.10\n",
       "11              School Pupil-Teacher Ratio  1.14\n",
       "3                   Rigorous Instruction %  1.62\n",
       "8                                  Trust %  2.00\n",
       "7           Strong Family-Community Ties %  2.26\n",
       "2   Percent of Students Chronically Absent  2.30\n",
       "4                 Collaborative Teachers %  2.72\n",
       "10                             Grade_range  3.04"
      ]
     },
     "execution_count": 64,
     "metadata": {},
     "output_type": "execute_result"
    }
   ],
   "source": [
    "hf.rfe_test(DecisionTreeClassifier(), features, X_train, y_train)"
   ]
  },
  {
   "cell_type": "code",
   "execution_count": 65,
   "metadata": {},
   "outputs": [
    {
     "data": {
      "text/html": [
       "<div>\n",
       "<style scoped>\n",
       "    .dataframe tbody tr th:only-of-type {\n",
       "        vertical-align: middle;\n",
       "    }\n",
       "\n",
       "    .dataframe tbody tr th {\n",
       "        vertical-align: top;\n",
       "    }\n",
       "\n",
       "    .dataframe thead th {\n",
       "        text-align: right;\n",
       "    }\n",
       "</style>\n",
       "<table border=\"1\" class=\"dataframe\">\n",
       "  <thead>\n",
       "    <tr style=\"text-align: right;\">\n",
       "      <th></th>\n",
       "      <th>0</th>\n",
       "      <th>1</th>\n",
       "    </tr>\n",
       "  </thead>\n",
       "  <tbody>\n",
       "    <tr>\n",
       "      <th>0</th>\n",
       "      <td>Economic Need Index</td>\n",
       "      <td>1.00</td>\n",
       "    </tr>\n",
       "    <tr>\n",
       "      <th>2</th>\n",
       "      <td>Percent of Students Chronically Absent</td>\n",
       "      <td>1.00</td>\n",
       "    </tr>\n",
       "    <tr>\n",
       "      <th>9</th>\n",
       "      <td>Student Achievement Rating</td>\n",
       "      <td>1.00</td>\n",
       "    </tr>\n",
       "    <tr>\n",
       "      <th>11</th>\n",
       "      <td>School Pupil-Teacher Ratio</td>\n",
       "      <td>1.00</td>\n",
       "    </tr>\n",
       "    <tr>\n",
       "      <th>1</th>\n",
       "      <td>Student Attendance Rate</td>\n",
       "      <td>1.02</td>\n",
       "    </tr>\n",
       "    <tr>\n",
       "      <th>5</th>\n",
       "      <td>Supportive Environment %</td>\n",
       "      <td>1.04</td>\n",
       "    </tr>\n",
       "    <tr>\n",
       "      <th>6</th>\n",
       "      <td>Effective School Leadership %</td>\n",
       "      <td>1.46</td>\n",
       "    </tr>\n",
       "    <tr>\n",
       "      <th>3</th>\n",
       "      <td>Rigorous Instruction %</td>\n",
       "      <td>1.54</td>\n",
       "    </tr>\n",
       "    <tr>\n",
       "      <th>7</th>\n",
       "      <td>Strong Family-Community Ties %</td>\n",
       "      <td>1.66</td>\n",
       "    </tr>\n",
       "    <tr>\n",
       "      <th>4</th>\n",
       "      <td>Collaborative Teachers %</td>\n",
       "      <td>2.18</td>\n",
       "    </tr>\n",
       "    <tr>\n",
       "      <th>8</th>\n",
       "      <td>Trust %</td>\n",
       "      <td>2.26</td>\n",
       "    </tr>\n",
       "    <tr>\n",
       "      <th>10</th>\n",
       "      <td>Grade_range</td>\n",
       "      <td>3.54</td>\n",
       "    </tr>\n",
       "  </tbody>\n",
       "</table>\n",
       "</div>"
      ],
      "text/plain": [
       "                                         0     1\n",
       "0                      Economic Need Index  1.00\n",
       "2   Percent of Students Chronically Absent  1.00\n",
       "9               Student Achievement Rating  1.00\n",
       "11              School Pupil-Teacher Ratio  1.00\n",
       "1                  Student Attendance Rate  1.02\n",
       "5                 Supportive Environment %  1.04\n",
       "6            Effective School Leadership %  1.46\n",
       "3                   Rigorous Instruction %  1.54\n",
       "7           Strong Family-Community Ties %  1.66\n",
       "4                 Collaborative Teachers %  2.18\n",
       "8                                  Trust %  2.26\n",
       "10                             Grade_range  3.54"
      ]
     },
     "execution_count": 65,
     "metadata": {},
     "output_type": "execute_result"
    }
   ],
   "source": [
    "hf.rfe_test(RandomForestClassifier(), features, X_train, y_train)"
   ]
  },
  {
   "cell_type": "code",
   "execution_count": 66,
   "metadata": {},
   "outputs": [
    {
     "data": {
      "text/html": [
       "<div>\n",
       "<style scoped>\n",
       "    .dataframe tbody tr th:only-of-type {\n",
       "        vertical-align: middle;\n",
       "    }\n",
       "\n",
       "    .dataframe tbody tr th {\n",
       "        vertical-align: top;\n",
       "    }\n",
       "\n",
       "    .dataframe thead th {\n",
       "        text-align: right;\n",
       "    }\n",
       "</style>\n",
       "<table border=\"1\" class=\"dataframe\">\n",
       "  <thead>\n",
       "    <tr style=\"text-align: right;\">\n",
       "      <th></th>\n",
       "      <th>0</th>\n",
       "      <th>1</th>\n",
       "    </tr>\n",
       "  </thead>\n",
       "  <tbody>\n",
       "    <tr>\n",
       "      <th>0</th>\n",
       "      <td>Economic Need Index</td>\n",
       "      <td>1.0</td>\n",
       "    </tr>\n",
       "    <tr>\n",
       "      <th>2</th>\n",
       "      <td>Percent of Students Chronically Absent</td>\n",
       "      <td>1.0</td>\n",
       "    </tr>\n",
       "    <tr>\n",
       "      <th>5</th>\n",
       "      <td>Supportive Environment %</td>\n",
       "      <td>1.0</td>\n",
       "    </tr>\n",
       "    <tr>\n",
       "      <th>9</th>\n",
       "      <td>Student Achievement Rating</td>\n",
       "      <td>1.0</td>\n",
       "    </tr>\n",
       "    <tr>\n",
       "      <th>11</th>\n",
       "      <td>School Pupil-Teacher Ratio</td>\n",
       "      <td>1.0</td>\n",
       "    </tr>\n",
       "    <tr>\n",
       "      <th>1</th>\n",
       "      <td>Student Attendance Rate</td>\n",
       "      <td>2.0</td>\n",
       "    </tr>\n",
       "    <tr>\n",
       "      <th>6</th>\n",
       "      <td>Effective School Leadership %</td>\n",
       "      <td>3.0</td>\n",
       "    </tr>\n",
       "    <tr>\n",
       "      <th>3</th>\n",
       "      <td>Rigorous Instruction %</td>\n",
       "      <td>4.0</td>\n",
       "    </tr>\n",
       "    <tr>\n",
       "      <th>8</th>\n",
       "      <td>Trust %</td>\n",
       "      <td>5.0</td>\n",
       "    </tr>\n",
       "    <tr>\n",
       "      <th>7</th>\n",
       "      <td>Strong Family-Community Ties %</td>\n",
       "      <td>6.0</td>\n",
       "    </tr>\n",
       "    <tr>\n",
       "      <th>10</th>\n",
       "      <td>Grade_range</td>\n",
       "      <td>7.0</td>\n",
       "    </tr>\n",
       "    <tr>\n",
       "      <th>4</th>\n",
       "      <td>Collaborative Teachers %</td>\n",
       "      <td>8.0</td>\n",
       "    </tr>\n",
       "  </tbody>\n",
       "</table>\n",
       "</div>"
      ],
      "text/plain": [
       "                                         0    1\n",
       "0                      Economic Need Index  1.0\n",
       "2   Percent of Students Chronically Absent  1.0\n",
       "5                 Supportive Environment %  1.0\n",
       "9               Student Achievement Rating  1.0\n",
       "11              School Pupil-Teacher Ratio  1.0\n",
       "1                  Student Attendance Rate  2.0\n",
       "6            Effective School Leadership %  3.0\n",
       "3                   Rigorous Instruction %  4.0\n",
       "8                                  Trust %  5.0\n",
       "7           Strong Family-Community Ties %  6.0\n",
       "10                             Grade_range  7.0\n",
       "4                 Collaborative Teachers %  8.0"
      ]
     },
     "execution_count": 66,
     "metadata": {},
     "output_type": "execute_result"
    }
   ],
   "source": [
    "hf.rfe_test(XGBClassifier(), features, X_train, y_train)"
   ]
  },
  {
   "cell_type": "markdown",
   "metadata": {},
   "source": [
    "As we can see from the Decision Tree, Random Forest, and XGBoost RFE analysis Grade_range, Trust %, and Collaborative Teachers % consistently are the lowest ranked features for importance, and likely introduce more noise than we need. We therefore will remove them from our dataset."
   ]
  },
  {
   "cell_type": "code",
   "execution_count": 67,
   "metadata": {},
   "outputs": [
    {
     "data": {
      "text/html": [
       "<div>\n",
       "<style scoped>\n",
       "    .dataframe tbody tr th:only-of-type {\n",
       "        vertical-align: middle;\n",
       "    }\n",
       "\n",
       "    .dataframe tbody tr th {\n",
       "        vertical-align: top;\n",
       "    }\n",
       "\n",
       "    .dataframe thead th {\n",
       "        text-align: right;\n",
       "    }\n",
       "</style>\n",
       "<table border=\"1\" class=\"dataframe\">\n",
       "  <thead>\n",
       "    <tr style=\"text-align: right;\">\n",
       "      <th></th>\n",
       "      <th>Economic Need Index</th>\n",
       "      <th>Student Attendance Rate</th>\n",
       "      <th>Percent of Students Chronically Absent</th>\n",
       "      <th>Rigorous Instruction %</th>\n",
       "      <th>Supportive Environment %</th>\n",
       "      <th>Effective School Leadership %</th>\n",
       "      <th>Strong Family-Community Ties %</th>\n",
       "      <th>Student Achievement Rating</th>\n",
       "      <th>Average Math Proficiency</th>\n",
       "      <th>School Pupil-Teacher Ratio</th>\n",
       "    </tr>\n",
       "    <tr>\n",
       "      <th>Location Code</th>\n",
       "      <th></th>\n",
       "      <th></th>\n",
       "      <th></th>\n",
       "      <th></th>\n",
       "      <th></th>\n",
       "      <th></th>\n",
       "      <th></th>\n",
       "      <th></th>\n",
       "      <th></th>\n",
       "      <th></th>\n",
       "    </tr>\n",
       "  </thead>\n",
       "  <tbody>\n",
       "    <tr>\n",
       "      <th>01M015</th>\n",
       "      <td>0.919</td>\n",
       "      <td>0.94</td>\n",
       "      <td>0.18</td>\n",
       "      <td>0.89</td>\n",
       "      <td>0.86</td>\n",
       "      <td>0.91</td>\n",
       "      <td>0.85</td>\n",
       "      <td>2.0</td>\n",
       "      <td>2.17</td>\n",
       "      <td>9.2</td>\n",
       "    </tr>\n",
       "    <tr>\n",
       "      <th>01M019</th>\n",
       "      <td>0.641</td>\n",
       "      <td>0.92</td>\n",
       "      <td>0.30</td>\n",
       "      <td>0.96</td>\n",
       "      <td>0.97</td>\n",
       "      <td>0.90</td>\n",
       "      <td>0.86</td>\n",
       "      <td>4.0</td>\n",
       "      <td>2.98</td>\n",
       "      <td>7.0</td>\n",
       "    </tr>\n",
       "    <tr>\n",
       "      <th>01M020</th>\n",
       "      <td>0.744</td>\n",
       "      <td>0.94</td>\n",
       "      <td>0.20</td>\n",
       "      <td>0.87</td>\n",
       "      <td>0.82</td>\n",
       "      <td>0.61</td>\n",
       "      <td>0.80</td>\n",
       "      <td>2.0</td>\n",
       "      <td>2.54</td>\n",
       "      <td>13.3</td>\n",
       "    </tr>\n",
       "    <tr>\n",
       "      <th>01M034</th>\n",
       "      <td>0.860</td>\n",
       "      <td>0.92</td>\n",
       "      <td>0.28</td>\n",
       "      <td>0.85</td>\n",
       "      <td>0.82</td>\n",
       "      <td>0.73</td>\n",
       "      <td>0.89</td>\n",
       "      <td>4.0</td>\n",
       "      <td>2.47</td>\n",
       "      <td>10.9</td>\n",
       "    </tr>\n",
       "    <tr>\n",
       "      <th>01M063</th>\n",
       "      <td>0.730</td>\n",
       "      <td>0.93</td>\n",
       "      <td>0.23</td>\n",
       "      <td>0.90</td>\n",
       "      <td>0.87</td>\n",
       "      <td>0.81</td>\n",
       "      <td>0.89</td>\n",
       "      <td>3.0</td>\n",
       "      <td>2.54</td>\n",
       "      <td>10.6</td>\n",
       "    </tr>\n",
       "  </tbody>\n",
       "</table>\n",
       "</div>"
      ],
      "text/plain": [
       "               Economic Need Index  Student Attendance Rate  \\\n",
       "Location Code                                                 \n",
       "01M015                       0.919                     0.94   \n",
       "01M019                       0.641                     0.92   \n",
       "01M020                       0.744                     0.94   \n",
       "01M034                       0.860                     0.92   \n",
       "01M063                       0.730                     0.93   \n",
       "\n",
       "               Percent of Students Chronically Absent  Rigorous Instruction %  \\\n",
       "Location Code                                                                   \n",
       "01M015                                           0.18                    0.89   \n",
       "01M019                                           0.30                    0.96   \n",
       "01M020                                           0.20                    0.87   \n",
       "01M034                                           0.28                    0.85   \n",
       "01M063                                           0.23                    0.90   \n",
       "\n",
       "               Supportive Environment %  Effective School Leadership %  \\\n",
       "Location Code                                                            \n",
       "01M015                             0.86                           0.91   \n",
       "01M019                             0.97                           0.90   \n",
       "01M020                             0.82                           0.61   \n",
       "01M034                             0.82                           0.73   \n",
       "01M063                             0.87                           0.81   \n",
       "\n",
       "               Strong Family-Community Ties %  Student Achievement Rating  \\\n",
       "Location Code                                                               \n",
       "01M015                                   0.85                         2.0   \n",
       "01M019                                   0.86                         4.0   \n",
       "01M020                                   0.80                         2.0   \n",
       "01M034                                   0.89                         4.0   \n",
       "01M063                                   0.89                         3.0   \n",
       "\n",
       "               Average Math Proficiency  School Pupil-Teacher Ratio  \n",
       "Location Code                                                        \n",
       "01M015                             2.17                         9.2  \n",
       "01M019                             2.98                         7.0  \n",
       "01M020                             2.54                        13.3  \n",
       "01M034                             2.47                        10.9  \n",
       "01M063                             2.54                        10.6  "
      ]
     },
     "execution_count": 67,
     "metadata": {},
     "output_type": "execute_result"
    }
   ],
   "source": [
    "final_df.drop(['Trust %', 'Grade_range', 'Collaborative Teachers %'], axis=1, inplace=True)\n",
    "X = final_df.drop('Average Math Proficiency', axis=1)\n",
    "features = X.columns\n",
    "final_df.head()"
   ]
  },
  {
   "cell_type": "code",
   "execution_count": 68,
   "metadata": {},
   "outputs": [],
   "source": [
    "X = StandardScaler().fit_transform(X)"
   ]
  },
  {
   "cell_type": "code",
   "execution_count": 69,
   "metadata": {},
   "outputs": [],
   "source": [
    "X_train, X_test, y_train, y_test = train_test_split(X,y, test_size = 0.3)"
   ]
  },
  {
   "cell_type": "markdown",
   "metadata": {},
   "source": [
    "### Basic Decision Tree"
   ]
  },
  {
   "cell_type": "code",
   "execution_count": 72,
   "metadata": {},
   "outputs": [],
   "source": [
    "param_grid = {'max_depth': [3, 5, 10, 15],\n",
    "              'max_features': [2, 5, 8, 9],\n",
    "             }"
   ]
  },
  {
   "cell_type": "code",
   "execution_count": 73,
   "metadata": {},
   "outputs": [
    {
     "name": "stdout",
     "output_type": "stream",
     "text": [
      "Grid Search found the following optimal parameters: \n",
      "max_depth: 5\n",
      "max_features: 5\n",
      "\n",
      "[[219  20]\n",
      " [ 13  73]]\n",
      "              precision    recall  f1-score   support\n",
      "\n",
      "           0       0.94      0.92      0.93       239\n",
      "           1       0.78      0.85      0.82        86\n",
      "\n",
      "   micro avg       0.90      0.90      0.90       325\n",
      "   macro avg       0.86      0.88      0.87       325\n",
      "weighted avg       0.90      0.90      0.90       325\n",
      "\n",
      "Accuracy score: 0.9\n"
     ]
    },
    {
     "data": {
      "image/png": "[encoded data removed]",
      "text/plain": [
       "<Figure size 504x360 with 2 Axes>"
      ]
     },
     "metadata": {
      "needs_background": "light"
     },
     "output_type": "display_data"
    }
   ],
   "source": [
    "dt_grid_clf = hf.grid_search_classifier(DecisionTreeClassifier(), param_grid, X_train, X_test, y_train, y_test)"
   ]
  },
  {
   "cell_type": "code",
   "execution_count": 74,
   "metadata": {},
   "outputs": [
    {
     "name": "stdout",
     "output_type": "stream",
     "text": [
      "AUC: 0.9350004865233044\n"
     ]
    },
    {
     "data": {
      "image/png": "[encoded data removed]",
      "text/plain": [
       "<Figure size 720x576 with 1 Axes>"
      ]
     },
     "metadata": {
      "needs_background": "light"
     },
     "output_type": "display_data"
    }
   ],
   "source": [
    "hf.plot_ROC(y_test, X_test, dt_grid_clf)"
   ]
  },
  {
   "cell_type": "markdown",
   "metadata": {},
   "source": [
    "### KNN"
   ]
  },
  {
   "cell_type": "code",
   "execution_count": 75,
   "metadata": {},
   "outputs": [],
   "source": [
    "param_grid = {'weights': ['uniform', 'distance'],\n",
    "              'n_neighbors': [3, 5, 8, 10, 15, 20]\n",
    "             }"
   ]
  },
  {
   "cell_type": "code",
   "execution_count": 76,
   "metadata": {},
   "outputs": [
    {
     "name": "stdout",
     "output_type": "stream",
     "text": [
      "Grid Search found the following optimal parameters: \n",
      "n_neighbors: 20\n",
      "weights: 'distance'\n",
      "\n",
      "[[231   8]\n",
      " [ 17  69]]\n",
      "              precision    recall  f1-score   support\n",
      "\n",
      "           0       0.93      0.97      0.95       239\n",
      "           1       0.90      0.80      0.85        86\n",
      "\n",
      "   micro avg       0.92      0.92      0.92       325\n",
      "   macro avg       0.91      0.88      0.90       325\n",
      "weighted avg       0.92      0.92      0.92       325\n",
      "\n",
      "Accuracy score: 0.92\n"
     ]
    },
    {
     "data": {
      "image/png": "[encoded data removed]",
      "text/plain": [
       "<Figure size 504x360 with 2 Axes>"
      ]
     },
     "metadata": {
      "needs_background": "light"
     },
     "output_type": "display_data"
    }
   ],
   "source": [
    "knn_grid_clf = hf.grid_search_classifier(KNeighborsClassifier(), param_grid, X_train, X_test, y_train, y_test)"
   ]
  },
  {
   "cell_type": "code",
   "execution_count": 77,
   "metadata": {},
   "outputs": [
    {
     "name": "stdout",
     "output_type": "stream",
     "text": [
      "AUC: 0.969494988809964\n"
     ]
    },
    {
     "data": {
      "image/png": "[encoded data removed]",
      "text/plain": [
       "<Figure size 720x576 with 1 Axes>"
      ]
     },
     "metadata": {
      "needs_background": "light"
     },
     "output_type": "display_data"
    }
   ],
   "source": [
    "hf.plot_ROC(y_test, X_test, knn_grid_clf)"
   ]
  },
  {
   "cell_type": "markdown",
   "metadata": {},
   "source": [
    "### Random Forest"
   ]
  },
  {
   "cell_type": "code",
   "execution_count": 78,
   "metadata": {},
   "outputs": [],
   "source": [
    "param_grid = {'max_depth': [3, 5, 10, 15],\n",
    "              'max_features': [2, 5, 8, 9],\n",
    "              'n_estimators': [10, 25, 50, 100, 250, 500]\n",
    "             }"
   ]
  },
  {
   "cell_type": "code",
   "execution_count": 79,
   "metadata": {},
   "outputs": [
    {
     "name": "stdout",
     "output_type": "stream",
     "text": [
      "Grid Search found the following optimal parameters: \n",
      "max_depth: 5\n",
      "max_features: 8\n",
      "n_estimators: 10\n",
      "\n",
      "[[226  13]\n",
      " [ 14  72]]\n",
      "              precision    recall  f1-score   support\n",
      "\n",
      "           0       0.94      0.95      0.94       239\n",
      "           1       0.85      0.84      0.84        86\n",
      "\n",
      "   micro avg       0.92      0.92      0.92       325\n",
      "   macro avg       0.89      0.89      0.89       325\n",
      "weighted avg       0.92      0.92      0.92       325\n",
      "\n",
      "Accuracy score: 0.92\n"
     ]
    },
    {
     "data": {
      "image/png": "[encoded data removed]",
      "text/plain": [
       "<Figure size 504x360 with 2 Axes>"
      ]
     },
     "metadata": {
      "needs_background": "light"
     },
     "output_type": "display_data"
    }
   ],
   "source": [
    "rf_grid_clf = hf.grid_search_classifier(RandomForestClassifier(), param_grid, X_train, X_test, y_train, y_test)"
   ]
  },
  {
   "cell_type": "code",
   "execution_count": 80,
   "metadata": {},
   "outputs": [
    {
     "name": "stdout",
     "output_type": "stream",
     "text": [
      "AUC: 0.9650189744088742\n"
     ]
    },
    {
     "data": {
      "image/png": "[encoded data removed]",
      "text/plain": [
       "<Figure size 720x576 with 1 Axes>"
      ]
     },
     "metadata": {
      "needs_background": "light"
     },
     "output_type": "display_data"
    }
   ],
   "source": [
    "hf.plot_ROC(y_test, X_test, rf_grid_clf)"
   ]
  },
  {
   "cell_type": "markdown",
   "metadata": {},
   "source": [
    "### SVC"
   ]
  },
  {
   "cell_type": "code",
   "execution_count": 57,
   "metadata": {},
   "outputs": [],
   "source": [
    "param_grid = {'kernel': ['linear', 'poly', 'rbf', 'sigmoid'],\n",
    "              'probability': [True],\n",
    "              'C': [.01, .1, 1, 10, 100],\n",
    "              'degree': [2, 3, 4],\n",
    "              'shrinking': [True, False]\n",
    "             }"
   ]
  },
  {
   "cell_type": "code",
   "execution_count": 58,
   "metadata": {},
   "outputs": [
    {
     "name": "stdout",
     "output_type": "stream",
     "text": [
      "Grid Search found the following optimal parameters: \n",
      "C: 0.1\n",
      "degree: 2\n",
      "kernel: 'linear'\n",
      "probability: True\n",
      "shrinking: True\n",
      "\n",
      "[[236  10]\n",
      " [ 14  65]]\n",
      "              precision    recall  f1-score   support\n",
      "\n",
      "           0       0.94      0.96      0.95       246\n",
      "           1       0.87      0.82      0.84        79\n",
      "\n",
      "   micro avg       0.93      0.93      0.93       325\n",
      "   macro avg       0.91      0.89      0.90       325\n",
      "weighted avg       0.93      0.93      0.93       325\n",
      "\n",
      "Accuracy score: 0.93\n"
     ]
    },
    {
     "data": {
      "image/png": "[encoded data removed]",
      "text/plain": [
       "<Figure size 504x360 with 2 Axes>"
      ]
     },
     "metadata": {
      "needs_background": "light"
     },
     "output_type": "display_data"
    }
   ],
   "source": [
    "svc_grid_clf = hf.grid_search_classifier(SVC(), param_grid, X_train, X_test, y_train, y_test)"
   ]
  },
  {
   "cell_type": "code",
   "execution_count": 59,
   "metadata": {},
   "outputs": [
    {
     "name": "stdout",
     "output_type": "stream",
     "text": [
      "AUC: 0.9718534527117423\n"
     ]
    },
    {
     "data": {
      "image/png": "[encoded data removed]",
      "text/plain": [
       "<Figure size 720x576 with 1 Axes>"
      ]
     },
     "metadata": {
      "needs_background": "light"
     },
     "output_type": "display_data"
    }
   ],
   "source": [
    "hf.plot_ROC(y_test, X_test, svc_grid_clf)"
   ]
  },
  {
   "cell_type": "markdown",
   "metadata": {},
   "source": [
    "### XGBoost"
   ]
  },
  {
   "cell_type": "code",
   "execution_count": 60,
   "metadata": {},
   "outputs": [],
   "source": [
    "param_grid = {'learning_rate': [.01, .1],\n",
    "              'max_depth': [3, 5, 10, 15],\n",
    "              'min_child_weight': [2, 5, 10],\n",
    "              'subsample': [0.7, 0.8],\n",
    "              'n_estimators': [100, 250, 500, 1000]\n",
    "             }"
   ]
  },
  {
   "cell_type": "code",
   "execution_count": 61,
   "metadata": {},
   "outputs": [
    {
     "name": "stdout",
     "output_type": "stream",
     "text": [
      "Grid Search found the following optimal parameters: \n",
      "learning_rate: 0.1\n",
      "max_depth: 5\n",
      "min_child_weight: 2\n",
      "n_estimators: 250\n",
      "subsample: 0.8\n",
      "\n",
      "[[229  17]\n",
      " [ 14  65]]\n",
      "              precision    recall  f1-score   support\n",
      "\n",
      "           0       0.94      0.93      0.94       246\n",
      "           1       0.79      0.82      0.81        79\n",
      "\n",
      "   micro avg       0.90      0.90      0.90       325\n",
      "   macro avg       0.87      0.88      0.87       325\n",
      "weighted avg       0.91      0.90      0.91       325\n",
      "\n",
      "Accuracy score: 0.9\n"
     ]
    },
    {
     "data": {
      "image/png": "[encoded data removed]",
      "text/plain": [
       "<Figure size 504x360 with 2 Axes>"
      ]
     },
     "metadata": {
      "needs_background": "light"
     },
     "output_type": "display_data"
    }
   ],
   "source": [
    "xgb_grid_clf = hf.grid_search_classifier(XGBClassifier(), param_grid, X_train, X_test, y_train, y_test)"
   ]
  },
  {
   "cell_type": "code",
   "execution_count": 62,
   "metadata": {},
   "outputs": [
    {
     "name": "stdout",
     "output_type": "stream",
     "text": [
      "AUC: 0.9642379335185758\n"
     ]
    },
    {
     "data": {
      "image/png": "[encoded data removed]",
      "text/plain": [
       "<Figure size 720x576 with 1 Axes>"
      ]
     },
     "metadata": {
      "needs_background": "light"
     },
     "output_type": "display_data"
    }
   ],
   "source": [
    "hf.plot_ROC(y_test, X_test, xgb_grid_clf)"
   ]
  },
  {
   "cell_type": "markdown",
   "metadata": {},
   "source": [
    "## Analysis"
   ]
  },
  {
   "cell_type": "code",
   "execution_count": 81,
   "metadata": {},
   "outputs": [],
   "source": [
    "upper_quartile = final_df['Average Math Proficiency'].quantile(.75)\n",
    "final_df['Average Math Proficiency'] = final_df['Average Math Proficiency'].apply(lambda x: 1 if x >= upper_quartile else 0)\n",
    "X = final_df.drop('Average Math Proficiency', axis=1)"
   ]
  },
  {
   "cell_type": "code",
   "execution_count": 82,
   "metadata": {},
   "outputs": [],
   "source": [
    "predict_df = pd.DataFrame(rf_grid_clf.predict(StandardScaler().fit_transform(X))).set_index(final_df.index)"
   ]
  },
  {
   "cell_type": "code",
   "execution_count": 83,
   "metadata": {},
   "outputs": [
    {
     "data": {
      "text/html": [
       "<div>\n",
       "<style scoped>\n",
       "    .dataframe tbody tr th:only-of-type {\n",
       "        vertical-align: middle;\n",
       "    }\n",
       "\n",
       "    .dataframe tbody tr th {\n",
       "        vertical-align: top;\n",
       "    }\n",
       "\n",
       "    .dataframe thead th {\n",
       "        text-align: right;\n",
       "    }\n",
       "</style>\n",
       "<table border=\"1\" class=\"dataframe\">\n",
       "  <thead>\n",
       "    <tr style=\"text-align: right;\">\n",
       "      <th></th>\n",
       "      <th>Economic Need Index</th>\n",
       "      <th>Student Attendance Rate</th>\n",
       "      <th>Percent of Students Chronically Absent</th>\n",
       "      <th>Rigorous Instruction %</th>\n",
       "      <th>Supportive Environment %</th>\n",
       "      <th>Effective School Leadership %</th>\n",
       "      <th>Strong Family-Community Ties %</th>\n",
       "      <th>Student Achievement Rating</th>\n",
       "      <th>Average Math Proficiency</th>\n",
       "      <th>School Pupil-Teacher Ratio</th>\n",
       "      <th>Predicted_class</th>\n",
       "      <th>Match_type</th>\n",
       "    </tr>\n",
       "    <tr>\n",
       "      <th>Location Code</th>\n",
       "      <th></th>\n",
       "      <th></th>\n",
       "      <th></th>\n",
       "      <th></th>\n",
       "      <th></th>\n",
       "      <th></th>\n",
       "      <th></th>\n",
       "      <th></th>\n",
       "      <th></th>\n",
       "      <th></th>\n",
       "      <th></th>\n",
       "      <th></th>\n",
       "    </tr>\n",
       "  </thead>\n",
       "  <tbody>\n",
       "    <tr>\n",
       "      <th>01M015</th>\n",
       "      <td>0.919</td>\n",
       "      <td>0.94</td>\n",
       "      <td>0.18</td>\n",
       "      <td>0.89</td>\n",
       "      <td>0.86</td>\n",
       "      <td>0.91</td>\n",
       "      <td>0.85</td>\n",
       "      <td>2.0</td>\n",
       "      <td>0</td>\n",
       "      <td>9.2</td>\n",
       "      <td>0</td>\n",
       "      <td>0</td>\n",
       "    </tr>\n",
       "    <tr>\n",
       "      <th>01M019</th>\n",
       "      <td>0.641</td>\n",
       "      <td>0.92</td>\n",
       "      <td>0.30</td>\n",
       "      <td>0.96</td>\n",
       "      <td>0.97</td>\n",
       "      <td>0.90</td>\n",
       "      <td>0.86</td>\n",
       "      <td>4.0</td>\n",
       "      <td>1</td>\n",
       "      <td>7.0</td>\n",
       "      <td>1</td>\n",
       "      <td>0</td>\n",
       "    </tr>\n",
       "    <tr>\n",
       "      <th>01M020</th>\n",
       "      <td>0.744</td>\n",
       "      <td>0.94</td>\n",
       "      <td>0.20</td>\n",
       "      <td>0.87</td>\n",
       "      <td>0.82</td>\n",
       "      <td>0.61</td>\n",
       "      <td>0.80</td>\n",
       "      <td>2.0</td>\n",
       "      <td>0</td>\n",
       "      <td>13.3</td>\n",
       "      <td>0</td>\n",
       "      <td>0</td>\n",
       "    </tr>\n",
       "    <tr>\n",
       "      <th>01M034</th>\n",
       "      <td>0.860</td>\n",
       "      <td>0.92</td>\n",
       "      <td>0.28</td>\n",
       "      <td>0.85</td>\n",
       "      <td>0.82</td>\n",
       "      <td>0.73</td>\n",
       "      <td>0.89</td>\n",
       "      <td>4.0</td>\n",
       "      <td>0</td>\n",
       "      <td>10.9</td>\n",
       "      <td>0</td>\n",
       "      <td>0</td>\n",
       "    </tr>\n",
       "    <tr>\n",
       "      <th>01M063</th>\n",
       "      <td>0.730</td>\n",
       "      <td>0.93</td>\n",
       "      <td>0.23</td>\n",
       "      <td>0.90</td>\n",
       "      <td>0.87</td>\n",
       "      <td>0.81</td>\n",
       "      <td>0.89</td>\n",
       "      <td>3.0</td>\n",
       "      <td>0</td>\n",
       "      <td>10.6</td>\n",
       "      <td>0</td>\n",
       "      <td>0</td>\n",
       "    </tr>\n",
       "  </tbody>\n",
       "</table>\n",
       "</div>"
      ],
      "text/plain": [
       "               Economic Need Index  Student Attendance Rate  \\\n",
       "Location Code                                                 \n",
       "01M015                       0.919                     0.94   \n",
       "01M019                       0.641                     0.92   \n",
       "01M020                       0.744                     0.94   \n",
       "01M034                       0.860                     0.92   \n",
       "01M063                       0.730                     0.93   \n",
       "\n",
       "               Percent of Students Chronically Absent  Rigorous Instruction %  \\\n",
       "Location Code                                                                   \n",
       "01M015                                           0.18                    0.89   \n",
       "01M019                                           0.30                    0.96   \n",
       "01M020                                           0.20                    0.87   \n",
       "01M034                                           0.28                    0.85   \n",
       "01M063                                           0.23                    0.90   \n",
       "\n",
       "               Supportive Environment %  Effective School Leadership %  \\\n",
       "Location Code                                                            \n",
       "01M015                             0.86                           0.91   \n",
       "01M019                             0.97                           0.90   \n",
       "01M020                             0.82                           0.61   \n",
       "01M034                             0.82                           0.73   \n",
       "01M063                             0.87                           0.81   \n",
       "\n",
       "               Strong Family-Community Ties %  Student Achievement Rating  \\\n",
       "Location Code                                                               \n",
       "01M015                                   0.85                         2.0   \n",
       "01M019                                   0.86                         4.0   \n",
       "01M020                                   0.80                         2.0   \n",
       "01M034                                   0.89                         4.0   \n",
       "01M063                                   0.89                         3.0   \n",
       "\n",
       "               Average Math Proficiency  School Pupil-Teacher Ratio  \\\n",
       "Location Code                                                         \n",
       "01M015                                0                         9.2   \n",
       "01M019                                1                         7.0   \n",
       "01M020                                0                        13.3   \n",
       "01M034                                0                        10.9   \n",
       "01M063                                0                        10.6   \n",
       "\n",
       "               Predicted_class  Match_type  \n",
       "Location Code                               \n",
       "01M015                       0           0  \n",
       "01M019                       1           0  \n",
       "01M020                       0           0  \n",
       "01M034                       0           0  \n",
       "01M063                       0           0  "
      ]
     },
     "execution_count": 83,
     "metadata": {},
     "output_type": "execute_result"
    }
   ],
   "source": [
    "final_predict_df = pd.concat([final_df, predict_df], axis=1).rename({0: 'Predicted_class'}, axis=1)\n",
    "final_predict_df['Match_type'] = final_predict_df['Average Math Proficiency'] - final_predict_df.Predicted_class\n",
    "final_predict_df.head()"
   ]
  },
  {
   "cell_type": "code",
   "execution_count": 84,
   "metadata": {},
   "outputs": [
    {
     "data": {
      "text/plain": [
       "30"
      ]
     },
     "execution_count": 84,
     "metadata": {},
     "output_type": "execute_result"
    }
   ],
   "source": [
    "under_performing_schools = final_predict_df[final_predict_df.Match_type == -1]\n",
    "len(under_performing_schools)"
   ]
  },
  {
   "cell_type": "code",
   "execution_count": 85,
   "metadata": {},
   "outputs": [],
   "source": [
    "race_under_schools = under_performing_schools.join(race_df['Percent Black / Hispanic'])"
   ]
  },
  {
   "cell_type": "code",
   "execution_count": 86,
   "metadata": {},
   "outputs": [
    {
     "data": {
      "text/html": [
       "<div>\n",
       "<style scoped>\n",
       "    .dataframe tbody tr th:only-of-type {\n",
       "        vertical-align: middle;\n",
       "    }\n",
       "\n",
       "    .dataframe tbody tr th {\n",
       "        vertical-align: top;\n",
       "    }\n",
       "\n",
       "    .dataframe thead th {\n",
       "        text-align: right;\n",
       "    }\n",
       "</style>\n",
       "<table border=\"1\" class=\"dataframe\">\n",
       "  <thead>\n",
       "    <tr style=\"text-align: right;\">\n",
       "      <th></th>\n",
       "      <th>Economic Need Index</th>\n",
       "      <th>Student Attendance Rate</th>\n",
       "      <th>Percent of Students Chronically Absent</th>\n",
       "      <th>Rigorous Instruction %</th>\n",
       "      <th>Supportive Environment %</th>\n",
       "      <th>Effective School Leadership %</th>\n",
       "      <th>Strong Family-Community Ties %</th>\n",
       "      <th>Student Achievement Rating</th>\n",
       "      <th>Average Math Proficiency</th>\n",
       "      <th>School Pupil-Teacher Ratio</th>\n",
       "      <th>Predicted_class</th>\n",
       "      <th>Match_type</th>\n",
       "      <th>Percent Black / Hispanic</th>\n",
       "    </tr>\n",
       "    <tr>\n",
       "      <th>Location Code</th>\n",
       "      <th></th>\n",
       "      <th></th>\n",
       "      <th></th>\n",
       "      <th></th>\n",
       "      <th></th>\n",
       "      <th></th>\n",
       "      <th></th>\n",
       "      <th></th>\n",
       "      <th></th>\n",
       "      <th></th>\n",
       "      <th></th>\n",
       "      <th></th>\n",
       "      <th></th>\n",
       "    </tr>\n",
       "  </thead>\n",
       "  <tbody>\n",
       "    <tr>\n",
       "      <th>11X180</th>\n",
       "      <td>0.504</td>\n",
       "      <td>0.95</td>\n",
       "      <td>0.13</td>\n",
       "      <td>0.87</td>\n",
       "      <td>0.86</td>\n",
       "      <td>0.90</td>\n",
       "      <td>0.94</td>\n",
       "      <td>3.0</td>\n",
       "      <td>0</td>\n",
       "      <td>16.5</td>\n",
       "      <td>1</td>\n",
       "      <td>-1</td>\n",
       "      <td>0.92</td>\n",
       "    </tr>\n",
       "    <tr>\n",
       "      <th>24Q016</th>\n",
       "      <td>0.768</td>\n",
       "      <td>0.96</td>\n",
       "      <td>0.09</td>\n",
       "      <td>0.92</td>\n",
       "      <td>0.94</td>\n",
       "      <td>0.86</td>\n",
       "      <td>0.86</td>\n",
       "      <td>3.0</td>\n",
       "      <td>0</td>\n",
       "      <td>16.0</td>\n",
       "      <td>1</td>\n",
       "      <td>-1</td>\n",
       "      <td>0.91</td>\n",
       "    </tr>\n",
       "    <tr>\n",
       "      <th>24Q089</th>\n",
       "      <td>0.708</td>\n",
       "      <td>0.96</td>\n",
       "      <td>0.06</td>\n",
       "      <td>0.84</td>\n",
       "      <td>0.87</td>\n",
       "      <td>0.76</td>\n",
       "      <td>0.79</td>\n",
       "      <td>4.0</td>\n",
       "      <td>0</td>\n",
       "      <td>16.6</td>\n",
       "      <td>1</td>\n",
       "      <td>-1</td>\n",
       "      <td>0.77</td>\n",
       "    </tr>\n",
       "    <tr>\n",
       "      <th>27Q282</th>\n",
       "      <td>0.599</td>\n",
       "      <td>0.98</td>\n",
       "      <td>0.01</td>\n",
       "      <td>0.78</td>\n",
       "      <td>0.87</td>\n",
       "      <td>0.66</td>\n",
       "      <td>0.83</td>\n",
       "      <td>3.0</td>\n",
       "      <td>0</td>\n",
       "      <td>18.4</td>\n",
       "      <td>1</td>\n",
       "      <td>-1</td>\n",
       "      <td>0.92</td>\n",
       "    </tr>\n",
       "    <tr>\n",
       "      <th>31R065</th>\n",
       "      <td>0.503</td>\n",
       "      <td>0.95</td>\n",
       "      <td>0.12</td>\n",
       "      <td>0.98</td>\n",
       "      <td>0.98</td>\n",
       "      <td>0.90</td>\n",
       "      <td>0.89</td>\n",
       "      <td>3.0</td>\n",
       "      <td>0</td>\n",
       "      <td>14.5</td>\n",
       "      <td>1</td>\n",
       "      <td>-1</td>\n",
       "      <td>0.63</td>\n",
       "    </tr>\n",
       "  </tbody>\n",
       "</table>\n",
       "</div>"
      ],
      "text/plain": [
       "               Economic Need Index  Student Attendance Rate  \\\n",
       "Location Code                                                 \n",
       "11X180                       0.504                     0.95   \n",
       "24Q016                       0.768                     0.96   \n",
       "24Q089                       0.708                     0.96   \n",
       "27Q282                       0.599                     0.98   \n",
       "31R065                       0.503                     0.95   \n",
       "\n",
       "               Percent of Students Chronically Absent  Rigorous Instruction %  \\\n",
       "Location Code                                                                   \n",
       "11X180                                           0.13                    0.87   \n",
       "24Q016                                           0.09                    0.92   \n",
       "24Q089                                           0.06                    0.84   \n",
       "27Q282                                           0.01                    0.78   \n",
       "31R065                                           0.12                    0.98   \n",
       "\n",
       "               Supportive Environment %  Effective School Leadership %  \\\n",
       "Location Code                                                            \n",
       "11X180                             0.86                           0.90   \n",
       "24Q016                             0.94                           0.86   \n",
       "24Q089                             0.87                           0.76   \n",
       "27Q282                             0.87                           0.66   \n",
       "31R065                             0.98                           0.90   \n",
       "\n",
       "               Strong Family-Community Ties %  Student Achievement Rating  \\\n",
       "Location Code                                                               \n",
       "11X180                                   0.94                         3.0   \n",
       "24Q016                                   0.86                         3.0   \n",
       "24Q089                                   0.79                         4.0   \n",
       "27Q282                                   0.83                         3.0   \n",
       "31R065                                   0.89                         3.0   \n",
       "\n",
       "               Average Math Proficiency  School Pupil-Teacher Ratio  \\\n",
       "Location Code                                                         \n",
       "11X180                                0                        16.5   \n",
       "24Q016                                0                        16.0   \n",
       "24Q089                                0                        16.6   \n",
       "27Q282                                0                        18.4   \n",
       "31R065                                0                        14.5   \n",
       "\n",
       "               Predicted_class  Match_type  Percent Black / Hispanic  \n",
       "Location Code                                                         \n",
       "11X180                       1          -1                      0.92  \n",
       "24Q016                       1          -1                      0.91  \n",
       "24Q089                       1          -1                      0.77  \n",
       "27Q282                       1          -1                      0.92  \n",
       "31R065                       1          -1                      0.63  "
      ]
     },
     "execution_count": 86,
     "metadata": {},
     "output_type": "execute_result"
    }
   ],
   "source": [
    "schools_to_invest_in = race_under_schools[race_under_schools['Percent Black / Hispanic'] > 0.5][race_under_schools['Economic Need Index'] > 0.5]\n",
    "schools_to_invest_in"
   ]
  },
  {
   "cell_type": "code",
   "execution_count": 87,
   "metadata": {},
   "outputs": [
    {
     "data": {
      "text/html": [
       "<div>\n",
       "<style scoped>\n",
       "    .dataframe tbody tr th:only-of-type {\n",
       "        vertical-align: middle;\n",
       "    }\n",
       "\n",
       "    .dataframe tbody tr th {\n",
       "        vertical-align: top;\n",
       "    }\n",
       "\n",
       "    .dataframe thead th {\n",
       "        text-align: right;\n",
       "    }\n",
       "</style>\n",
       "<table border=\"1\" class=\"dataframe\">\n",
       "  <thead>\n",
       "    <tr style=\"text-align: right;\">\n",
       "      <th></th>\n",
       "      <th>School Name</th>\n",
       "      <th>Economic Need Index</th>\n",
       "      <th>Percent Black / Hispanic</th>\n",
       "    </tr>\n",
       "    <tr>\n",
       "      <th>Location Code</th>\n",
       "      <th></th>\n",
       "      <th></th>\n",
       "      <th></th>\n",
       "    </tr>\n",
       "  </thead>\n",
       "  <tbody>\n",
       "    <tr>\n",
       "      <th>11X180</th>\n",
       "      <td>M.S. 180 DR. DANIEL HALE WILLIAMS</td>\n",
       "      <td>0.504</td>\n",
       "      <td>0.92</td>\n",
       "    </tr>\n",
       "    <tr>\n",
       "      <th>24Q016</th>\n",
       "      <td>P.S. Q016 THE NANCY DEBENEDITTIS SCHOOL</td>\n",
       "      <td>0.768</td>\n",
       "      <td>0.91</td>\n",
       "    </tr>\n",
       "    <tr>\n",
       "      <th>24Q089</th>\n",
       "      <td>P.S. 089 ELMHURST</td>\n",
       "      <td>0.708</td>\n",
       "      <td>0.77</td>\n",
       "    </tr>\n",
       "    <tr>\n",
       "      <th>27Q282</th>\n",
       "      <td>KNOWLEDGE AND POWER PREPARATORY ACADEMY VI</td>\n",
       "      <td>0.599</td>\n",
       "      <td>0.92</td>\n",
       "    </tr>\n",
       "    <tr>\n",
       "      <th>31R065</th>\n",
       "      <td>P.S. 65 THE ACADEMY OF INNOVATIVE LEARNING</td>\n",
       "      <td>0.503</td>\n",
       "      <td>0.63</td>\n",
       "    </tr>\n",
       "  </tbody>\n",
       "</table>\n",
       "</div>"
      ],
      "text/plain": [
       "                                              School Name  \\\n",
       "Location Code                                               \n",
       "11X180                  M.S. 180 DR. DANIEL HALE WILLIAMS   \n",
       "24Q016            P.S. Q016 THE NANCY DEBENEDITTIS SCHOOL   \n",
       "24Q089                                  P.S. 089 ELMHURST   \n",
       "27Q282         KNOWLEDGE AND POWER PREPARATORY ACADEMY VI   \n",
       "31R065         P.S. 65 THE ACADEMY OF INNOVATIVE LEARNING   \n",
       "\n",
       "               Economic Need Index  Percent Black / Hispanic  \n",
       "Location Code                                                 \n",
       "11X180                       0.504                      0.92  \n",
       "24Q016                       0.768                      0.91  \n",
       "24Q089                       0.708                      0.77  \n",
       "27Q282                       0.599                      0.92  \n",
       "31R065                       0.503                      0.63  "
      ]
     },
     "execution_count": 87,
     "metadata": {},
     "output_type": "execute_result"
    }
   ],
   "source": [
    "initial_df[['School Name', 'Location Code']].join(schools_to_invest_in[['Economic Need Index', \n",
    "                                                                        'Percent Black / Hispanic']], \n",
    "                                                  on='Location Code',\n",
    "                                                  how='right').set_index('Location Code')"
   ]
  },
  {
   "cell_type": "code",
   "execution_count": null,
   "metadata": {},
   "outputs": [],
   "source": []
  },
  {
   "cell_type": "code",
   "execution_count": null,
   "metadata": {},
   "outputs": [],
   "source": []
  },
  {
   "cell_type": "markdown",
   "metadata": {},
   "source": [
    "t-test economic need for over-performing and under performing schools"
   ]
  },
  {
   "cell_type": "markdown",
   "metadata": {},
   "source": [
    "logistic regression"
   ]
  },
  {
   "cell_type": "markdown",
   "metadata": {},
   "source": [
    "baseline model"
   ]
  },
  {
   "cell_type": "code",
   "execution_count": null,
   "metadata": {},
   "outputs": [],
   "source": []
  },
  {
   "cell_type": "code",
   "execution_count": null,
   "metadata": {},
   "outputs": [],
   "source": []
  },
  {
   "cell_type": "code",
   "execution_count": null,
   "metadata": {},
   "outputs": [],
   "source": []
  },
  {
   "cell_type": "code",
   "execution_count": null,
   "metadata": {},
   "outputs": [],
   "source": []
  },
  {
   "cell_type": "code",
   "execution_count": null,
   "metadata": {},
   "outputs": [],
   "source": []
  },
  {
   "cell_type": "code",
   "execution_count": null,
   "metadata": {},
   "outputs": [],
   "source": []
  },
  {
   "cell_type": "code",
   "execution_count": null,
   "metadata": {},
   "outputs": [],
   "source": []
  },
  {
   "cell_type": "code",
   "execution_count": null,
   "metadata": {},
   "outputs": [],
   "source": []
  },
  {
   "cell_type": "code",
   "execution_count": null,
   "metadata": {},
   "outputs": [],
   "source": []
  },
  {
   "cell_type": "code",
   "execution_count": null,
   "metadata": {},
   "outputs": [],
   "source": []
  },
  {
   "cell_type": "code",
   "execution_count": null,
   "metadata": {},
   "outputs": [],
   "source": []
  },
  {
   "cell_type": "code",
   "execution_count": null,
   "metadata": {},
   "outputs": [],
   "source": []
  },
  {
   "cell_type": "markdown",
   "metadata": {},
   "source": [
    "# Working Zone"
   ]
  },
  {
   "cell_type": "code",
   "execution_count": null,
   "metadata": {},
   "outputs": [],
   "source": [
    "shsat_df = pd.read_csv('D5 SHSAT Registrations and Testers.csv')\n",
    "print(len(shsat_df))\n",
    "shsat_df.head()"
   ]
  },
  {
   "cell_type": "code",
   "execution_count": null,
   "metadata": {},
   "outputs": [],
   "source": [
    "shsat_df['Enroll_register'] = round(shsat_df['Number of students who registered for the SHSAT'] / shsat_df['Enrollment on 10/31'], 4)\n",
    "shsat_df['Enroll_took'] = round(shsat_df['Number of students who took the SHSAT'] / shsat_df['Enrollment on 10/31'], 4)\n",
    "shsat_df\n"
   ]
  },
  {
   "cell_type": "code",
   "execution_count": null,
   "metadata": {},
   "outputs": [],
   "source": [
    "new_df = pd.concat([schools_df, pd.get_dummies(schools_df)], axis=1)\n",
    "new_df.head()"
   ]
  },
  {
   "cell_type": "code",
   "execution_count": null,
   "metadata": {},
   "outputs": [],
   "source": [
    "schools_df['Community School?'] = schools_df['Community School?'].apply(lambda x: 1 if x=='Yes' else 0)"
   ]
  },
  {
   "cell_type": "markdown",
   "metadata": {},
   "source": [
    "## Model Formation - No Student-Teacher Ratio"
   ]
  },
  {
   "cell_type": "code",
   "execution_count": null,
   "metadata": {},
   "outputs": [],
   "source": [
    "no_ratio_df = final_df.drop('School Pupil-Teacher Ratio', axis=1)"
   ]
  },
  {
   "cell_type": "code",
   "execution_count": null,
   "metadata": {},
   "outputs": [],
   "source": [
    "upper_quartile = no_ratio_df['Average Math Proficiency'].quantile(.75)\n",
    "y = no_ratio_df['Average Math Proficiency'].apply(lambda x: 1 if x >= upper_quartile else 0)\n",
    "X = no_ratio_df.drop('Average Math Proficiency', axis=1)\n",
    "features = X.columns"
   ]
  },
  {
   "cell_type": "code",
   "execution_count": null,
   "metadata": {},
   "outputs": [],
   "source": [
    "X = StandardScaler().fit_transform(X.astype({'Grade_range': 'float64'}))"
   ]
  },
  {
   "cell_type": "code",
   "execution_count": null,
   "metadata": {},
   "outputs": [],
   "source": [
    "X_train, X_test, y_train, y_test = train_test_split(X,y, test_size = 0.3)"
   ]
  },
  {
   "cell_type": "markdown",
   "metadata": {},
   "source": [
    "### KNN"
   ]
  },
  {
   "cell_type": "code",
   "execution_count": null,
   "metadata": {},
   "outputs": [],
   "source": [
    "k_range = range(1, 40)\n",
    "k_scores = []\n",
    "for k in k_range:\n",
    "    knn = KNeighborsClassifier(n_neighbors=k)\n",
    "    knn.fit(X_train, y_train)\n",
    "    y_pred = knn.predict(X_test)\n",
    "    score = f1_score(y_test, y_pred, average='weighted')\n",
    "    k_scores.append(score)\n",
    "best_k_score = {'k_score': k_scores.index(max(k_scores))+1, 'f1_score': max(k_scores)}\n",
    "print(best_k_score)"
   ]
  },
  {
   "cell_type": "markdown",
   "metadata": {},
   "source": [
    "### CART"
   ]
  },
  {
   "cell_type": "code",
   "execution_count": null,
   "metadata": {},
   "outputs": [],
   "source": [
    "depth_range = range(1,40)\n",
    "val = []\n",
    "for depth in depth_range:\n",
    "    ctree = DecisionTreeClassifier(max_depth = depth)\n",
    "    depth_score = cross_val_score(ctree, X, y, cv=3)\n",
    "    val.append(depth_score.mean())\n",
    "best_dt_score = {'depth_score': val.index(max(val))+1, 'cross_val_score': max(val)}\n",
    "print(best_dt_score)"
   ]
  },
  {
   "cell_type": "markdown",
   "metadata": {},
   "source": [
    "### SVC"
   ]
  },
  {
   "cell_type": "code",
   "execution_count": null,
   "metadata": {},
   "outputs": [],
   "source": [
    "svm_types = ['linear', 'poly', 'rbf', 'sigmoid']"
   ]
  },
  {
   "cell_type": "code",
   "execution_count": null,
   "metadata": {},
   "outputs": [],
   "source": [
    "warnings.filterwarnings('ignore')\n",
    "svm_scores = []\n",
    "for svm in svm_types:\n",
    "    svclassifier = SVC(kernel=svm)  \n",
    "    svclassifier.fit(X_train, y_train) \n",
    "    y_pred = svclassifier.predict(X_test)\n",
    "    svm_scores.append(f1_score(y_test, y_pred, average='weighted'))\n",
    "best_svm_score = {'svm_type': svm_types[svm_scores.index(max(svm_scores))], 'f1_score': max(svm_scores)}\n",
    "print(best_svm_score)"
   ]
  },
  {
   "cell_type": "markdown",
   "metadata": {},
   "source": [
    "### XGBoost"
   ]
  },
  {
   "cell_type": "code",
   "execution_count": null,
   "metadata": {},
   "outputs": [],
   "source": [
    "param_grid = {\n",
    "    \"learning_rate\": [.01],\n",
    "    'max_depth': [5, 10],\n",
    "    'min_child_weight': [2, 5, 10],\n",
    "    'subsample': [0.7],\n",
    "    'n_estimators': [5, 30, 100, 250, 500]\n",
    "}"
   ]
  },
  {
   "cell_type": "code",
   "execution_count": null,
   "metadata": {},
   "outputs": [],
   "source": [
    "clf = XGBClassifier()\n",
    "grid_clf = GridSearchCV(clf, param_grid, scoring='f1_weighted', cv=None, n_jobs=1)\n",
    "grid_clf.fit(X_train, y_train)\n",
    "\n",
    "best_parameters = grid_clf.best_params_\n",
    "\n",
    "print(\"Grid Search found the following optimal parameters: \")\n",
    "for param_name in sorted(best_parameters.keys()):\n",
    "    print(\"%s: %r\" % (param_name, best_parameters[param_name]))\n",
    "\n",
    "training_preds = grid_clf.predict(X_train)\n",
    "val_preds = grid_clf.predict(X_test)\n",
    "training_f1_score = f1_score(y_train, training_preds)\n",
    "val_f1_score = f1_score(y_test, val_preds)\n",
    "\n",
    "print(\"\")\n",
    "print(\"Training f1_score: {:.4}%\".format(training_f1_score * 100))\n",
    "print(\"Validation f1_score: {:.4}%\".format(val_f1_score * 100))"
   ]
  },
  {
   "cell_type": "markdown",
   "metadata": {},
   "source": [
    "### CART"
   ]
  },
  {
   "cell_type": "code",
   "execution_count": null,
   "metadata": {},
   "outputs": [],
   "source": [
    "depth_range = range(1,40)\n",
    "val = []\n",
    "for depth in depth_range:\n",
    "    ctree = DecisionTreeClassifier(max_depth = depth)\n",
    "    depth_score = cross_val_score(ctree, X, y, cv=3)\n",
    "    val.append(depth_score.mean())\n",
    "best_dt_score = {'depth_score': val.index(max(val))+1, 'cross_val_score': max(val)}\n",
    "print(best_dt_score)"
   ]
  },
  {
   "cell_type": "markdown",
   "metadata": {},
   "source": [
    "### KNN"
   ]
  },
  {
   "cell_type": "code",
   "execution_count": null,
   "metadata": {},
   "outputs": [],
   "source": [
    "k_range = range(1, 40)\n",
    "k_scores = []\n",
    "for k in k_range:\n",
    "    knn = KNeighborsClassifier(n_neighbors=k)\n",
    "    knn.fit(X_train, y_train)\n",
    "    y_pred = knn.predict(X_test)\n",
    "    score = f1_score(y_test, y_pred, average='weighted')\n",
    "    k_scores.append( score)\n",
    "best_k_score = {'k_score': k_scores.index(max(k_scores))+1, 'f1_score': max(k_scores)}\n",
    "print(best_k_score)"
   ]
  },
  {
   "cell_type": "markdown",
   "metadata": {},
   "source": [
    "### SVC"
   ]
  },
  {
   "cell_type": "code",
   "execution_count": null,
   "metadata": {},
   "outputs": [],
   "source": [
    "warnings.filterwarnings('ignore')\n",
    "svm_scores = []\n",
    "for svm in svm_types:\n",
    "    svclassifier = SVC(kernel=svm)  \n",
    "    svclassifier.fit(X_train, y_train) \n",
    "    y_pred = svclassifier.predict(X_test)\n",
    "    svm_scores.append(f1_score(y_test, y_pred, average='weighted'))\n",
    "best_svm_score = {'svm_type': svm_types[svm_scores.index(max(svm_scores))], 'f1_score': max(svm_scores)}\n",
    "print(best_svm_score)"
   ]
  },
  {
   "cell_type": "code",
   "execution_count": 35,
   "metadata": {},
   "outputs": [
    {
     "name": "stdout",
     "output_type": "stream",
     "text": [
      "Grid Search found the following optimal parameters: \n",
      "max_depth: 10\n",
      "max_features: 2\n",
      "n_estimators: 100\n",
      "[[234  16]\n",
      " [ 12  63]]\n",
      "              precision    recall  f1-score   support\n",
      "\n",
      "           0       0.95      0.94      0.94       250\n",
      "           1       0.80      0.84      0.82        75\n",
      "\n",
      "   micro avg       0.91      0.91      0.91       325\n",
      "   macro avg       0.87      0.89      0.88       325\n",
      "weighted avg       0.92      0.91      0.91       325\n",
      "\n",
      "Accuracy score: 0.91\n"
     ]
    },
    {
     "data": {
      "image/png": "[encoded data removed]",
      "text/plain": [
       "<Figure size 504x360 with 2 Axes>"
      ]
     },
     "metadata": {
      "needs_background": "light"
     },
     "output_type": "display_data"
    }
   ],
   "source": [
    "# clf = RandomForestClassifier()\n",
    "# grid_clf = GridSearchCV(clf, param_grid, scoring='f1_weighted')\n",
    "# grid_clf.fit(X_train, y_train)\n",
    "\n",
    "# best_parameters = grid_clf.best_params_\n",
    "\n",
    "# print(\"Grid Search found the following optimal parameters: \")\n",
    "# for param_name in sorted(best_parameters.keys()):\n",
    "#     print(\"%s: %r\" % (param_name, best_parameters[param_name]))\n",
    "\n",
    "# y_pred = grid_clf.predict(X_test)\n",
    "\n",
    "# print(confusion_matrix(y_test, y_pred))\n",
    "# print(classification_report(y_test, y_pred))\n",
    "# print('Accuracy score:', round(accuracy_score(y_test, y_pred),2))\n",
    "\n",
    "# cm = confusion_matrix(y_test, y_pred)\n",
    "# df_cm = pd.DataFrame(cm.astype('float') / cm.sum(axis=1)[:, np.newaxis],\n",
    "#                      index =['F','T'], \n",
    "#                      columns=['F','T'])\n",
    "# plt.figure(figsize = (7,5))\n",
    "# sns.heatmap(df_cm, annot=True, cmap='Greens')\n",
    "# plt.xlabel('Pred Val')\n",
    "# plt.ylabel('True Val')\n",
    "# plt.show()"
   ]
  },
  {
   "cell_type": "code",
   "execution_count": 37,
   "metadata": {},
   "outputs": [
    {
     "name": "stdout",
     "output_type": "stream",
     "text": [
      "Grid Search found the following optimal parameters: \n",
      "C: 1\n",
      "degree: 2\n",
      "kernel: 'linear'\n",
      "shrinking: True\n",
      "[[237  13]\n",
      " [ 13  62]]\n",
      "              precision    recall  f1-score   support\n",
      "\n",
      "           0       0.95      0.95      0.95       250\n",
      "           1       0.83      0.83      0.83        75\n",
      "\n",
      "   micro avg       0.92      0.92      0.92       325\n",
      "   macro avg       0.89      0.89      0.89       325\n",
      "weighted avg       0.92      0.92      0.92       325\n",
      "\n",
      "Accuracy score: 0.92\n"
     ]
    },
    {
     "data": {
      "image/png": "[encoded data removed]",
      "text/plain": [
       "<Figure size 504x360 with 2 Axes>"
      ]
     },
     "metadata": {
      "needs_background": "light"
     },
     "output_type": "display_data"
    }
   ],
   "source": [
    "clf = SVC()\n",
    "grid_clf = GridSearchCV(clf, param_grid, scoring='f1_weighted')\n",
    "grid_clf.fit(X_train, y_train)\n",
    "\n",
    "best_parameters = grid_clf.best_params_\n",
    "\n",
    "print(\"Grid Search found the following optimal parameters: \")\n",
    "for param_name in sorted(best_parameters.keys()):\n",
    "    print(\"%s: %r\" % (param_name, best_parameters[param_name]))\n",
    "\n",
    "y_pred = grid_clf.predict(X_test)\n",
    "\n",
    "print(confusion_matrix(y_test, y_pred))\n",
    "print(classification_report(y_test, y_pred))\n",
    "print('Accuracy score:', round(accuracy_score(y_test, y_pred),2))\n",
    "\n",
    "cm = confusion_matrix(y_test, y_pred)\n",
    "df_cm = pd.DataFrame(cm.astype('float') / cm.sum(axis=1)[:, np.newaxis],\n",
    "                     index =['F','T'], \n",
    "                     columns=['F','T'])\n",
    "plt.figure(figsize = (7,5))\n",
    "sns.heatmap(df_cm, annot=True, cmap='Greens')\n",
    "plt.xlabel('Pred Val')\n",
    "plt.ylabel('True Val')\n",
    "plt.show()"
   ]
  },
  {
   "cell_type": "code",
   "execution_count": 39,
   "metadata": {},
   "outputs": [
    {
     "name": "stdout",
     "output_type": "stream",
     "text": [
      "Grid Search found the following optimal parameters: \n",
      "learning_rate: 0.1\n",
      "max_depth: 3\n",
      "min_child_weight: 2\n",
      "n_estimators: 100\n",
      "subsample: 0.7\n",
      "[[231  19]\n",
      " [ 12  63]]\n",
      "              precision    recall  f1-score   support\n",
      "\n",
      "           0       0.95      0.92      0.94       250\n",
      "           1       0.77      0.84      0.80        75\n",
      "\n",
      "   micro avg       0.90      0.90      0.90       325\n",
      "   macro avg       0.86      0.88      0.87       325\n",
      "weighted avg       0.91      0.90      0.91       325\n",
      "\n",
      "Accuracy score: 0.9\n"
     ]
    },
    {
     "data": {
      "image/png": "[encoded data removed]",
      "text/plain": [
       "<Figure size 504x360 with 2 Axes>"
      ]
     },
     "metadata": {
      "needs_background": "light"
     },
     "output_type": "display_data"
    }
   ],
   "source": [
    "clf = XGBClassifier()\n",
    "grid_clf = GridSearchCV(clf, param_grid, scoring='f1_weighted', cv=None, n_jobs=1)\n",
    "grid_clf.fit(X_train, y_train)\n",
    "\n",
    "best_parameters = grid_clf.best_params_\n",
    "\n",
    "print(\"Grid Search found the following optimal parameters: \")\n",
    "for param_name in sorted(best_parameters.keys()):\n",
    "    print(\"%s: %r\" % (param_name, best_parameters[param_name]))\n",
    "\n",
    "y_pred = grid_clf.predict(X_test)\n",
    "\n",
    "print(confusion_matrix(y_test, y_pred))\n",
    "print(classification_report(y_test, y_pred))\n",
    "print('Accuracy score:', round(accuracy_score(y_test, y_pred),2))\n",
    "\n",
    "cm = confusion_matrix(y_test, y_pred)\n",
    "df_cm = pd.DataFrame(cm.astype('float') / cm.sum(axis=1)[:, np.newaxis],\n",
    "                     index =['F','T'], \n",
    "                     columns=['F','T'])\n",
    "plt.figure(figsize = (7,5))\n",
    "sns.heatmap(df_cm, annot=True, cmap='Greens')\n",
    "plt.xlabel('Pred Val')\n",
    "plt.ylabel('True Val')\n",
    "plt.show()"
   ]
  },
  {
   "cell_type": "code",
   "execution_count": 26,
   "metadata": {},
   "outputs": [
    {
     "data": {
      "text/html": [
       "<div>\n",
       "<style scoped>\n",
       "    .dataframe tbody tr th:only-of-type {\n",
       "        vertical-align: middle;\n",
       "    }\n",
       "\n",
       "    .dataframe tbody tr th {\n",
       "        vertical-align: top;\n",
       "    }\n",
       "\n",
       "    .dataframe thead th {\n",
       "        text-align: right;\n",
       "    }\n",
       "</style>\n",
       "<table border=\"1\" class=\"dataframe\">\n",
       "  <thead>\n",
       "    <tr style=\"text-align: right;\">\n",
       "      <th></th>\n",
       "      <th>Economic Need Index</th>\n",
       "      <th>Student Attendance Rate</th>\n",
       "      <th>Percent of Students Chronically Absent</th>\n",
       "      <th>Rigorous Instruction %</th>\n",
       "      <th>Strong Family-Community Ties %</th>\n",
       "      <th>Student Achievement Rating</th>\n",
       "      <th>Average Math Proficiency</th>\n",
       "      <th>Grade_range</th>\n",
       "      <th>School Pupil-Teacher Ratio</th>\n",
       "    </tr>\n",
       "    <tr>\n",
       "      <th>Location Code</th>\n",
       "      <th></th>\n",
       "      <th></th>\n",
       "      <th></th>\n",
       "      <th></th>\n",
       "      <th></th>\n",
       "      <th></th>\n",
       "      <th></th>\n",
       "      <th></th>\n",
       "      <th></th>\n",
       "    </tr>\n",
       "  </thead>\n",
       "  <tbody>\n",
       "    <tr>\n",
       "      <th>01M015</th>\n",
       "      <td>0.919</td>\n",
       "      <td>0.94</td>\n",
       "      <td>0.18</td>\n",
       "      <td>0.89</td>\n",
       "      <td>0.85</td>\n",
       "      <td>2.0</td>\n",
       "      <td>2.17</td>\n",
       "      <td>6</td>\n",
       "      <td>9.2</td>\n",
       "    </tr>\n",
       "    <tr>\n",
       "      <th>01M019</th>\n",
       "      <td>0.641</td>\n",
       "      <td>0.92</td>\n",
       "      <td>0.30</td>\n",
       "      <td>0.96</td>\n",
       "      <td>0.86</td>\n",
       "      <td>4.0</td>\n",
       "      <td>2.98</td>\n",
       "      <td>6</td>\n",
       "      <td>7.0</td>\n",
       "    </tr>\n",
       "    <tr>\n",
       "      <th>01M020</th>\n",
       "      <td>0.744</td>\n",
       "      <td>0.94</td>\n",
       "      <td>0.20</td>\n",
       "      <td>0.87</td>\n",
       "      <td>0.80</td>\n",
       "      <td>2.0</td>\n",
       "      <td>2.54</td>\n",
       "      <td>6</td>\n",
       "      <td>13.3</td>\n",
       "    </tr>\n",
       "    <tr>\n",
       "      <th>01M034</th>\n",
       "      <td>0.860</td>\n",
       "      <td>0.92</td>\n",
       "      <td>0.28</td>\n",
       "      <td>0.85</td>\n",
       "      <td>0.89</td>\n",
       "      <td>4.0</td>\n",
       "      <td>2.47</td>\n",
       "      <td>9</td>\n",
       "      <td>10.9</td>\n",
       "    </tr>\n",
       "    <tr>\n",
       "      <th>01M063</th>\n",
       "      <td>0.730</td>\n",
       "      <td>0.93</td>\n",
       "      <td>0.23</td>\n",
       "      <td>0.90</td>\n",
       "      <td>0.89</td>\n",
       "      <td>3.0</td>\n",
       "      <td>2.54</td>\n",
       "      <td>6</td>\n",
       "      <td>10.6</td>\n",
       "    </tr>\n",
       "  </tbody>\n",
       "</table>\n",
       "</div>"
      ],
      "text/plain": [
       "               Economic Need Index  Student Attendance Rate  \\\n",
       "Location Code                                                 \n",
       "01M015                       0.919                     0.94   \n",
       "01M019                       0.641                     0.92   \n",
       "01M020                       0.744                     0.94   \n",
       "01M034                       0.860                     0.92   \n",
       "01M063                       0.730                     0.93   \n",
       "\n",
       "               Percent of Students Chronically Absent  Rigorous Instruction %  \\\n",
       "Location Code                                                                   \n",
       "01M015                                           0.18                    0.89   \n",
       "01M019                                           0.30                    0.96   \n",
       "01M020                                           0.20                    0.87   \n",
       "01M034                                           0.28                    0.85   \n",
       "01M063                                           0.23                    0.90   \n",
       "\n",
       "               Strong Family-Community Ties %  Student Achievement Rating  \\\n",
       "Location Code                                                               \n",
       "01M015                                   0.85                         2.0   \n",
       "01M019                                   0.86                         4.0   \n",
       "01M020                                   0.80                         2.0   \n",
       "01M034                                   0.89                         4.0   \n",
       "01M063                                   0.89                         3.0   \n",
       "\n",
       "               Average Math Proficiency  Grade_range  \\\n",
       "Location Code                                          \n",
       "01M015                             2.17            6   \n",
       "01M019                             2.98            6   \n",
       "01M020                             2.54            6   \n",
       "01M034                             2.47            9   \n",
       "01M063                             2.54            6   \n",
       "\n",
       "               School Pupil-Teacher Ratio  \n",
       "Location Code                              \n",
       "01M015                                9.2  \n",
       "01M019                                7.0  \n",
       "01M020                               13.3  \n",
       "01M034                               10.9  \n",
       "01M063                               10.6  "
      ]
     },
     "execution_count": 26,
     "metadata": {},
     "output_type": "execute_result"
    }
   ],
   "source": [
    "cols_to_drop = ['Supportive Environment %', \n",
    "                'Effective School Leadership %', \n",
    "                'Trust %', \n",
    "                'Collaborative Teachers %']\n",
    "final_df.drop(cols_to_drop, axis=1, inplace=True)\n",
    "final_df.head()"
   ]
  },
  {
   "cell_type": "code",
   "execution_count": 3,
   "metadata": {},
   "outputs": [],
   "source": [
    "def acheivement_score(rating):\n",
    "    '''\n",
    "    Takes the rating passed to it and returns an integer\n",
    "    value representing how school meets target goals\n",
    "    '''\n",
    "    if rating == 'Exceeding Target':\n",
    "        return 4\n",
    "    if rating == 'Meeting Target':\n",
    "        return 3\n",
    "    if rating == 'Approaching Target':\n",
    "        return 2\n",
    "    if rating == 'Not Meeting Target':\n",
    "        return 1\n",
    "    else:\n",
    "        return None"
   ]
  },
  {
   "cell_type": "code",
   "execution_count": 4,
   "metadata": {},
   "outputs": [],
   "source": [
    "def percent_cols_to_float(df):\n",
    "    '''\n",
    "    For any dataframe passed in, returns a new dataframe where\n",
    "    values are floats between 0 and 1 representing the respective\n",
    "    rate or percent in that column\n",
    "    '''\n",
    "    for col in df.columns:\n",
    "        if 'Rate' in col or 'Percent' in col or '%' in col:\n",
    "            df[col] = df[col].apply(lambda x: float(x.replace('%',''))*.01)\n",
    "    return df"
   ]
  },
  {
   "cell_type": "code",
   "execution_count": 5,
   "metadata": {},
   "outputs": [],
   "source": [
    "def make_grades_int(grade):\n",
    "    '''\n",
    "    Takes a grade and returns an integer representative of that \n",
    "    grade in the school system\n",
    "    '''\n",
    "    if grade == 'PK':\n",
    "        return -1\n",
    "    elif grade == '0K':\n",
    "        return 0\n",
    "    else:\n",
    "        return int(grade)"
   ]
  },
  {
   "cell_type": "code",
   "execution_count": 30,
   "metadata": {},
   "outputs": [],
   "source": [
    "def grid_search_classifier(clf, param_grid, scoring):\n",
    "    grid_clf = GridSearchCV(clf, param_grid, scoring='f1_weighted')\n",
    "    grid_clf.fit(X_train, y_train)\n",
    "\n",
    "    best_parameters = grid_clf.best_params_\n",
    "\n",
    "    print(\"Grid Search found the following optimal parameters: \")\n",
    "    for param_name in sorted(best_parameters.keys()):\n",
    "        print(\"%s: %r\" % (param_name, best_parameters[param_name]))\n",
    "\n",
    "    y_pred = grid_clf.predict(X_test)\n",
    "\n",
    "    print()\n",
    "    print(confusion_matrix(y_test, y_pred))\n",
    "    print(classification_report(y_test, y_pred))\n",
    "    print('Accuracy score:', round(accuracy_score(y_test, y_pred),2))\n",
    "\n",
    "    cm = confusion_matrix(y_test, y_pred)\n",
    "    df_cm = pd.DataFrame(cm.astype('float') / cm.sum(axis=1)[:, np.newaxis],\n",
    "                         index =['F','T'], \n",
    "                         columns=['F','T'])\n",
    "    plt.figure(figsize = (7,5))\n",
    "    sns.heatmap(df_cm, annot=True, cmap='Greens')\n",
    "    plt.xlabel('Pred Val')\n",
    "    plt.ylabel('True Val')\n",
    "    plt.show()\n",
    "    return grid_clf"
   ]
  },
  {
   "cell_type": "code",
   "execution_count": 31,
   "metadata": {},
   "outputs": [],
   "source": [
    "def plot_ROC(y_test, X_test, grid_clf):\n",
    "    fpr, tpr, thresholds = roc_curve(y_test, grid_clf.predict_proba(X_test)[:,1])\n",
    "\n",
    "    sns.set_style(\"darkgrid\")\n",
    "    print('AUC: {}'.format(auc(fpr, tpr)))\n",
    "    plt.figure(figsize=(10,8))\n",
    "    plt.plot(fpr, tpr, color='darkorange', label='ROC curve')\n",
    "    plt.plot([0, 1], [0, 1], color='navy')\n",
    "    plt.xlim([0.0, 1.0])\n",
    "    plt.ylim([0.0, 1.05])\n",
    "    plt.yticks([i/10.0 for i in range(11)])\n",
    "    plt.xticks([i/10.0 for i in range(11)])\n",
    "    plt.xlabel('False Positive Rate')\n",
    "    plt.ylabel('True Positive Rate')\n",
    "    plt.title('ROC Curve')\n",
    "    plt.legend(loc=\"lower right\")\n",
    "    plt.show()"
   ]
  },
  {
   "cell_type": "code",
   "execution_count": 22,
   "metadata": {},
   "outputs": [],
   "source": [
    "upper_quartile = final_df['Average Math Proficiency'].quantile(.75)\n",
    "y = final_df['Average Math Proficiency'].apply(lambda x: 1 if x >= upper_quartile else 0)\n",
    "X = final_df.drop('Average Math Proficiency', axis=1)\n",
    "features = X.columns"
   ]
  },
  {
   "cell_type": "code",
   "execution_count": 23,
   "metadata": {},
   "outputs": [],
   "source": [
    "X = StandardScaler().fit_transform(X.astype({'Grade_range': 'float64'}))"
   ]
  },
  {
   "cell_type": "code",
   "execution_count": null,
   "metadata": {},
   "outputs": [],
   "source": []
  }
 ],
 "metadata": {
  "kernelspec": {
   "display_name": "Python 3",
   "language": "python",
   "name": "python3"
  },
  "language_info": {
   "codemirror_mode": {
    "name": "ipython",
    "version": 3
   },
   "file_extension": ".py",
   "mimetype": "text/x-python",
   "name": "python",
   "nbconvert_exporter": "python",
   "pygments_lexer": "ipython3",
   "version": "3.7.3"
  }
 },
 "nbformat": 4,
 "nbformat_minor": 2
}
